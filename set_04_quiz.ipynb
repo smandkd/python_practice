{
 "cells": [
  {
   "cell_type": "code",
   "execution_count": 1,
   "id": "ce065ed3",
   "metadata": {},
   "outputs": [],
   "source": [
    "\"Dataset_04.csv\""
   ]
  },
  {
   "cell_type": "markdown",
   "id": "92f6f605",
   "metadata": {},
   "source": [
    "<img src=\"Dataset_04.png\" height=\"350\" width=\"500\">"
   ]
  },
  {
   "cell_type": "markdown",
   "id": "f1817be4",
   "metadata": {},
   "source": [
    "### 1. 한국인의 1 인당 육류 소비량이 해가 갈수록 증가하는 것으로 보여 상관분석을 통하여 확인하려고 한다 .\n",
    "- 데이터 파일로부터 한국 데이터만 추출한다. 한국은 KOR 로 표기되어 있다\n",
    "- 년도별 육류 소비량 합계를 구하여 TIME 과 Value 간의 상관분석을 수행하고 상관계수를 소수점 셋째 자리에서 반올림하여 소수점 둘째 자리까지만 기술하시오.\n",
    "\n",
    "(답안 예시) 0.55"
   ]
  },
  {
   "cell_type": "code",
   "execution_count": 2,
   "id": "00d8116c",
   "metadata": {},
   "outputs": [],
   "source": [
    "import pandas as pd\n",
    "from scipy.stats import pearsonr"
   ]
  },
  {
   "cell_type": "code",
   "execution_count": 3,
   "id": "690a0627",
   "metadata": {},
   "outputs": [
    {
     "data": {
      "text/html": [
       "<div>\n",
       "<style scoped>\n",
       "    .dataframe tbody tr th:only-of-type {\n",
       "        vertical-align: middle;\n",
       "    }\n",
       "\n",
       "    .dataframe tbody tr th {\n",
       "        vertical-align: top;\n",
       "    }\n",
       "\n",
       "    .dataframe thead th {\n",
       "        text-align: right;\n",
       "    }\n",
       "</style>\n",
       "<table border=\"1\" class=\"dataframe\">\n",
       "  <thead>\n",
       "    <tr style=\"text-align: right;\">\n",
       "      <th></th>\n",
       "      <th>LOCATION</th>\n",
       "      <th>SUBJECT</th>\n",
       "      <th>TIME</th>\n",
       "      <th>Value</th>\n",
       "    </tr>\n",
       "  </thead>\n",
       "  <tbody>\n",
       "    <tr>\n",
       "      <th>0</th>\n",
       "      <td>AUS</td>\n",
       "      <td>BEEF</td>\n",
       "      <td>1991</td>\n",
       "      <td>27.721815</td>\n",
       "    </tr>\n",
       "    <tr>\n",
       "      <th>1</th>\n",
       "      <td>AUS</td>\n",
       "      <td>BEEF</td>\n",
       "      <td>1992</td>\n",
       "      <td>26.199591</td>\n",
       "    </tr>\n",
       "  </tbody>\n",
       "</table>\n",
       "</div>"
      ],
      "text/plain": [
       "  LOCATION SUBJECT  TIME      Value\n",
       "0      AUS    BEEF  1991  27.721815\n",
       "1      AUS    BEEF  1992  26.199591"
      ]
     },
     "execution_count": 3,
     "metadata": {},
     "output_type": "execute_result"
    }
   ],
   "source": [
    "df = pd.read_csv(\"Dataset_04.csv\")\n",
    "df.head(2)"
   ]
  },
  {
   "cell_type": "code",
   "execution_count": 4,
   "id": "63ce9ecf",
   "metadata": {},
   "outputs": [
    {
     "data": {
      "text/html": [
       "<div>\n",
       "<style scoped>\n",
       "    .dataframe tbody tr th:only-of-type {\n",
       "        vertical-align: middle;\n",
       "    }\n",
       "\n",
       "    .dataframe tbody tr th {\n",
       "        vertical-align: top;\n",
       "    }\n",
       "\n",
       "    .dataframe thead th {\n",
       "        text-align: right;\n",
       "    }\n",
       "</style>\n",
       "<table border=\"1\" class=\"dataframe\">\n",
       "  <thead>\n",
       "    <tr style=\"text-align: right;\">\n",
       "      <th></th>\n",
       "      <th>LOCATION</th>\n",
       "      <th>SUBJECT</th>\n",
       "      <th>TIME</th>\n",
       "      <th>Value</th>\n",
       "    </tr>\n",
       "  </thead>\n",
       "  <tbody>\n",
       "    <tr>\n",
       "      <th>442</th>\n",
       "      <td>KOR</td>\n",
       "      <td>BEEF</td>\n",
       "      <td>1991</td>\n",
       "      <td>5.085481</td>\n",
       "    </tr>\n",
       "    <tr>\n",
       "      <th>443</th>\n",
       "      <td>KOR</td>\n",
       "      <td>BEEF</td>\n",
       "      <td>1992</td>\n",
       "      <td>5.685434</td>\n",
       "    </tr>\n",
       "    <tr>\n",
       "      <th>444</th>\n",
       "      <td>KOR</td>\n",
       "      <td>BEEF</td>\n",
       "      <td>1993</td>\n",
       "      <td>5.325765</td>\n",
       "    </tr>\n",
       "    <tr>\n",
       "      <th>445</th>\n",
       "      <td>KOR</td>\n",
       "      <td>BEEF</td>\n",
       "      <td>1994</td>\n",
       "      <td>5.698819</td>\n",
       "    </tr>\n",
       "    <tr>\n",
       "      <th>446</th>\n",
       "      <td>KOR</td>\n",
       "      <td>BEEF</td>\n",
       "      <td>1995</td>\n",
       "      <td>6.568429</td>\n",
       "    </tr>\n",
       "    <tr>\n",
       "      <th>...</th>\n",
       "      <td>...</td>\n",
       "      <td>...</td>\n",
       "      <td>...</td>\n",
       "      <td>...</td>\n",
       "    </tr>\n",
       "    <tr>\n",
       "      <th>583</th>\n",
       "      <td>KOR</td>\n",
       "      <td>SHEEP</td>\n",
       "      <td>2022</td>\n",
       "      <td>0.197951</td>\n",
       "    </tr>\n",
       "    <tr>\n",
       "      <th>584</th>\n",
       "      <td>KOR</td>\n",
       "      <td>SHEEP</td>\n",
       "      <td>2023</td>\n",
       "      <td>0.199098</td>\n",
       "    </tr>\n",
       "    <tr>\n",
       "      <th>585</th>\n",
       "      <td>KOR</td>\n",
       "      <td>SHEEP</td>\n",
       "      <td>2024</td>\n",
       "      <td>0.200266</td>\n",
       "    </tr>\n",
       "    <tr>\n",
       "      <th>586</th>\n",
       "      <td>KOR</td>\n",
       "      <td>SHEEP</td>\n",
       "      <td>2025</td>\n",
       "      <td>0.201451</td>\n",
       "    </tr>\n",
       "    <tr>\n",
       "      <th>587</th>\n",
       "      <td>KOR</td>\n",
       "      <td>SHEEP</td>\n",
       "      <td>2026</td>\n",
       "      <td>0.202656</td>\n",
       "    </tr>\n",
       "  </tbody>\n",
       "</table>\n",
       "<p>146 rows × 4 columns</p>\n",
       "</div>"
      ],
      "text/plain": [
       "    LOCATION SUBJECT  TIME     Value\n",
       "442      KOR    BEEF  1991  5.085481\n",
       "443      KOR    BEEF  1992  5.685434\n",
       "444      KOR    BEEF  1993  5.325765\n",
       "445      KOR    BEEF  1994  5.698819\n",
       "446      KOR    BEEF  1995  6.568429\n",
       "..       ...     ...   ...       ...\n",
       "583      KOR   SHEEP  2022  0.197951\n",
       "584      KOR   SHEEP  2023  0.199098\n",
       "585      KOR   SHEEP  2024  0.200266\n",
       "586      KOR   SHEEP  2025  0.201451\n",
       "587      KOR   SHEEP  2026  0.202656\n",
       "\n",
       "[146 rows x 4 columns]"
      ]
     },
     "execution_count": 4,
     "metadata": {},
     "output_type": "execute_result"
    }
   ],
   "source": [
    "df_condi = df.loc[(df[\"LOCATION\"] == \"KOR\")]\n",
    "df_condi"
   ]
  },
  {
   "cell_type": "code",
   "execution_count": 13,
   "id": "94fadbf1",
   "metadata": {},
   "outputs": [],
   "source": [
    "stat, p = pearsonr(df_condi[\"TIME\"], df_condi[\"Value\"])"
   ]
  },
  {
   "cell_type": "code",
   "execution_count": 15,
   "id": "74cf5320",
   "metadata": {},
   "outputs": [
    {
     "name": "stdout",
     "output_type": "stream",
     "text": [
      "0.32671137230310565\n",
      "5.7035818920684335e-05\n"
     ]
    }
   ],
   "source": [
    "print(stat)\n",
    "print(p)"
   ]
  },
  {
   "cell_type": "markdown",
   "id": "139e1654",
   "metadata": {},
   "source": [
    "-------------------------------------------------------------"
   ]
  },
  {
   "cell_type": "code",
   "execution_count": 5,
   "id": "cf322124",
   "metadata": {},
   "outputs": [],
   "source": [
    "df_kor = df.loc[df[\"LOCATION\"] == \"KOR\",]"
   ]
  },
  {
   "cell_type": "code",
   "execution_count": 27,
   "id": "00a12b19",
   "metadata": {},
   "outputs": [
    {
     "data": {
      "text/plain": [
       "array(['BEEF', 'PIG', 'POULTRY', 'SHEEP'], dtype=object)"
      ]
     },
     "execution_count": 27,
     "metadata": {},
     "output_type": "execute_result"
    }
   ],
   "source": [
    "df_kor[\"SUBJECT\"].unique()"
   ]
  },
  {
   "cell_type": "code",
   "execution_count": 6,
   "id": "27143b79",
   "metadata": {},
   "outputs": [],
   "source": [
    "df_kor_agg = df_kor.groupby(\"TIME\")[\"Value\"].sum().reset_index()"
   ]
  },
  {
   "cell_type": "code",
   "execution_count": 7,
   "id": "9db1e135",
   "metadata": {},
   "outputs": [
    {
     "data": {
      "text/html": [
       "<div>\n",
       "<style scoped>\n",
       "    .dataframe tbody tr th:only-of-type {\n",
       "        vertical-align: middle;\n",
       "    }\n",
       "\n",
       "    .dataframe tbody tr th {\n",
       "        vertical-align: top;\n",
       "    }\n",
       "\n",
       "    .dataframe thead th {\n",
       "        text-align: right;\n",
       "    }\n",
       "</style>\n",
       "<table border=\"1\" class=\"dataframe\">\n",
       "  <thead>\n",
       "    <tr style=\"text-align: right;\">\n",
       "      <th></th>\n",
       "      <th>TIME</th>\n",
       "      <th>Value</th>\n",
       "    </tr>\n",
       "  </thead>\n",
       "  <tbody>\n",
       "    <tr>\n",
       "      <th>TIME</th>\n",
       "      <td>1.000000</td>\n",
       "      <td>0.326711</td>\n",
       "    </tr>\n",
       "    <tr>\n",
       "      <th>Value</th>\n",
       "      <td>0.326711</td>\n",
       "      <td>1.000000</td>\n",
       "    </tr>\n",
       "  </tbody>\n",
       "</table>\n",
       "</div>"
      ],
      "text/plain": [
       "           TIME     Value\n",
       "TIME   1.000000  0.326711\n",
       "Value  0.326711  1.000000"
      ]
     },
     "execution_count": 7,
     "metadata": {},
     "output_type": "execute_result"
    }
   ],
   "source": [
    "df_kor.corr()"
   ]
  },
  {
   "cell_type": "code",
   "execution_count": 29,
   "id": "f2fc1809",
   "metadata": {},
   "outputs": [
    {
     "data": {
      "text/html": [
       "<div>\n",
       "<style scoped>\n",
       "    .dataframe tbody tr th:only-of-type {\n",
       "        vertical-align: middle;\n",
       "    }\n",
       "\n",
       "    .dataframe tbody tr th {\n",
       "        vertical-align: top;\n",
       "    }\n",
       "\n",
       "    .dataframe thead th {\n",
       "        text-align: right;\n",
       "    }\n",
       "</style>\n",
       "<table border=\"1\" class=\"dataframe\">\n",
       "  <thead>\n",
       "    <tr style=\"text-align: right;\">\n",
       "      <th></th>\n",
       "      <th>TIME</th>\n",
       "      <th>Value</th>\n",
       "    </tr>\n",
       "  </thead>\n",
       "  <tbody>\n",
       "    <tr>\n",
       "      <th>TIME</th>\n",
       "      <td>1.00</td>\n",
       "      <td>0.96</td>\n",
       "    </tr>\n",
       "    <tr>\n",
       "      <th>Value</th>\n",
       "      <td>0.96</td>\n",
       "      <td>1.00</td>\n",
       "    </tr>\n",
       "  </tbody>\n",
       "</table>\n",
       "</div>"
      ],
      "text/plain": [
       "       TIME  Value\n",
       "TIME   1.00   0.96\n",
       "Value  0.96   1.00"
      ]
     },
     "execution_count": 29,
     "metadata": {},
     "output_type": "execute_result"
    }
   ],
   "source": [
    "df_kor_agg.corr().round(2)"
   ]
  },
  {
   "cell_type": "markdown",
   "id": "8ade2369",
   "metadata": {},
   "source": [
    "### 2. 한국 인근 국가 가운데 식생의 유사성이 상대적으로 높은 일본(JPN) 과 비교하여 , 연도별 소비량에 평균 차이가 있는지 분석하고자 한다.\n",
    "- 두 국가의 데이터중 공통으로 기록된 연도를 기준으로 분석을 실시하시오.\n",
    "- 두 국가의 육류별 소비량을 연도기준으로 비교하는 대응표본 t 검정을 수행하시오.\n",
    "- 두 국가 간의 연도별 소비량 차이가 없는 것으로 판단할 수 있는 육류 종류를 모두 적으시오. \n",
    "- 가설검정은 유의수준 5% 기준으로 실시하시오.\n",
    "(알파벳 순서) (답안 예시) BEEF, PIG, POULTRY, SHEEP"
   ]
  },
  {
   "cell_type": "markdown",
   "id": "d90c73b6",
   "metadata": {},
   "source": [
    "------------------------------------------------------------"
   ]
  },
  {
   "cell_type": "code",
   "execution_count": 32,
   "id": "c7ad5779",
   "metadata": {},
   "outputs": [],
   "source": [
    "df_jpn=df.loc[df[\"LOCATION\"] == \"JPN\", ]"
   ]
  },
  {
   "cell_type": "code",
   "execution_count": 34,
   "id": "89ac01c0",
   "metadata": {},
   "outputs": [],
   "source": [
    "df_join = df_kor.merge(df_jpn,\n",
    "                       left_on = [\"SUBJECT\", \"TIME\"],\n",
    "                       right_on = [\"SUBJECT\", \"TIME\"],\n",
    "                       how = \"inner\")"
   ]
  },
  {
   "cell_type": "code",
   "execution_count": 35,
   "id": "b62571b8",
   "metadata": {},
   "outputs": [
    {
     "name": "stdout",
     "output_type": "stream",
     "text": [
      "146\n"
     ]
    },
    {
     "data": {
      "text/html": [
       "<div>\n",
       "<style scoped>\n",
       "    .dataframe tbody tr th:only-of-type {\n",
       "        vertical-align: middle;\n",
       "    }\n",
       "\n",
       "    .dataframe tbody tr th {\n",
       "        vertical-align: top;\n",
       "    }\n",
       "\n",
       "    .dataframe thead th {\n",
       "        text-align: right;\n",
       "    }\n",
       "</style>\n",
       "<table border=\"1\" class=\"dataframe\">\n",
       "  <thead>\n",
       "    <tr style=\"text-align: right;\">\n",
       "      <th></th>\n",
       "      <th>LOCATION_x</th>\n",
       "      <th>SUBJECT</th>\n",
       "      <th>TIME</th>\n",
       "      <th>Value_x</th>\n",
       "      <th>LOCATION_y</th>\n",
       "      <th>Value_y</th>\n",
       "    </tr>\n",
       "  </thead>\n",
       "  <tbody>\n",
       "    <tr>\n",
       "      <th>0</th>\n",
       "      <td>KOR</td>\n",
       "      <td>BEEF</td>\n",
       "      <td>1991</td>\n",
       "      <td>5.085481</td>\n",
       "      <td>JPN</td>\n",
       "      <td>6.517055</td>\n",
       "    </tr>\n",
       "    <tr>\n",
       "      <th>1</th>\n",
       "      <td>KOR</td>\n",
       "      <td>BEEF</td>\n",
       "      <td>1992</td>\n",
       "      <td>5.685434</td>\n",
       "      <td>JPN</td>\n",
       "      <td>6.766244</td>\n",
       "    </tr>\n",
       "    <tr>\n",
       "      <th>2</th>\n",
       "      <td>KOR</td>\n",
       "      <td>BEEF</td>\n",
       "      <td>1993</td>\n",
       "      <td>5.325765</td>\n",
       "      <td>JPN</td>\n",
       "      <td>7.406407</td>\n",
       "    </tr>\n",
       "  </tbody>\n",
       "</table>\n",
       "</div>"
      ],
      "text/plain": [
       "  LOCATION_x SUBJECT  TIME   Value_x LOCATION_y   Value_y\n",
       "0        KOR    BEEF  1991  5.085481        JPN  6.517055\n",
       "1        KOR    BEEF  1992  5.685434        JPN  6.766244\n",
       "2        KOR    BEEF  1993  5.325765        JPN  7.406407"
      ]
     },
     "execution_count": 35,
     "metadata": {},
     "output_type": "execute_result"
    }
   ],
   "source": [
    "print(len(df_join))\n",
    "df_join.head(3)"
   ]
  },
  {
   "cell_type": "code",
   "execution_count": 36,
   "id": "a391be7e",
   "metadata": {},
   "outputs": [],
   "source": [
    "from scipy.stats import ttest_rel"
   ]
  },
  {
   "cell_type": "code",
   "execution_count": 39,
   "id": "267ab493",
   "metadata": {},
   "outputs": [
    {
     "data": {
      "text/plain": [
       "0.0"
      ]
     },
     "execution_count": 39,
     "metadata": {},
     "output_type": "execute_result"
    }
   ],
   "source": [
    "stat, p = ttest_rel(df_join.loc[df_join[\"SUBJECT\"] == \"BEEF\", \"Value_x\"],\n",
    "                    df_join.loc[df_join[\"SUBJECT\"] == \"BEEF\", \"Value_y\"])\n",
    "round(p, 3) # 귀무가설을 기각하고 대립가설을 채택하여 두 집단간 평균 차이가 유의미하게 남"
   ]
  },
  {
   "cell_type": "code",
   "execution_count": 42,
   "id": "abfeb10f",
   "metadata": {},
   "outputs": [
    {
     "data": {
      "text/plain": [
       "0.0"
      ]
     },
     "execution_count": 42,
     "metadata": {},
     "output_type": "execute_result"
    }
   ],
   "source": [
    "stat, p = ttest_rel(df_join.loc[df_join[\"SUBJECT\"] == \"PIG\", \"Value_x\"],\n",
    "                    df_join.loc[df_join[\"SUBJECT\"] == \"PIG\", \"Value_y\"])\n",
    "round(p, 3) # 귀무가설을 기각하고 대립가설을 채택하여 두 집단간 평균 차이가 유의미하게 남"
   ]
  },
  {
   "cell_type": "code",
   "execution_count": 41,
   "id": "5371f83d",
   "metadata": {},
   "outputs": [
    {
     "data": {
      "text/plain": [
       "0.469"
      ]
     },
     "execution_count": 41,
     "metadata": {},
     "output_type": "execute_result"
    }
   ],
   "source": [
    "stat, p = ttest_rel(df_join.loc[df_join[\"SUBJECT\"] == \"POULTRY\", \"Value_x\"],\n",
    "                    df_join.loc[df_join[\"SUBJECT\"] == \"POULTRY\", \"Value_y\"])\n",
    "round(p, 3) # 귀무가설을 기각하지 못하여 두 집단간 평균이 유의미하게 차이난다고 보기가 어려움"
   ]
  },
  {
   "cell_type": "code",
   "execution_count": 40,
   "id": "fcb60921",
   "metadata": {},
   "outputs": [
    {
     "data": {
      "text/plain": [
       "0.0"
      ]
     },
     "execution_count": 40,
     "metadata": {},
     "output_type": "execute_result"
    }
   ],
   "source": [
    "stat, p = ttest_rel(df_join.loc[df_join[\"SUBJECT\"] == \"SHEEP\", \"Value_x\"],\n",
    "                    df_join.loc[df_join[\"SUBJECT\"] == \"SHEEP\", \"Value_y\"])\n",
    "round(p, 3)# 귀무가설을 기각하고 대립가설을 채택하여 두 집단간 평균 차이가 유의미하게 남"
   ]
  },
  {
   "cell_type": "code",
   "execution_count": null,
   "id": "6eae55ae",
   "metadata": {},
   "outputs": [],
   "source": []
  },
  {
   "cell_type": "code",
   "execution_count": null,
   "id": "18805298",
   "metadata": {},
   "outputs": [],
   "source": []
  },
  {
   "cell_type": "code",
   "execution_count": null,
   "id": "04688fbd",
   "metadata": {},
   "outputs": [],
   "source": []
  },
  {
   "cell_type": "code",
   "execution_count": null,
   "id": "ec4bdc59",
   "metadata": {},
   "outputs": [],
   "source": []
  },
  {
   "cell_type": "code",
   "execution_count": null,
   "id": "01a5d75d",
   "metadata": {},
   "outputs": [],
   "source": []
  },
  {
   "cell_type": "markdown",
   "id": "4d11e1b4",
   "metadata": {},
   "source": [
    "### 3. (한국만포함한데이터에서) Time을 독립변수로, Value를 종속변수로하여 육류종류(SUBJECT) 별로 회귀분석을 수행하였을 때, 가장높은결정계수를가진모델의 학습 오차중 RMSE를 반올림 하여 소수점 둘 째자리까지 기술하시오. \n",
    " - statsmodels의 ols() 함수를 사용하시오.\n",
    "(답안예시) 21.12"
   ]
  },
  {
   "cell_type": "code",
   "execution_count": 43,
   "id": "a431fb43",
   "metadata": {},
   "outputs": [],
   "source": [
    "from statsmodels.formula.api import ols\n",
    "from sklearn.metrics import mean_squared_error\n"
   ]
  },
  {
   "cell_type": "code",
   "execution_count": 46,
   "id": "341728e6",
   "metadata": {},
   "outputs": [
    {
     "data": {
      "text/plain": [
       "0.8354558055303123"
      ]
     },
     "execution_count": 46,
     "metadata": {},
     "output_type": "execute_result"
    }
   ],
   "source": [
    "model = ols(formula = \"Value ~ TIME\",\n",
    "            data = df_kor.loc[df_kor[\"SUBJECT\"] == \"BEEF\", ]).fit()\n",
    "model.rsquared"
   ]
  },
  {
   "cell_type": "code",
   "execution_count": 51,
   "id": "cf20ce03",
   "metadata": {},
   "outputs": [
    {
     "data": {
      "text/plain": [
       "0.004082992795654161"
      ]
     },
     "execution_count": 51,
     "metadata": {},
     "output_type": "execute_result"
    }
   ],
   "source": [
    "model2 = ols(formula = \"Value ~ TIME\",\n",
    "            data = df_kor.loc[df_kor[\"SUBJECT\"] == \"PIG\", ]).fit()\n",
    "model.rsquared"
   ]
  },
  {
   "cell_type": "code",
   "execution_count": 52,
   "id": "404df966",
   "metadata": {},
   "outputs": [
    {
     "data": {
      "text/plain": [
       "0.004082992795654161"
      ]
     },
     "execution_count": 52,
     "metadata": {},
     "output_type": "execute_result"
    }
   ],
   "source": [
    "model3 = ols(formula = \"Value ~ TIME\",\n",
    "            data = df_kor.loc[df_kor[\"SUBJECT\"] == \"POULTRY\", ]).fit()\n",
    "model.rsquared"
   ]
  },
  {
   "cell_type": "code",
   "execution_count": 53,
   "id": "7ee86f9c",
   "metadata": {},
   "outputs": [
    {
     "data": {
      "text/plain": [
       "0.004082992795654161"
      ]
     },
     "execution_count": 53,
     "metadata": {},
     "output_type": "execute_result"
    }
   ],
   "source": [
    "model4 = ols(formula = \"Value ~ TIME\",\n",
    "            data = df_kor.loc[df_kor[\"SUBJECT\"] == \"SHEEP\", ]).fit()\n",
    "model.rsquared"
   ]
  },
  {
   "cell_type": "code",
   "execution_count": 54,
   "id": "f2e0e7af",
   "metadata": {},
   "outputs": [
    {
     "data": {
      "text/plain": [
       "8.576805720117543"
      ]
     },
     "execution_count": 54,
     "metadata": {},
     "output_type": "execute_result"
    }
   ],
   "source": [
    "pred = model3.predict(df_kor)\n",
    "mean_squared_error(y_true = df_kor[\"Value\"], \n",
    "                   y_pred = pred)**0.5"
   ]
  },
  {
   "cell_type": "code",
   "execution_count": null,
   "id": "2dd300c1",
   "metadata": {},
   "outputs": [],
   "source": []
  },
  {
   "cell_type": "code",
   "execution_count": null,
   "id": "2c361136",
   "metadata": {},
   "outputs": [],
   "source": []
  },
  {
   "cell_type": "code",
   "execution_count": null,
   "id": "6fd89fda",
   "metadata": {},
   "outputs": [],
   "source": []
  },
  {
   "cell_type": "code",
   "execution_count": null,
   "id": "21bdce22",
   "metadata": {},
   "outputs": [],
   "source": []
  }
 ],
 "metadata": {
  "kernelspec": {
   "display_name": "Python 3",
   "language": "python",
   "name": "python3"
  },
  "language_info": {
   "codemirror_mode": {
    "name": "ipython",
    "version": 3
   },
   "file_extension": ".py",
   "mimetype": "text/x-python",
   "name": "python",
   "nbconvert_exporter": "python",
   "pygments_lexer": "ipython3",
   "version": "3.8.8"
  }
 },
 "nbformat": 4,
 "nbformat_minor": 5
}
