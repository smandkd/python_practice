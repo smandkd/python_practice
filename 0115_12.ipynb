{
 "cells": [
  {
   "cell_type": "code",
   "execution_count": 1,
   "id": "dc38ea7c",
   "metadata": {},
   "outputs": [],
   "source": [
    "import pandas as pd"
   ]
  },
  {
   "cell_type": "code",
   "execution_count": 2,
   "id": "a06f5a67",
   "metadata": {},
   "outputs": [],
   "source": [
    "df = pd.read_csv(\"Dataset_12.csv\")"
   ]
  },
  {
   "cell_type": "code",
   "execution_count": 10,
   "id": "8ccdf77a",
   "metadata": {},
   "outputs": [
    {
     "data": {
      "text/html": [
       "<div>\n",
       "<style scoped>\n",
       "    .dataframe tbody tr th:only-of-type {\n",
       "        vertical-align: middle;\n",
       "    }\n",
       "\n",
       "    .dataframe tbody tr th {\n",
       "        vertical-align: top;\n",
       "    }\n",
       "\n",
       "    .dataframe thead th {\n",
       "        text-align: right;\n",
       "    }\n",
       "</style>\n",
       "<table border=\"1\" class=\"dataframe\">\n",
       "  <thead>\n",
       "    <tr style=\"text-align: right;\">\n",
       "      <th></th>\n",
       "      <th>Age</th>\n",
       "      <th>Dependent_Count</th>\n",
       "      <th>is_Married</th>\n",
       "      <th>Read_Book_per_Year</th>\n",
       "    </tr>\n",
       "  </thead>\n",
       "  <tbody>\n",
       "    <tr>\n",
       "      <th>Age</th>\n",
       "      <td>1.000000</td>\n",
       "      <td>-0.143767</td>\n",
       "      <td>0.040360</td>\n",
       "      <td>0.796843</td>\n",
       "    </tr>\n",
       "    <tr>\n",
       "      <th>Dependent_Count</th>\n",
       "      <td>-0.143767</td>\n",
       "      <td>1.000000</td>\n",
       "      <td>0.024472</td>\n",
       "      <td>-0.132591</td>\n",
       "    </tr>\n",
       "    <tr>\n",
       "      <th>is_Married</th>\n",
       "      <td>0.040360</td>\n",
       "      <td>0.024472</td>\n",
       "      <td>1.000000</td>\n",
       "      <td>0.027221</td>\n",
       "    </tr>\n",
       "    <tr>\n",
       "      <th>Read_Book_per_Year</th>\n",
       "      <td>0.796843</td>\n",
       "      <td>-0.132591</td>\n",
       "      <td>0.027221</td>\n",
       "      <td>1.000000</td>\n",
       "    </tr>\n",
       "  </tbody>\n",
       "</table>\n",
       "</div>"
      ],
      "text/plain": [
       "                         Age  Dependent_Count  is_Married  Read_Book_per_Year\n",
       "Age                 1.000000        -0.143767    0.040360            0.796843\n",
       "Dependent_Count    -0.143767         1.000000    0.024472           -0.132591\n",
       "is_Married          0.040360         0.024472    1.000000            0.027221\n",
       "Read_Book_per_Year  0.796843        -0.132591    0.027221            1.000000"
      ]
     },
     "execution_count": 10,
     "metadata": {},
     "output_type": "execute_result"
    }
   ],
   "source": [
    "df.corr()"
   ]
  },
  {
   "cell_type": "code",
   "execution_count": 12,
   "id": "941b12c3",
   "metadata": {},
   "outputs": [
    {
     "data": {
      "text/plain": [
       "Read_Book_per_Year    0.796843\n",
       "dtype: float64"
      ]
     },
     "execution_count": 12,
     "metadata": {},
     "output_type": "execute_result"
    }
   ],
   "source": [
    "df.corr().iloc[:-1,[-1] ].max()"
   ]
  },
  {
   "cell_type": "code",
   "execution_count": 13,
   "id": "3e8d120a",
   "metadata": {},
   "outputs": [
    {
     "data": {
      "text/html": [
       "<div>\n",
       "<style scoped>\n",
       "    .dataframe tbody tr th:only-of-type {\n",
       "        vertical-align: middle;\n",
       "    }\n",
       "\n",
       "    .dataframe tbody tr th {\n",
       "        vertical-align: top;\n",
       "    }\n",
       "\n",
       "    .dataframe thead th {\n",
       "        text-align: right;\n",
       "    }\n",
       "</style>\n",
       "<table border=\"1\" class=\"dataframe\">\n",
       "  <thead>\n",
       "    <tr style=\"text-align: right;\">\n",
       "      <th></th>\n",
       "      <th>index</th>\n",
       "      <th>variable</th>\n",
       "      <th>value</th>\n",
       "    </tr>\n",
       "  </thead>\n",
       "  <tbody>\n",
       "    <tr>\n",
       "      <th>0</th>\n",
       "      <td>Age</td>\n",
       "      <td>Age</td>\n",
       "      <td>1.000000</td>\n",
       "    </tr>\n",
       "    <tr>\n",
       "      <th>1</th>\n",
       "      <td>Dependent_Count</td>\n",
       "      <td>Age</td>\n",
       "      <td>-0.143767</td>\n",
       "    </tr>\n",
       "    <tr>\n",
       "      <th>2</th>\n",
       "      <td>is_Married</td>\n",
       "      <td>Age</td>\n",
       "      <td>0.040360</td>\n",
       "    </tr>\n",
       "    <tr>\n",
       "      <th>3</th>\n",
       "      <td>Read_Book_per_Year</td>\n",
       "      <td>Age</td>\n",
       "      <td>0.796843</td>\n",
       "    </tr>\n",
       "    <tr>\n",
       "      <th>4</th>\n",
       "      <td>Age</td>\n",
       "      <td>Dependent_Count</td>\n",
       "      <td>-0.143767</td>\n",
       "    </tr>\n",
       "    <tr>\n",
       "      <th>5</th>\n",
       "      <td>Dependent_Count</td>\n",
       "      <td>Dependent_Count</td>\n",
       "      <td>1.000000</td>\n",
       "    </tr>\n",
       "    <tr>\n",
       "      <th>6</th>\n",
       "      <td>is_Married</td>\n",
       "      <td>Dependent_Count</td>\n",
       "      <td>0.024472</td>\n",
       "    </tr>\n",
       "    <tr>\n",
       "      <th>7</th>\n",
       "      <td>Read_Book_per_Year</td>\n",
       "      <td>Dependent_Count</td>\n",
       "      <td>-0.132591</td>\n",
       "    </tr>\n",
       "    <tr>\n",
       "      <th>8</th>\n",
       "      <td>Age</td>\n",
       "      <td>is_Married</td>\n",
       "      <td>0.040360</td>\n",
       "    </tr>\n",
       "    <tr>\n",
       "      <th>9</th>\n",
       "      <td>Dependent_Count</td>\n",
       "      <td>is_Married</td>\n",
       "      <td>0.024472</td>\n",
       "    </tr>\n",
       "    <tr>\n",
       "      <th>10</th>\n",
       "      <td>is_Married</td>\n",
       "      <td>is_Married</td>\n",
       "      <td>1.000000</td>\n",
       "    </tr>\n",
       "    <tr>\n",
       "      <th>11</th>\n",
       "      <td>Read_Book_per_Year</td>\n",
       "      <td>is_Married</td>\n",
       "      <td>0.027221</td>\n",
       "    </tr>\n",
       "    <tr>\n",
       "      <th>12</th>\n",
       "      <td>Age</td>\n",
       "      <td>Read_Book_per_Year</td>\n",
       "      <td>0.796843</td>\n",
       "    </tr>\n",
       "    <tr>\n",
       "      <th>13</th>\n",
       "      <td>Dependent_Count</td>\n",
       "      <td>Read_Book_per_Year</td>\n",
       "      <td>-0.132591</td>\n",
       "    </tr>\n",
       "    <tr>\n",
       "      <th>14</th>\n",
       "      <td>is_Married</td>\n",
       "      <td>Read_Book_per_Year</td>\n",
       "      <td>0.027221</td>\n",
       "    </tr>\n",
       "    <tr>\n",
       "      <th>15</th>\n",
       "      <td>Read_Book_per_Year</td>\n",
       "      <td>Read_Book_per_Year</td>\n",
       "      <td>1.000000</td>\n",
       "    </tr>\n",
       "  </tbody>\n",
       "</table>\n",
       "</div>"
      ],
      "text/plain": [
       "                 index            variable     value\n",
       "0                  Age                 Age  1.000000\n",
       "1      Dependent_Count                 Age -0.143767\n",
       "2           is_Married                 Age  0.040360\n",
       "3   Read_Book_per_Year                 Age  0.796843\n",
       "4                  Age     Dependent_Count -0.143767\n",
       "5      Dependent_Count     Dependent_Count  1.000000\n",
       "6           is_Married     Dependent_Count  0.024472\n",
       "7   Read_Book_per_Year     Dependent_Count -0.132591\n",
       "8                  Age          is_Married  0.040360\n",
       "9      Dependent_Count          is_Married  0.024472\n",
       "10          is_Married          is_Married  1.000000\n",
       "11  Read_Book_per_Year          is_Married  0.027221\n",
       "12                 Age  Read_Book_per_Year  0.796843\n",
       "13     Dependent_Count  Read_Book_per_Year -0.132591\n",
       "14          is_Married  Read_Book_per_Year  0.027221\n",
       "15  Read_Book_per_Year  Read_Book_per_Year  1.000000"
      ]
     },
     "execution_count": 13,
     "metadata": {},
     "output_type": "execute_result"
    }
   ],
   "source": [
    "df.corr().reset_index().melt(id_vars = \"index\")"
   ]
  },
  {
   "cell_type": "markdown",
   "id": "d71c0b20",
   "metadata": {},
   "source": [
    "//----------------------------------------------------------------------------------------------\n"
   ]
  },
  {
   "cell_type": "code",
   "execution_count": 15,
   "id": "75553ecc",
   "metadata": {},
   "outputs": [],
   "source": [
    "from scipy.stats import ttest_ind"
   ]
  },
  {
   "cell_type": "code",
   "execution_count": 19,
   "id": "8ab12914",
   "metadata": {},
   "outputs": [
    {
     "name": "stdout",
     "output_type": "stream",
     "text": [
      "0.269\n"
     ]
    }
   ],
   "source": [
    "stat, p = ttest_ind(df.loc[df[\"Education_Level\"].isin([\"석사\",\"박사\"]), \"Read_Book_per_Year\"],\n",
    "                    df.loc[~df[\"Education_Level\"].isin([\"석사\",\"박사\"]), \"Read_Book_per_Year\"],\n",
    "                    )\n",
    "print(round(p, 3))"
   ]
  },
  {
   "cell_type": "markdown",
   "id": "6d865d4c",
   "metadata": {},
   "source": [
    "//---------------------------------------------------------------"
   ]
  },
  {
   "cell_type": "code",
   "execution_count": 20,
   "id": "ec5a9664",
   "metadata": {},
   "outputs": [
    {
     "data": {
      "text/html": [
       "<div>\n",
       "<style scoped>\n",
       "    .dataframe tbody tr th:only-of-type {\n",
       "        vertical-align: middle;\n",
       "    }\n",
       "\n",
       "    .dataframe tbody tr th {\n",
       "        vertical-align: top;\n",
       "    }\n",
       "\n",
       "    .dataframe thead th {\n",
       "        text-align: right;\n",
       "    }\n",
       "</style>\n",
       "<table border=\"1\" class=\"dataframe\">\n",
       "  <thead>\n",
       "    <tr style=\"text-align: right;\">\n",
       "      <th></th>\n",
       "      <th>Age</th>\n",
       "      <th>Gender</th>\n",
       "      <th>Dependent_Count</th>\n",
       "      <th>Education_Level</th>\n",
       "      <th>is_Married</th>\n",
       "      <th>Read_Book_per_Year</th>\n",
       "      <th>Income_Range</th>\n",
       "    </tr>\n",
       "  </thead>\n",
       "  <tbody>\n",
       "    <tr>\n",
       "      <th>0</th>\n",
       "      <td>52</td>\n",
       "      <td>M</td>\n",
       "      <td>2</td>\n",
       "      <td>석사</td>\n",
       "      <td>1</td>\n",
       "      <td>45</td>\n",
       "      <td>D</td>\n",
       "    </tr>\n",
       "    <tr>\n",
       "      <th>1</th>\n",
       "      <td>46</td>\n",
       "      <td>F</td>\n",
       "      <td>4</td>\n",
       "      <td>박사</td>\n",
       "      <td>1</td>\n",
       "      <td>26</td>\n",
       "      <td>X</td>\n",
       "    </tr>\n",
       "  </tbody>\n",
       "</table>\n",
       "</div>"
      ],
      "text/plain": [
       "   Age Gender  Dependent_Count Education_Level  is_Married  \\\n",
       "0   52      M                2              석사           1   \n",
       "1   46      F                4              박사           1   \n",
       "\n",
       "   Read_Book_per_Year Income_Range  \n",
       "0                  45            D  \n",
       "1                  26            X  "
      ]
     },
     "execution_count": 20,
     "metadata": {},
     "output_type": "execute_result"
    }
   ],
   "source": [
    "df.head(2)"
   ]
  },
  {
   "cell_type": "code",
   "execution_count": 22,
   "id": "24450194",
   "metadata": {},
   "outputs": [
    {
     "data": {
      "text/plain": [
       "array(['석사', '박사', '학사', '고졸'], dtype=object)"
      ]
     },
     "execution_count": 22,
     "metadata": {},
     "output_type": "execute_result"
    }
   ],
   "source": [
    "df[\"Education_Level\"].unique()"
   ]
  },
  {
   "cell_type": "code",
   "execution_count": 21,
   "id": "e9f8774a",
   "metadata": {},
   "outputs": [],
   "source": [
    "df_q3 = df.copy()"
   ]
  },
  {
   "cell_type": "code",
   "execution_count": 23,
   "id": "712abc15",
   "metadata": {},
   "outputs": [],
   "source": [
    "df_q3 = df_q3.loc[(df_q3[\"Education_Level\"] != \"고졸\") & (df_q3[\"Income_Range\"] != \"X\"), ]"
   ]
  },
  {
   "cell_type": "code",
   "execution_count": 24,
   "id": "87077f90",
   "metadata": {},
   "outputs": [
    {
     "name": "stdout",
     "output_type": "stream",
     "text": [
      "5000\n",
      "3088\n"
     ]
    }
   ],
   "source": [
    "print(len(df))\n",
    "print(len(df_q3))"
   ]
  },
  {
   "cell_type": "code",
   "execution_count": 26,
   "id": "60648cad",
   "metadata": {},
   "outputs": [],
   "source": [
    "from statsmodels.formula.api import ols"
   ]
  },
  {
   "cell_type": "code",
   "execution_count": 27,
   "id": "d14bac4a",
   "metadata": {},
   "outputs": [],
   "source": [
    "model = ols(\"Read_Book_per_Year ~ Age + Dependent_Count + is_Married\", \n",
    "            data = df_q3).fit()"
   ]
  },
  {
   "cell_type": "code",
   "execution_count": 28,
   "id": "05387902",
   "metadata": {},
   "outputs": [
    {
     "data": {
      "text/plain": [
       "<statsmodels.regression.linear_model.RegressionResultsWrapper at 0x268908fcbb0>"
      ]
     },
     "execution_count": 28,
     "metadata": {},
     "output_type": "execute_result"
    }
   ],
   "source": [
    "model"
   ]
  },
  {
   "cell_type": "code",
   "execution_count": 30,
   "id": "107ee7e2",
   "metadata": {},
   "outputs": [
    {
     "data": {
      "text/plain": [
       "0.7964402066284877"
      ]
     },
     "execution_count": 30,
     "metadata": {},
     "output_type": "execute_result"
    }
   ],
   "source": [
    "model.params[\"Age\"]"
   ]
  },
  {
   "cell_type": "code",
   "execution_count": 31,
   "id": "5b0ea21e",
   "metadata": {},
   "outputs": [
    {
     "data": {
      "text/plain": [
       "8"
      ]
     },
     "execution_count": 31,
     "metadata": {},
     "output_type": "execute_result"
    }
   ],
   "source": [
    "round(model.params[\"Age\"] * 10)"
   ]
  },
  {
   "cell_type": "code",
   "execution_count": null,
   "id": "b1ccb183",
   "metadata": {},
   "outputs": [],
   "source": []
  },
  {
   "cell_type": "code",
   "execution_count": null,
   "id": "24342af4",
   "metadata": {},
   "outputs": [],
   "source": []
  },
  {
   "cell_type": "code",
   "execution_count": null,
   "id": "64bc774b",
   "metadata": {},
   "outputs": [],
   "source": []
  },
  {
   "cell_type": "code",
   "execution_count": null,
   "id": "4c9f5c84",
   "metadata": {},
   "outputs": [],
   "source": []
  },
  {
   "cell_type": "code",
   "execution_count": null,
   "id": "2b374696",
   "metadata": {},
   "outputs": [],
   "source": []
  },
  {
   "cell_type": "code",
   "execution_count": null,
   "id": "a9228e16",
   "metadata": {},
   "outputs": [],
   "source": []
  }
 ],
 "metadata": {
  "kernelspec": {
   "display_name": "Python 3",
   "language": "python",
   "name": "python3"
  },
  "language_info": {
   "codemirror_mode": {
    "name": "ipython",
    "version": 3
   },
   "file_extension": ".py",
   "mimetype": "text/x-python",
   "name": "python",
   "nbconvert_exporter": "python",
   "pygments_lexer": "ipython3",
   "version": "3.8.8"
  }
 },
 "nbformat": 4,
 "nbformat_minor": 5
}
