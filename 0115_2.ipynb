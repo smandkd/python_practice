{
 "cells": [
  {
   "cell_type": "markdown",
   "id": "e49f0d8d",
   "metadata": {},
   "source": [
    "\"Dataset_02.csv\"\n",
    "1. 해당 데이터에 대한 EDA 를 수행하고 여성으로 혈압이 High, Cholesterol이 Normal 인 환자의 전체에 대비한 비율이 얼마인지 소수점 네번째 자리에서 반올림하여 소수점 셋째 자리까지 기술하시오.\n",
    "2. Age, Sex, BP, Cholesterol 및 Na_to_K 값이 Drug 타입에 영향을 미치는지 확인하기 위하여 아래와 같이 데이터를 변환하고 분석을 수행하시오. \n",
    "-Age_gr컬럼을 만들고, Age가20 미만은 ‘10’, 20부터 30 미만은 ‘20’, 30부터 40 미만은 ‘30’, \n",
    "40부터 50 미만은 ‘40’, 50부터 60 미만은 ‘50’, 60이상은 ‘60’으로 변환하시오. \n",
    "- Na_K_gr컬럼을 만들고 Na_to_k 값이 10이하는 ‘Lv1’, 20이하는 ‘Lv2’, 30이하는 ‘Lv3’, 30 \n",
    "초과는 ‘Lv4’로 변환하시오.\n",
    "- Sex, BP, Cholesterol, Age_gr, Na_K_gr이Drug 변수와 영향이 있는지 독립성 검정을\n",
    "수행하시오.\n",
    "-검정 수행 결과, Drug 타입과 연관성이 있는 변수는 몇 개인가? 연관성이 있는 변수 가운데 가장\n",
    "큰 p-value를찾아 소수점 여섯 번째 자리 이하는 버리고 소수점 다섯 번째 자리까지 기술하시오.\n",
    "\n",
    "3.Sex, BP, Cholesterol 등 세 개의 변수를 다음과 같이 변환하고 의사결정나무를 이용한 분석을\n",
    "수행하시오.\n",
    "- Sex는 M을 0, F를 1로 변환하여 Sex_cd변수 생성\n",
    "-BP는 LOW는 0, NORMAL은1 그리고 HIGH는 2로 변환하여 BP_cd변수 생성\n",
    "-Cholesterol은NORMAL은 0, HIGH는 1로 변환하여 Ch_cd생성\n",
    "-Age, Na_to_k, Sex_cd, BP_cd, Ch_cd를Feature로, Drug을Label로하여 의사결정나무를\n",
    "수행하고 Root Node의split feature와split value를기술하시오. \n",
    "이 때 split value는소수점 셋째 자리까지 반올림하여 기술하시오. (답안 예시) Age, 12.345\n",
    "3"
   ]
  },
  {
   "cell_type": "code",
   "execution_count": 1,
   "id": "1d44bb8c",
   "metadata": {},
   "outputs": [],
   "source": [
    "import pandas as pd"
   ]
  },
  {
   "cell_type": "code",
   "execution_count": 3,
   "id": "ca9cee3f",
   "metadata": {},
   "outputs": [
    {
     "data": {
      "text/html": [
       "<div>\n",
       "<style scoped>\n",
       "    .dataframe tbody tr th:only-of-type {\n",
       "        vertical-align: middle;\n",
       "    }\n",
       "\n",
       "    .dataframe tbody tr th {\n",
       "        vertical-align: top;\n",
       "    }\n",
       "\n",
       "    .dataframe thead th {\n",
       "        text-align: right;\n",
       "    }\n",
       "</style>\n",
       "<table border=\"1\" class=\"dataframe\">\n",
       "  <thead>\n",
       "    <tr style=\"text-align: right;\">\n",
       "      <th></th>\n",
       "      <th>Age</th>\n",
       "      <th>Sex</th>\n",
       "      <th>BP</th>\n",
       "      <th>Cholesterol</th>\n",
       "      <th>Na_to_K</th>\n",
       "      <th>Drug</th>\n",
       "    </tr>\n",
       "  </thead>\n",
       "  <tbody>\n",
       "    <tr>\n",
       "      <th>0</th>\n",
       "      <td>23</td>\n",
       "      <td>F</td>\n",
       "      <td>HIGH</td>\n",
       "      <td>HIGH</td>\n",
       "      <td>25.355</td>\n",
       "      <td>DrugY</td>\n",
       "    </tr>\n",
       "    <tr>\n",
       "      <th>1</th>\n",
       "      <td>47</td>\n",
       "      <td>M</td>\n",
       "      <td>LOW</td>\n",
       "      <td>HIGH</td>\n",
       "      <td>13.093</td>\n",
       "      <td>drugC</td>\n",
       "    </tr>\n",
       "  </tbody>\n",
       "</table>\n",
       "</div>"
      ],
      "text/plain": [
       "   Age Sex    BP Cholesterol  Na_to_K   Drug\n",
       "0   23   F  HIGH        HIGH   25.355  DrugY\n",
       "1   47   M   LOW        HIGH   13.093  drugC"
      ]
     },
     "execution_count": 3,
     "metadata": {},
     "output_type": "execute_result"
    }
   ],
   "source": [
    "df = pd.read_csv(\"Dataset_02.csv\")\n",
    "df.head(2)"
   ]
  },
  {
   "cell_type": "code",
   "execution_count": 11,
   "id": "a550eecb",
   "metadata": {},
   "outputs": [],
   "source": [
    "df_condi = df.loc[(df[\"Sex\"] == \"F\") & (df[\"BP\"] == \"HIGH\") & (df[\"Cholesterol\"] == \"NORMAL\")]"
   ]
  },
  {
   "cell_type": "code",
   "execution_count": 21,
   "id": "1cd342ae",
   "metadata": {},
   "outputs": [
    {
     "name": "stdout",
     "output_type": "stream",
     "text": [
      "0.21\n"
     ]
    }
   ],
   "source": [
    "print(len(df_condi)/len(df))\n"
   ]
  },
  {
   "cell_type": "code",
   "execution_count": null,
   "id": "45e0e99d",
   "metadata": {},
   "outputs": [],
   "source": []
  },
  {
   "cell_type": "code",
   "execution_count": null,
   "id": "97fbcfdd",
   "metadata": {},
   "outputs": [],
   "source": []
  },
  {
   "cell_type": "code",
   "execution_count": null,
   "id": "1461e6ca",
   "metadata": {},
   "outputs": [],
   "source": []
  },
  {
   "cell_type": "code",
   "execution_count": null,
   "id": "0e105eaf",
   "metadata": {},
   "outputs": [],
   "source": []
  },
  {
   "cell_type": "code",
   "execution_count": null,
   "id": "18507510",
   "metadata": {},
   "outputs": [],
   "source": []
  },
  {
   "cell_type": "code",
   "execution_count": null,
   "id": "ddfd8440",
   "metadata": {},
   "outputs": [],
   "source": []
  },
  {
   "cell_type": "code",
   "execution_count": null,
   "id": "1a9f22a9",
   "metadata": {},
   "outputs": [],
   "source": []
  },
  {
   "cell_type": "code",
   "execution_count": null,
   "id": "f49406ba",
   "metadata": {},
   "outputs": [],
   "source": []
  }
 ],
 "metadata": {
  "kernelspec": {
   "display_name": "Python 3",
   "language": "python",
   "name": "python3"
  },
  "language_info": {
   "codemirror_mode": {
    "name": "ipython",
    "version": 3
   },
   "file_extension": ".py",
   "mimetype": "text/x-python",
   "name": "python",
   "nbconvert_exporter": "python",
   "pygments_lexer": "ipython3",
   "version": "3.8.8"
  }
 },
 "nbformat": 4,
 "nbformat_minor": 5
}
