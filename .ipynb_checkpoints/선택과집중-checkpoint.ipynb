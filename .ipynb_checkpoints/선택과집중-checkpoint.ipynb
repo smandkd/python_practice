{
 "cells": [
  {
   "cell_type": "code",
   "execution_count": 1,
   "id": "62cb2b37",
   "metadata": {},
   "outputs": [],
   "source": [
    "import pandas as pd"
   ]
  },
  {
   "cell_type": "markdown",
   "id": "5ccd842c",
   "metadata": {},
   "source": [
    "1-1"
   ]
  },
  {
   "cell_type": "code",
   "execution_count": 2,
   "id": "3e90ad91",
   "metadata": {},
   "outputs": [],
   "source": [
    "df_1 = pd.read_csv(\"Dataset_01.csv\")"
   ]
  },
  {
   "cell_type": "code",
   "execution_count": 3,
   "id": "4566b7e9",
   "metadata": {},
   "outputs": [
    {
     "data": {
      "text/html": [
       "<div>\n",
       "<style scoped>\n",
       "    .dataframe tbody tr th:only-of-type {\n",
       "        vertical-align: middle;\n",
       "    }\n",
       "\n",
       "    .dataframe tbody tr th {\n",
       "        vertical-align: top;\n",
       "    }\n",
       "\n",
       "    .dataframe thead th {\n",
       "        text-align: right;\n",
       "    }\n",
       "</style>\n",
       "<table border=\"1\" class=\"dataframe\">\n",
       "  <thead>\n",
       "    <tr style=\"text-align: right;\">\n",
       "      <th></th>\n",
       "      <th>TV</th>\n",
       "      <th>Radio</th>\n",
       "      <th>Social_Media</th>\n",
       "      <th>Influencer</th>\n",
       "      <th>Sales</th>\n",
       "    </tr>\n",
       "  </thead>\n",
       "  <tbody>\n",
       "    <tr>\n",
       "      <th>0</th>\n",
       "      <td>16.0</td>\n",
       "      <td>6.566231</td>\n",
       "      <td>2.907983</td>\n",
       "      <td>Mega</td>\n",
       "      <td>54.732757</td>\n",
       "    </tr>\n",
       "    <tr>\n",
       "      <th>1</th>\n",
       "      <td>13.0</td>\n",
       "      <td>9.237765</td>\n",
       "      <td>2.409567</td>\n",
       "      <td>Mega</td>\n",
       "      <td>46.677897</td>\n",
       "    </tr>\n",
       "  </tbody>\n",
       "</table>\n",
       "</div>"
      ],
      "text/plain": [
       "     TV     Radio  Social_Media Influencer      Sales\n",
       "0  16.0  6.566231      2.907983       Mega  54.732757\n",
       "1  13.0  9.237765      2.409567       Mega  46.677897"
      ]
     },
     "execution_count": 3,
     "metadata": {},
     "output_type": "execute_result"
    }
   ],
   "source": [
    "df_1.head(2)"
   ]
  },
  {
   "cell_type": "code",
   "execution_count": 6,
   "id": "346116c7",
   "metadata": {},
   "outputs": [
    {
     "data": {
      "text/plain": [
       "26"
      ]
     },
     "execution_count": 6,
     "metadata": {},
     "output_type": "execute_result"
    }
   ],
   "source": [
    "df_1.isna().sum().sum()"
   ]
  },
  {
   "cell_type": "markdown",
   "id": "2332c967",
   "metadata": {},
   "source": [
    "ans:26"
   ]
  },
  {
   "cell_type": "markdown",
   "id": "45b8ace5",
   "metadata": {},
   "source": [
    "1-2"
   ]
  },
  {
   "cell_type": "code",
   "execution_count": 7,
   "id": "b3e27ce6",
   "metadata": {},
   "outputs": [
    {
     "data": {
      "text/html": [
       "<div>\n",
       "<style scoped>\n",
       "    .dataframe tbody tr th:only-of-type {\n",
       "        vertical-align: middle;\n",
       "    }\n",
       "\n",
       "    .dataframe tbody tr th {\n",
       "        vertical-align: top;\n",
       "    }\n",
       "\n",
       "    .dataframe thead th {\n",
       "        text-align: right;\n",
       "    }\n",
       "</style>\n",
       "<table border=\"1\" class=\"dataframe\">\n",
       "  <thead>\n",
       "    <tr style=\"text-align: right;\">\n",
       "      <th></th>\n",
       "      <th>TV</th>\n",
       "      <th>Radio</th>\n",
       "      <th>Social_Media</th>\n",
       "      <th>Sales</th>\n",
       "    </tr>\n",
       "  </thead>\n",
       "  <tbody>\n",
       "    <tr>\n",
       "      <th>TV</th>\n",
       "      <td>1.000000</td>\n",
       "      <td>0.869460</td>\n",
       "      <td>0.528168</td>\n",
       "      <td>0.999497</td>\n",
       "    </tr>\n",
       "    <tr>\n",
       "      <th>Radio</th>\n",
       "      <td>0.869460</td>\n",
       "      <td>1.000000</td>\n",
       "      <td>0.607452</td>\n",
       "      <td>0.869105</td>\n",
       "    </tr>\n",
       "    <tr>\n",
       "      <th>Social_Media</th>\n",
       "      <td>0.528168</td>\n",
       "      <td>0.607452</td>\n",
       "      <td>1.000000</td>\n",
       "      <td>0.528906</td>\n",
       "    </tr>\n",
       "    <tr>\n",
       "      <th>Sales</th>\n",
       "      <td>0.999497</td>\n",
       "      <td>0.869105</td>\n",
       "      <td>0.528906</td>\n",
       "      <td>1.000000</td>\n",
       "    </tr>\n",
       "  </tbody>\n",
       "</table>\n",
       "</div>"
      ],
      "text/plain": [
       "                    TV     Radio  Social_Media     Sales\n",
       "TV            1.000000  0.869460      0.528168  0.999497\n",
       "Radio         0.869460  1.000000      0.607452  0.869105\n",
       "Social_Media  0.528168  0.607452      1.000000  0.528906\n",
       "Sales         0.999497  0.869105      0.528906  1.000000"
      ]
     },
     "execution_count": 7,
     "metadata": {},
     "output_type": "execute_result"
    }
   ],
   "source": [
    "df_1.corr()"
   ]
  },
  {
   "cell_type": "markdown",
   "id": "e5f6ef42",
   "metadata": {},
   "source": [
    "ans:0.9995"
   ]
  },
  {
   "cell_type": "code",
   "execution_count": 8,
   "id": "4870a8c2",
   "metadata": {},
   "outputs": [],
   "source": [
    "from sklearn.linear_model import LinearRegression"
   ]
  },
  {
   "cell_type": "code",
   "execution_count": 10,
   "id": "b6553e6e",
   "metadata": {},
   "outputs": [],
   "source": [
    "x = df_1['TV']"
   ]
  },
  {
   "cell_type": "markdown",
   "id": "f11424c9",
   "metadata": {},
   "source": [
    "2-1"
   ]
  },
  {
   "cell_type": "code",
   "execution_count": 46,
   "id": "58db8ab7",
   "metadata": {},
   "outputs": [],
   "source": [
    "df_2 = pd.read_csv('Dataset_02.csv')"
   ]
  },
  {
   "cell_type": "code",
   "execution_count": 47,
   "id": "fb602b28",
   "metadata": {},
   "outputs": [
    {
     "data": {
      "text/html": [
       "<div>\n",
       "<style scoped>\n",
       "    .dataframe tbody tr th:only-of-type {\n",
       "        vertical-align: middle;\n",
       "    }\n",
       "\n",
       "    .dataframe tbody tr th {\n",
       "        vertical-align: top;\n",
       "    }\n",
       "\n",
       "    .dataframe thead th {\n",
       "        text-align: right;\n",
       "    }\n",
       "</style>\n",
       "<table border=\"1\" class=\"dataframe\">\n",
       "  <thead>\n",
       "    <tr style=\"text-align: right;\">\n",
       "      <th></th>\n",
       "      <th>Age</th>\n",
       "      <th>Sex</th>\n",
       "      <th>BP</th>\n",
       "      <th>Cholesterol</th>\n",
       "      <th>Na_to_K</th>\n",
       "      <th>Drug</th>\n",
       "    </tr>\n",
       "  </thead>\n",
       "  <tbody>\n",
       "    <tr>\n",
       "      <th>0</th>\n",
       "      <td>23</td>\n",
       "      <td>F</td>\n",
       "      <td>HIGH</td>\n",
       "      <td>HIGH</td>\n",
       "      <td>25.355</td>\n",
       "      <td>DrugY</td>\n",
       "    </tr>\n",
       "    <tr>\n",
       "      <th>1</th>\n",
       "      <td>47</td>\n",
       "      <td>M</td>\n",
       "      <td>LOW</td>\n",
       "      <td>HIGH</td>\n",
       "      <td>13.093</td>\n",
       "      <td>drugC</td>\n",
       "    </tr>\n",
       "    <tr>\n",
       "      <th>2</th>\n",
       "      <td>47</td>\n",
       "      <td>M</td>\n",
       "      <td>LOW</td>\n",
       "      <td>HIGH</td>\n",
       "      <td>10.114</td>\n",
       "      <td>drugC</td>\n",
       "    </tr>\n",
       "    <tr>\n",
       "      <th>3</th>\n",
       "      <td>28</td>\n",
       "      <td>F</td>\n",
       "      <td>NORMAL</td>\n",
       "      <td>HIGH</td>\n",
       "      <td>7.798</td>\n",
       "      <td>drugX</td>\n",
       "    </tr>\n",
       "    <tr>\n",
       "      <th>4</th>\n",
       "      <td>61</td>\n",
       "      <td>F</td>\n",
       "      <td>LOW</td>\n",
       "      <td>HIGH</td>\n",
       "      <td>18.043</td>\n",
       "      <td>DrugY</td>\n",
       "    </tr>\n",
       "    <tr>\n",
       "      <th>5</th>\n",
       "      <td>22</td>\n",
       "      <td>F</td>\n",
       "      <td>NORMAL</td>\n",
       "      <td>HIGH</td>\n",
       "      <td>8.607</td>\n",
       "      <td>drugX</td>\n",
       "    </tr>\n",
       "    <tr>\n",
       "      <th>6</th>\n",
       "      <td>49</td>\n",
       "      <td>F</td>\n",
       "      <td>NORMAL</td>\n",
       "      <td>HIGH</td>\n",
       "      <td>16.275</td>\n",
       "      <td>DrugY</td>\n",
       "    </tr>\n",
       "    <tr>\n",
       "      <th>7</th>\n",
       "      <td>41</td>\n",
       "      <td>M</td>\n",
       "      <td>LOW</td>\n",
       "      <td>HIGH</td>\n",
       "      <td>11.037</td>\n",
       "      <td>drugC</td>\n",
       "    </tr>\n",
       "    <tr>\n",
       "      <th>8</th>\n",
       "      <td>60</td>\n",
       "      <td>M</td>\n",
       "      <td>NORMAL</td>\n",
       "      <td>HIGH</td>\n",
       "      <td>15.171</td>\n",
       "      <td>DrugY</td>\n",
       "    </tr>\n",
       "    <tr>\n",
       "      <th>9</th>\n",
       "      <td>43</td>\n",
       "      <td>M</td>\n",
       "      <td>LOW</td>\n",
       "      <td>NORMAL</td>\n",
       "      <td>19.368</td>\n",
       "      <td>DrugY</td>\n",
       "    </tr>\n",
       "    <tr>\n",
       "      <th>10</th>\n",
       "      <td>47</td>\n",
       "      <td>F</td>\n",
       "      <td>LOW</td>\n",
       "      <td>HIGH</td>\n",
       "      <td>11.767</td>\n",
       "      <td>drugC</td>\n",
       "    </tr>\n",
       "    <tr>\n",
       "      <th>11</th>\n",
       "      <td>34</td>\n",
       "      <td>F</td>\n",
       "      <td>HIGH</td>\n",
       "      <td>NORMAL</td>\n",
       "      <td>19.199</td>\n",
       "      <td>DrugY</td>\n",
       "    </tr>\n",
       "    <tr>\n",
       "      <th>12</th>\n",
       "      <td>43</td>\n",
       "      <td>M</td>\n",
       "      <td>LOW</td>\n",
       "      <td>HIGH</td>\n",
       "      <td>15.376</td>\n",
       "      <td>DrugY</td>\n",
       "    </tr>\n",
       "    <tr>\n",
       "      <th>13</th>\n",
       "      <td>74</td>\n",
       "      <td>F</td>\n",
       "      <td>LOW</td>\n",
       "      <td>HIGH</td>\n",
       "      <td>20.942</td>\n",
       "      <td>DrugY</td>\n",
       "    </tr>\n",
       "    <tr>\n",
       "      <th>14</th>\n",
       "      <td>50</td>\n",
       "      <td>F</td>\n",
       "      <td>NORMAL</td>\n",
       "      <td>HIGH</td>\n",
       "      <td>12.703</td>\n",
       "      <td>drugX</td>\n",
       "    </tr>\n",
       "    <tr>\n",
       "      <th>15</th>\n",
       "      <td>16</td>\n",
       "      <td>F</td>\n",
       "      <td>HIGH</td>\n",
       "      <td>NORMAL</td>\n",
       "      <td>15.516</td>\n",
       "      <td>DrugY</td>\n",
       "    </tr>\n",
       "    <tr>\n",
       "      <th>16</th>\n",
       "      <td>69</td>\n",
       "      <td>M</td>\n",
       "      <td>LOW</td>\n",
       "      <td>NORMAL</td>\n",
       "      <td>11.455</td>\n",
       "      <td>drugX</td>\n",
       "    </tr>\n",
       "    <tr>\n",
       "      <th>17</th>\n",
       "      <td>43</td>\n",
       "      <td>M</td>\n",
       "      <td>HIGH</td>\n",
       "      <td>HIGH</td>\n",
       "      <td>13.972</td>\n",
       "      <td>drugA</td>\n",
       "    </tr>\n",
       "    <tr>\n",
       "      <th>18</th>\n",
       "      <td>23</td>\n",
       "      <td>M</td>\n",
       "      <td>LOW</td>\n",
       "      <td>HIGH</td>\n",
       "      <td>7.298</td>\n",
       "      <td>drugC</td>\n",
       "    </tr>\n",
       "    <tr>\n",
       "      <th>19</th>\n",
       "      <td>32</td>\n",
       "      <td>F</td>\n",
       "      <td>HIGH</td>\n",
       "      <td>NORMAL</td>\n",
       "      <td>25.974</td>\n",
       "      <td>DrugY</td>\n",
       "    </tr>\n",
       "  </tbody>\n",
       "</table>\n",
       "</div>"
      ],
      "text/plain": [
       "    Age Sex      BP Cholesterol  Na_to_K   Drug\n",
       "0    23   F    HIGH        HIGH   25.355  DrugY\n",
       "1    47   M     LOW        HIGH   13.093  drugC\n",
       "2    47   M     LOW        HIGH   10.114  drugC\n",
       "3    28   F  NORMAL        HIGH    7.798  drugX\n",
       "4    61   F     LOW        HIGH   18.043  DrugY\n",
       "5    22   F  NORMAL        HIGH    8.607  drugX\n",
       "6    49   F  NORMAL        HIGH   16.275  DrugY\n",
       "7    41   M     LOW        HIGH   11.037  drugC\n",
       "8    60   M  NORMAL        HIGH   15.171  DrugY\n",
       "9    43   M     LOW      NORMAL   19.368  DrugY\n",
       "10   47   F     LOW        HIGH   11.767  drugC\n",
       "11   34   F    HIGH      NORMAL   19.199  DrugY\n",
       "12   43   M     LOW        HIGH   15.376  DrugY\n",
       "13   74   F     LOW        HIGH   20.942  DrugY\n",
       "14   50   F  NORMAL        HIGH   12.703  drugX\n",
       "15   16   F    HIGH      NORMAL   15.516  DrugY\n",
       "16   69   M     LOW      NORMAL   11.455  drugX\n",
       "17   43   M    HIGH        HIGH   13.972  drugA\n",
       "18   23   M     LOW        HIGH    7.298  drugC\n",
       "19   32   F    HIGH      NORMAL   25.974  DrugY"
      ]
     },
     "execution_count": 47,
     "metadata": {},
     "output_type": "execute_result"
    }
   ],
   "source": [
    "df_2.head(20)"
   ]
  },
  {
   "cell_type": "code",
   "execution_count": 48,
   "id": "1c29672c",
   "metadata": {},
   "outputs": [
    {
     "data": {
      "text/plain": [
       "Age            0\n",
       "Sex            0\n",
       "BP             0\n",
       "Cholesterol    0\n",
       "Na_to_K        0\n",
       "Drug           0\n",
       "dtype: int64"
      ]
     },
     "execution_count": 48,
     "metadata": {},
     "output_type": "execute_result"
    }
   ],
   "source": [
    "df_2.isna().sum()"
   ]
  },
  {
   "cell_type": "code",
   "execution_count": 49,
   "id": "e6da412f",
   "metadata": {},
   "outputs": [],
   "source": [
    "df_2_cond1 = df_2['BP'] == 'HIGH'"
   ]
  },
  {
   "cell_type": "code",
   "execution_count": 50,
   "id": "016ed153",
   "metadata": {},
   "outputs": [
    {
     "data": {
      "text/plain": [
       "77"
      ]
     },
     "execution_count": 50,
     "metadata": {},
     "output_type": "execute_result"
    }
   ],
   "source": [
    "df_2_cond1.sum()"
   ]
  },
  {
   "cell_type": "code",
   "execution_count": 51,
   "id": "ba7f978f",
   "metadata": {},
   "outputs": [],
   "source": [
    "df_2_cond2 = df_2['Cholesterol'] == 'NORMAL'"
   ]
  },
  {
   "cell_type": "code",
   "execution_count": 52,
   "id": "5a0b6479",
   "metadata": {},
   "outputs": [
    {
     "data": {
      "text/plain": [
       "97"
      ]
     },
     "execution_count": 52,
     "metadata": {},
     "output_type": "execute_result"
    }
   ],
   "source": [
    "df_2_cond2.sum()"
   ]
  },
  {
   "cell_type": "code",
   "execution_count": 63,
   "id": "d16bdc3a",
   "metadata": {},
   "outputs": [],
   "source": [
    "df_2_cond3 = (df_2['BP'] == 'HIGH')&(df_2['Cholesterol'] == 'NORMAL')& (df_2['Sex'] == 'F')"
   ]
  },
  {
   "cell_type": "code",
   "execution_count": 64,
   "id": "fac8d84e",
   "metadata": {},
   "outputs": [
    {
     "data": {
      "text/plain": [
       "21"
      ]
     },
     "execution_count": 64,
     "metadata": {},
     "output_type": "execute_result"
    }
   ],
   "source": [
    "df_2_cond3.sum()"
   ]
  },
  {
   "cell_type": "code",
   "execution_count": 65,
   "id": "6c488150",
   "metadata": {},
   "outputs": [
    {
     "data": {
      "text/plain": [
       "0.105"
      ]
     },
     "execution_count": 65,
     "metadata": {},
     "output_type": "execute_result"
    }
   ],
   "source": [
    "21/200"
   ]
  },
  {
   "cell_type": "code",
   "execution_count": 66,
   "id": "db952c86",
   "metadata": {},
   "outputs": [],
   "source": [
    "import numpy as np"
   ]
  },
  {
   "cell_type": "code",
   "execution_count": 69,
   "id": "f812c6d1",
   "metadata": {},
   "outputs": [],
   "source": [
    "df_2['Age_gr'] = pd.cut(df_2['Age'], bins = [0,20,30,40,50,60,100]\n",
    "                        , labels=[10,20,30,40,50,60])"
   ]
  },
  {
   "cell_type": "code",
   "execution_count": 71,
   "id": "58e44578",
   "metadata": {},
   "outputs": [],
   "source": [
    "df_2['Na_K_gr'] = pd.cut(df_2['Na_to_K'], bins=[0,10,20,30,100],\n",
    "                            labels=['Lv1', 'Lv2', 'Lv3','Lv4'])"
   ]
  },
  {
   "cell_type": "code",
   "execution_count": 75,
   "id": "05e5fabe",
   "metadata": {},
   "outputs": [],
   "source": [
    "from scipy.stats import chi2_contingency"
   ]
  },
  {
   "cell_type": "code",
   "execution_count": 82,
   "id": "450c2229",
   "metadata": {},
   "outputs": [
    {
     "data": {
      "text/plain": [
       "(2.119248418109203,\n",
       " 0.7138369773987128,\n",
       " 4,\n",
       " array([[43.68, 11.04,  7.68,  7.68, 25.92],\n",
       "        [47.32, 11.96,  8.32,  8.32, 28.08]]))"
      ]
     },
     "execution_count": 82,
     "metadata": {},
     "output_type": "execute_result"
    }
   ],
   "source": [
    "chi2_contingency(pd.crosstab(df_2['Sex'],df_2['Drug']))"
   ]
  },
  {
   "cell_type": "code",
   "execution_count": 83,
   "id": "b9ac39f7",
   "metadata": {},
   "outputs": [
    {
     "data": {
      "text/plain": [
       "(143.2328718496999,\n",
       " 5.0417334144665895e-27,\n",
       " 8,\n",
       " array([[35.035,  8.855,  6.16 ,  6.16 , 20.79 ],\n",
       "        [29.12 ,  7.36 ,  5.12 ,  5.12 , 17.28 ],\n",
       "        [26.845,  6.785,  4.72 ,  4.72 , 15.93 ]]))"
      ]
     },
     "execution_count": 83,
     "metadata": {},
     "output_type": "execute_result"
    }
   ],
   "source": [
    "chi2_contingency(pd.crosstab(df_2['BP'],df_2['Drug']))"
   ]
  },
  {
   "cell_type": "code",
   "execution_count": 84,
   "id": "7fc7c997",
   "metadata": {},
   "outputs": [
    {
     "data": {
      "text/plain": [
       "(19.609657681313475,\n",
       " 0.0005962588389856497,\n",
       " 4,\n",
       " array([[46.865, 11.845,  8.24 ,  8.24 , 27.81 ],\n",
       "        [44.135, 11.155,  7.76 ,  7.76 , 26.19 ]]))"
      ]
     },
     "execution_count": 84,
     "metadata": {},
     "output_type": "execute_result"
    }
   ],
   "source": [
    "chi2_contingency(pd.crosstab(df_2['Cholesterol'],df_2['Drug']))"
   ]
  },
  {
   "cell_type": "code",
   "execution_count": 85,
   "id": "5ab4d9c0",
   "metadata": {},
   "outputs": [
    {
     "data": {
      "text/plain": [
       "(52.129250689904254,\n",
       " 0.00010902142317924978,\n",
       " 20,\n",
       " array([[ 7.28 ,  1.84 ,  1.28 ,  1.28 ,  4.32 ],\n",
       "        [14.56 ,  3.68 ,  2.56 ,  2.56 ,  8.64 ],\n",
       "        [17.745,  4.485,  3.12 ,  3.12 , 10.53 ],\n",
       "        [18.2  ,  4.6  ,  3.2  ,  3.2  , 10.8  ],\n",
       "        [15.015,  3.795,  2.64 ,  2.64 ,  8.91 ],\n",
       "        [18.2  ,  4.6  ,  3.2  ,  3.2  , 10.8  ]]))"
      ]
     },
     "execution_count": 85,
     "metadata": {},
     "output_type": "execute_result"
    }
   ],
   "source": [
    "chi2_contingency(pd.crosstab(df_2['Age_gr'],df_2['Drug']))"
   ]
  },
  {
   "cell_type": "code",
   "execution_count": 86,
   "id": "296f4352",
   "metadata": {},
   "outputs": [
    {
     "data": {
      "text/plain": [
       "(93.31006327437028,\n",
       " 1.1254641594413981e-14,\n",
       " 12,\n",
       " array([[17.29 ,  4.37 ,  3.04 ,  3.04 , 10.26 ],\n",
       "        [52.325, 13.225,  9.2  ,  9.2  , 31.05 ],\n",
       "        [15.925,  4.025,  2.8  ,  2.8  ,  9.45 ],\n",
       "        [ 5.46 ,  1.38 ,  0.96 ,  0.96 ,  3.24 ]]))"
      ]
     },
     "execution_count": 86,
     "metadata": {},
     "output_type": "execute_result"
    }
   ],
   "source": [
    "chi2_contingency(pd.crosstab(df_2['Na_K_gr'],df_2['Drug']))"
   ]
  },
  {
   "cell_type": "code",
   "execution_count": 94,
   "id": "6aaa0df6",
   "metadata": {},
   "outputs": [],
   "source": [
    "df_2['Sex_cd'] = (df_2['Sex']=='F')+0"
   ]
  },
  {
   "cell_type": "code",
   "execution_count": 95,
   "id": "0b12a120",
   "metadata": {},
   "outputs": [
    {
     "data": {
      "text/html": [
       "<div>\n",
       "<style scoped>\n",
       "    .dataframe tbody tr th:only-of-type {\n",
       "        vertical-align: middle;\n",
       "    }\n",
       "\n",
       "    .dataframe tbody tr th {\n",
       "        vertical-align: top;\n",
       "    }\n",
       "\n",
       "    .dataframe thead th {\n",
       "        text-align: right;\n",
       "    }\n",
       "</style>\n",
       "<table border=\"1\" class=\"dataframe\">\n",
       "  <thead>\n",
       "    <tr style=\"text-align: right;\">\n",
       "      <th></th>\n",
       "      <th>Age</th>\n",
       "      <th>Sex</th>\n",
       "      <th>BP</th>\n",
       "      <th>Cholesterol</th>\n",
       "      <th>Na_to_K</th>\n",
       "      <th>Drug</th>\n",
       "      <th>Age_gr</th>\n",
       "      <th>Na_K_gr</th>\n",
       "      <th>Sex_cd</th>\n",
       "    </tr>\n",
       "  </thead>\n",
       "  <tbody>\n",
       "    <tr>\n",
       "      <th>0</th>\n",
       "      <td>23</td>\n",
       "      <td>F</td>\n",
       "      <td>HIGH</td>\n",
       "      <td>HIGH</td>\n",
       "      <td>25.355</td>\n",
       "      <td>DrugY</td>\n",
       "      <td>20</td>\n",
       "      <td>Lv3</td>\n",
       "      <td>1</td>\n",
       "    </tr>\n",
       "    <tr>\n",
       "      <th>1</th>\n",
       "      <td>47</td>\n",
       "      <td>M</td>\n",
       "      <td>LOW</td>\n",
       "      <td>HIGH</td>\n",
       "      <td>13.093</td>\n",
       "      <td>drugC</td>\n",
       "      <td>40</td>\n",
       "      <td>Lv2</td>\n",
       "      <td>0</td>\n",
       "    </tr>\n",
       "  </tbody>\n",
       "</table>\n",
       "</div>"
      ],
      "text/plain": [
       "   Age Sex    BP Cholesterol  Na_to_K   Drug Age_gr Na_K_gr  Sex_cd\n",
       "0   23   F  HIGH        HIGH   25.355  DrugY     20     Lv3       1\n",
       "1   47   M   LOW        HIGH   13.093  drugC     40     Lv2       0"
      ]
     },
     "execution_count": 95,
     "metadata": {},
     "output_type": "execute_result"
    }
   ],
   "source": [
    "df_2.head(2)"
   ]
  },
  {
   "cell_type": "code",
   "execution_count": 98,
   "id": "afe5e799",
   "metadata": {},
   "outputs": [],
   "source": [
    "df_2['BP_cd']=df_2['BP'].replace({'LOW':0,'NORMAL':1,'HIGH':2})"
   ]
  },
  {
   "cell_type": "code",
   "execution_count": 99,
   "id": "40a96647",
   "metadata": {},
   "outputs": [
    {
     "data": {
      "text/html": [
       "<div>\n",
       "<style scoped>\n",
       "    .dataframe tbody tr th:only-of-type {\n",
       "        vertical-align: middle;\n",
       "    }\n",
       "\n",
       "    .dataframe tbody tr th {\n",
       "        vertical-align: top;\n",
       "    }\n",
       "\n",
       "    .dataframe thead th {\n",
       "        text-align: right;\n",
       "    }\n",
       "</style>\n",
       "<table border=\"1\" class=\"dataframe\">\n",
       "  <thead>\n",
       "    <tr style=\"text-align: right;\">\n",
       "      <th></th>\n",
       "      <th>Age</th>\n",
       "      <th>Sex</th>\n",
       "      <th>BP</th>\n",
       "      <th>Cholesterol</th>\n",
       "      <th>Na_to_K</th>\n",
       "      <th>Drug</th>\n",
       "      <th>Age_gr</th>\n",
       "      <th>Na_K_gr</th>\n",
       "      <th>Sex_cd</th>\n",
       "      <th>BP_cd</th>\n",
       "    </tr>\n",
       "  </thead>\n",
       "  <tbody>\n",
       "    <tr>\n",
       "      <th>0</th>\n",
       "      <td>23</td>\n",
       "      <td>F</td>\n",
       "      <td>HIGH</td>\n",
       "      <td>HIGH</td>\n",
       "      <td>25.355</td>\n",
       "      <td>DrugY</td>\n",
       "      <td>20</td>\n",
       "      <td>Lv3</td>\n",
       "      <td>1</td>\n",
       "      <td>2</td>\n",
       "    </tr>\n",
       "    <tr>\n",
       "      <th>1</th>\n",
       "      <td>47</td>\n",
       "      <td>M</td>\n",
       "      <td>LOW</td>\n",
       "      <td>HIGH</td>\n",
       "      <td>13.093</td>\n",
       "      <td>drugC</td>\n",
       "      <td>40</td>\n",
       "      <td>Lv2</td>\n",
       "      <td>0</td>\n",
       "      <td>0</td>\n",
       "    </tr>\n",
       "  </tbody>\n",
       "</table>\n",
       "</div>"
      ],
      "text/plain": [
       "   Age Sex    BP Cholesterol  Na_to_K   Drug Age_gr Na_K_gr  Sex_cd  BP_cd\n",
       "0   23   F  HIGH        HIGH   25.355  DrugY     20     Lv3       1      2\n",
       "1   47   M   LOW        HIGH   13.093  drugC     40     Lv2       0      0"
      ]
     },
     "execution_count": 99,
     "metadata": {},
     "output_type": "execute_result"
    }
   ],
   "source": [
    "df_2.head(2)"
   ]
  },
  {
   "cell_type": "code",
   "execution_count": 100,
   "id": "cd822f5f",
   "metadata": {},
   "outputs": [],
   "source": [
    "df_2['Ch_cd'] = df_2['Cholesterol'].replace({\"NORMAL\":0, \"HIGH\":1})"
   ]
  },
  {
   "cell_type": "code",
   "execution_count": 102,
   "id": "1db17ee9",
   "metadata": {},
   "outputs": [],
   "source": [
    "from sklearn.tree import DecisionTreeClassifier"
   ]
  },
  {
   "cell_type": "code",
   "execution_count": 103,
   "id": "1ae753f4",
   "metadata": {},
   "outputs": [],
   "source": [
    "df_2_x = df_2[['Age', 'Na_to_K','Sex_cd','BP_cd','Ch_cd']]"
   ]
  },
  {
   "cell_type": "code",
   "execution_count": 105,
   "id": "09df4de0",
   "metadata": {},
   "outputs": [],
   "source": [
    "model = DecisionTreeClassifier().fit(df_2_x,y=df_2['Drug'])"
   ]
  },
  {
   "cell_type": "code",
   "execution_count": 107,
   "id": "f92e186d",
   "metadata": {},
   "outputs": [],
   "source": [
    "from sklearn.tree import export_graphviz"
   ]
  },
  {
   "cell_type": "code",
   "execution_count": 108,
   "id": "cee4d3f1",
   "metadata": {},
   "outputs": [
    {
     "name": "stdout",
     "output_type": "stream",
     "text": [
      "digraph Tree {\n",
      "node [shape=box] ;\n",
      "0 [label=\"Na_to_K <= 14.829\\ngini = 0.694\\nsamples = 200\\nvalue = [91, 23, 16, 16, 54]\"] ;\n",
      "1 [label=\"BP_cd <= 1.5\\ngini = 0.667\\nsamples = 109\\nvalue = [0, 23, 16, 16, 54]\"] ;\n",
      "0 -> 1 [labeldistance=2.5, labelangle=45, headlabel=\"True\"] ;\n",
      "2 [label=\"BP_cd <= 0.5\\ngini = 0.353\\nsamples = 70\\nvalue = [0, 0, 0, 16, 54]\"] ;\n",
      "1 -> 2 ;\n",
      "3 [label=\"Ch_cd <= 0.5\\ngini = 0.498\\nsamples = 34\\nvalue = [0, 0, 0, 16, 18]\"] ;\n",
      "2 -> 3 ;\n",
      "4 [label=\"gini = 0.0\\nsamples = 18\\nvalue = [0, 0, 0, 0, 18]\"] ;\n",
      "3 -> 4 ;\n",
      "5 [label=\"gini = 0.0\\nsamples = 16\\nvalue = [0, 0, 0, 16, 0]\"] ;\n",
      "3 -> 5 ;\n",
      "6 [label=\"gini = 0.0\\nsamples = 36\\nvalue = [0, 0, 0, 0, 36]\"] ;\n",
      "2 -> 6 ;\n",
      "7 [label=\"Age <= 50.5\\ngini = 0.484\\nsamples = 39\\nvalue = [0, 23, 16, 0, 0]\"] ;\n",
      "1 -> 7 ;\n",
      "8 [label=\"gini = 0.0\\nsamples = 23\\nvalue = [0, 23, 0, 0, 0]\"] ;\n",
      "7 -> 8 ;\n",
      "9 [label=\"gini = 0.0\\nsamples = 16\\nvalue = [0, 0, 16, 0, 0]\"] ;\n",
      "7 -> 9 ;\n",
      "10 [label=\"gini = 0.0\\nsamples = 91\\nvalue = [91, 0, 0, 0, 0]\"] ;\n",
      "0 -> 10 [labeldistance=2.5, labelangle=-45, headlabel=\"False\"] ;\n",
      "}\n"
     ]
    }
   ],
   "source": [
    "print(export_graphviz(model, feature_names=['Age','Na_to_K','Sex_cd','BP_cd','Ch_cd']))"
   ]
  },
  {
   "cell_type": "code",
   "execution_count": null,
   "id": "fbe00070",
   "metadata": {},
   "outputs": [],
   "source": [
    "export_graphviz(model, feature_names=['Age','Na_to_K','Sex_cd','BP_cd','Ch_cd'])"
   ]
  },
  {
   "cell_type": "markdown",
   "id": "b0f78469",
   "metadata": {},
   "source": [
    "3-1"
   ]
  },
  {
   "cell_type": "code",
   "execution_count": 109,
   "id": "c5754a36",
   "metadata": {},
   "outputs": [],
   "source": [
    "df_3 = pd.read_csv('Dataset_03.csv')"
   ]
  },
  {
   "cell_type": "code",
   "execution_count": 111,
   "id": "a3a11506",
   "metadata": {},
   "outputs": [
    {
     "data": {
      "text/plain": [
       "long_hair                    0\n",
       "forehead_width_cm            0\n",
       "forehead_height_cm           0\n",
       "nose_wide                    0\n",
       "nose_long                    0\n",
       "lips_thin                    0\n",
       "distance_nose_to_lip_long    0\n",
       "gender                       0\n",
       "dtype: int64"
      ]
     },
     "execution_count": 111,
     "metadata": {},
     "output_type": "execute_result"
    }
   ],
   "source": [
    "df_3.isna().sum()"
   ]
  },
  {
   "cell_type": "code",
   "execution_count": 116,
   "id": "3cd9e624",
   "metadata": {},
   "outputs": [],
   "source": [
    "df_3['forehead_ratio'] = df_3['forehead_width_cm']/df_3['forehead_height_cm']"
   ]
  },
  {
   "cell_type": "code",
   "execution_count": 119,
   "id": "a9f4ff11",
   "metadata": {},
   "outputs": [],
   "source": [
    "df_mean=df_3['forehead_ratio'].mean()"
   ]
  },
  {
   "cell_type": "code",
   "execution_count": 120,
   "id": "63c37fe1",
   "metadata": {},
   "outputs": [],
   "source": [
    "df_std=df_3['forehead_ratio'].std()"
   ]
  },
  {
   "cell_type": "code",
   "execution_count": 122,
   "id": "30c3398a",
   "metadata": {},
   "outputs": [],
   "source": [
    "df_con_1 = df_mean-3*df_std"
   ]
  },
  {
   "cell_type": "code",
   "execution_count": 123,
   "id": "43a3bb4e",
   "metadata": {},
   "outputs": [],
   "source": [
    "df_con_2 = df_mean+3*df_std"
   ]
  },
  {
   "cell_type": "code",
   "execution_count": 127,
   "id": "3d75c6d4",
   "metadata": {},
   "outputs": [
    {
     "data": {
      "text/plain": [
       "3"
      ]
     },
     "execution_count": 127,
     "metadata": {},
     "output_type": "execute_result"
    }
   ],
   "source": [
    "(df_3['forehead_ratio']>df_con_2).sum()"
   ]
  },
  {
   "cell_type": "code",
   "execution_count": 130,
   "id": "d8f8c097",
   "metadata": {},
   "outputs": [],
   "source": [
    "from scipy.stats import ttest_ind"
   ]
  },
  {
   "cell_type": "code",
   "execution_count": 140,
   "id": "8443452e",
   "metadata": {},
   "outputs": [
    {
     "data": {
      "text/plain": [
       "Ttest_indResult(statistic=2.9994984197511543, pvalue=0.0027186702390657176)"
      ]
     },
     "execution_count": 140,
     "metadata": {},
     "output_type": "execute_result"
    }
   ],
   "source": [
    "ttest_ind(df_3.loc[df_3['gender']=='Male', 'forehead_ratio'], \n",
    "          df_3.loc[df_3['gender']=='Female', 'forehead_ratio'],\n",
    "          equal_var=False)"
   ]
  },
  {
   "cell_type": "code",
   "execution_count": 142,
   "id": "87c19394",
   "metadata": {},
   "outputs": [],
   "source": [
    "from sklearn.model_selection import train_test_split"
   ]
  },
  {
   "cell_type": "code",
   "execution_count": 143,
   "id": "07bd5da4",
   "metadata": {},
   "outputs": [],
   "source": [
    "df_3['gender'] = (df_3['gender']=='Male')+0"
   ]
  },
  {
   "cell_type": "code",
   "execution_count": 146,
   "id": "553e52bc",
   "metadata": {},
   "outputs": [],
   "source": [
    "df_train, df_test = train_test_split(df_3.iloc[:,:-1],\n",
    "                                     train_size = 0.7,\n",
    "                                     random_state=123)"
   ]
  },
  {
   "cell_type": "code",
   "execution_count": 154,
   "id": "0e50bc96",
   "metadata": {},
   "outputs": [
    {
     "data": {
      "text/html": [
       "<div>\n",
       "<style scoped>\n",
       "    .dataframe tbody tr th:only-of-type {\n",
       "        vertical-align: middle;\n",
       "    }\n",
       "\n",
       "    .dataframe tbody tr th {\n",
       "        vertical-align: top;\n",
       "    }\n",
       "\n",
       "    .dataframe thead th {\n",
       "        text-align: right;\n",
       "    }\n",
       "</style>\n",
       "<table border=\"1\" class=\"dataframe\">\n",
       "  <thead>\n",
       "    <tr style=\"text-align: right;\">\n",
       "      <th></th>\n",
       "      <th>long_hair</th>\n",
       "      <th>forehead_width_cm</th>\n",
       "      <th>forehead_height_cm</th>\n",
       "      <th>nose_wide</th>\n",
       "      <th>nose_long</th>\n",
       "      <th>lips_thin</th>\n",
       "      <th>distance_nose_to_lip_long</th>\n",
       "      <th>gender</th>\n",
       "    </tr>\n",
       "  </thead>\n",
       "  <tbody>\n",
       "    <tr>\n",
       "      <th>0</th>\n",
       "      <td>1</td>\n",
       "      <td>11.8</td>\n",
       "      <td>6.1</td>\n",
       "      <td>1</td>\n",
       "      <td>0</td>\n",
       "      <td>1</td>\n",
       "      <td>1</td>\n",
       "      <td>1</td>\n",
       "    </tr>\n",
       "    <tr>\n",
       "      <th>1</th>\n",
       "      <td>0</td>\n",
       "      <td>14.0</td>\n",
       "      <td>5.4</td>\n",
       "      <td>0</td>\n",
       "      <td>0</td>\n",
       "      <td>1</td>\n",
       "      <td>0</td>\n",
       "      <td>0</td>\n",
       "    </tr>\n",
       "    <tr>\n",
       "      <th>2</th>\n",
       "      <td>0</td>\n",
       "      <td>11.8</td>\n",
       "      <td>6.3</td>\n",
       "      <td>1</td>\n",
       "      <td>1</td>\n",
       "      <td>1</td>\n",
       "      <td>1</td>\n",
       "      <td>1</td>\n",
       "    </tr>\n",
       "    <tr>\n",
       "      <th>3</th>\n",
       "      <td>0</td>\n",
       "      <td>14.4</td>\n",
       "      <td>6.1</td>\n",
       "      <td>0</td>\n",
       "      <td>1</td>\n",
       "      <td>1</td>\n",
       "      <td>1</td>\n",
       "      <td>1</td>\n",
       "    </tr>\n",
       "    <tr>\n",
       "      <th>4</th>\n",
       "      <td>1</td>\n",
       "      <td>13.5</td>\n",
       "      <td>5.9</td>\n",
       "      <td>0</td>\n",
       "      <td>0</td>\n",
       "      <td>0</td>\n",
       "      <td>0</td>\n",
       "      <td>0</td>\n",
       "    </tr>\n",
       "    <tr>\n",
       "      <th>...</th>\n",
       "      <td>...</td>\n",
       "      <td>...</td>\n",
       "      <td>...</td>\n",
       "      <td>...</td>\n",
       "      <td>...</td>\n",
       "      <td>...</td>\n",
       "      <td>...</td>\n",
       "      <td>...</td>\n",
       "    </tr>\n",
       "    <tr>\n",
       "      <th>4996</th>\n",
       "      <td>1</td>\n",
       "      <td>13.6</td>\n",
       "      <td>5.1</td>\n",
       "      <td>0</td>\n",
       "      <td>0</td>\n",
       "      <td>0</td>\n",
       "      <td>0</td>\n",
       "      <td>0</td>\n",
       "    </tr>\n",
       "    <tr>\n",
       "      <th>4997</th>\n",
       "      <td>1</td>\n",
       "      <td>11.9</td>\n",
       "      <td>5.4</td>\n",
       "      <td>0</td>\n",
       "      <td>0</td>\n",
       "      <td>0</td>\n",
       "      <td>0</td>\n",
       "      <td>0</td>\n",
       "    </tr>\n",
       "    <tr>\n",
       "      <th>4998</th>\n",
       "      <td>1</td>\n",
       "      <td>12.9</td>\n",
       "      <td>5.7</td>\n",
       "      <td>0</td>\n",
       "      <td>0</td>\n",
       "      <td>0</td>\n",
       "      <td>0</td>\n",
       "      <td>0</td>\n",
       "    </tr>\n",
       "    <tr>\n",
       "      <th>4999</th>\n",
       "      <td>1</td>\n",
       "      <td>13.2</td>\n",
       "      <td>6.2</td>\n",
       "      <td>0</td>\n",
       "      <td>0</td>\n",
       "      <td>0</td>\n",
       "      <td>0</td>\n",
       "      <td>0</td>\n",
       "    </tr>\n",
       "    <tr>\n",
       "      <th>5000</th>\n",
       "      <td>1</td>\n",
       "      <td>15.4</td>\n",
       "      <td>5.4</td>\n",
       "      <td>1</td>\n",
       "      <td>1</td>\n",
       "      <td>1</td>\n",
       "      <td>1</td>\n",
       "      <td>1</td>\n",
       "    </tr>\n",
       "  </tbody>\n",
       "</table>\n",
       "<p>5001 rows × 8 columns</p>\n",
       "</div>"
      ],
      "text/plain": [
       "      long_hair  forehead_width_cm  forehead_height_cm  nose_wide  nose_long  \\\n",
       "0             1               11.8                 6.1          1          0   \n",
       "1             0               14.0                 5.4          0          0   \n",
       "2             0               11.8                 6.3          1          1   \n",
       "3             0               14.4                 6.1          0          1   \n",
       "4             1               13.5                 5.9          0          0   \n",
       "...         ...                ...                 ...        ...        ...   \n",
       "4996          1               13.6                 5.1          0          0   \n",
       "4997          1               11.9                 5.4          0          0   \n",
       "4998          1               12.9                 5.7          0          0   \n",
       "4999          1               13.2                 6.2          0          0   \n",
       "5000          1               15.4                 5.4          1          1   \n",
       "\n",
       "      lips_thin  distance_nose_to_lip_long  gender  \n",
       "0             1                          1       1  \n",
       "1             1                          0       0  \n",
       "2             1                          1       1  \n",
       "3             1                          1       1  \n",
       "4             0                          0       0  \n",
       "...         ...                        ...     ...  \n",
       "4996          0                          0       0  \n",
       "4997          0                          0       0  \n",
       "4998          0                          0       0  \n",
       "4999          0                          0       0  \n",
       "5000          1                          1       1  \n",
       "\n",
       "[5001 rows x 8 columns]"
      ]
     },
     "execution_count": 154,
     "metadata": {},
     "output_type": "execute_result"
    }
   ],
   "source": [
    "df_3.iloc[:,:-1]"
   ]
  },
  {
   "cell_type": "code",
   "execution_count": 1,
   "id": "fce3b844",
   "metadata": {},
   "outputs": [],
   "source": [
    "from sklearn.linear_model import LogisticRegression"
   ]
  },
  {
   "cell_type": "code",
   "execution_count": 180,
   "id": "da659b45",
   "metadata": {},
   "outputs": [],
   "source": [
    "model=LogisticRegression().fit(X=df_train.drop('gender',axis=1),y=df_train['gender'])"
   ]
  },
  {
   "cell_type": "code",
   "execution_count": 185,
   "id": "25372eeb",
   "metadata": {},
   "outputs": [
    {
     "name": "stdout",
     "output_type": "stream",
     "text": [
      "LogisticRegression()\n"
     ]
    }
   ],
   "source": [
    "print(model)"
   ]
  },
  {
   "cell_type": "code",
   "execution_count": 168,
   "id": "bca4cc98",
   "metadata": {},
   "outputs": [],
   "source": [
    "pred = model.predict_proba(df_test.drop('gender',axis=1))"
   ]
  },
  {
   "cell_type": "code",
   "execution_count": 176,
   "id": "0c555de2",
   "metadata": {},
   "outputs": [
    {
     "data": {
      "text/plain": [
       "array([[2.13366044e-02, 9.78663396e-01],\n",
       "       [8.97496054e-05, 9.99910250e-01],\n",
       "       [2.54440411e-01, 7.45559589e-01],\n",
       "       ...,\n",
       "       [9.63308173e-01, 3.66918274e-02],\n",
       "       [8.55088606e-05, 9.99914491e-01],\n",
       "       [1.37076239e-04, 9.99862924e-01]])"
      ]
     },
     "execution_count": 176,
     "metadata": {},
     "output_type": "execute_result"
    }
   ],
   "source": [
    "pred"
   ]
  },
  {
   "cell_type": "code",
   "execution_count": 172,
   "id": "1c459b8a",
   "metadata": {},
   "outputs": [],
   "source": [
    "pred_class=(pred[:,1]>0.5)+0"
   ]
  },
  {
   "cell_type": "code",
   "execution_count": 188,
   "id": "a9ce863a",
   "metadata": {},
   "outputs": [
    {
     "data": {
      "text/plain": [
       "array([1, 1, 1, ..., 0, 1, 1])"
      ]
     },
     "execution_count": 188,
     "metadata": {},
     "output_type": "execute_result"
    }
   ],
   "source": [
    "pred_class"
   ]
  },
  {
   "cell_type": "code",
   "execution_count": 174,
   "id": "d8ab81d0",
   "metadata": {},
   "outputs": [],
   "source": [
    "from sklearn.metrics import precision_score"
   ]
  },
  {
   "cell_type": "code",
   "execution_count": 175,
   "id": "9d0593b8",
   "metadata": {},
   "outputs": [
    {
     "data": {
      "text/plain": [
       "0.9596354166666666"
      ]
     },
     "execution_count": 175,
     "metadata": {},
     "output_type": "execute_result"
    }
   ],
   "source": [
    "precision_score(y_true=df_test['gender'], y_pred=pred_class)"
   ]
  },
  {
   "cell_type": "markdown",
   "id": "4d5e404c",
   "metadata": {},
   "source": [
    "4"
   ]
  },
  {
   "cell_type": "code",
   "execution_count": 189,
   "id": "5ec59768",
   "metadata": {},
   "outputs": [],
   "source": [
    "df_4 = pd.read_csv('Dataset_04.csv')"
   ]
  },
  {
   "cell_type": "code",
   "execution_count": 190,
   "id": "6667b082",
   "metadata": {},
   "outputs": [
    {
     "data": {
      "text/html": [
       "<div>\n",
       "<style scoped>\n",
       "    .dataframe tbody tr th:only-of-type {\n",
       "        vertical-align: middle;\n",
       "    }\n",
       "\n",
       "    .dataframe tbody tr th {\n",
       "        vertical-align: top;\n",
       "    }\n",
       "\n",
       "    .dataframe thead th {\n",
       "        text-align: right;\n",
       "    }\n",
       "</style>\n",
       "<table border=\"1\" class=\"dataframe\">\n",
       "  <thead>\n",
       "    <tr style=\"text-align: right;\">\n",
       "      <th></th>\n",
       "      <th>LOCATION</th>\n",
       "      <th>SUBJECT</th>\n",
       "      <th>TIME</th>\n",
       "      <th>Value</th>\n",
       "    </tr>\n",
       "  </thead>\n",
       "  <tbody>\n",
       "    <tr>\n",
       "      <th>0</th>\n",
       "      <td>AUS</td>\n",
       "      <td>BEEF</td>\n",
       "      <td>1991</td>\n",
       "      <td>27.721815</td>\n",
       "    </tr>\n",
       "    <tr>\n",
       "      <th>1</th>\n",
       "      <td>AUS</td>\n",
       "      <td>BEEF</td>\n",
       "      <td>1992</td>\n",
       "      <td>26.199591</td>\n",
       "    </tr>\n",
       "  </tbody>\n",
       "</table>\n",
       "</div>"
      ],
      "text/plain": [
       "  LOCATION SUBJECT  TIME      Value\n",
       "0      AUS    BEEF  1991  27.721815\n",
       "1      AUS    BEEF  1992  26.199591"
      ]
     },
     "execution_count": 190,
     "metadata": {},
     "output_type": "execute_result"
    }
   ],
   "source": [
    "df_4.head(2)"
   ]
  },
  {
   "cell_type": "code",
   "execution_count": 191,
   "id": "90f4731b",
   "metadata": {},
   "outputs": [
    {
     "data": {
      "text/plain": [
       "LOCATION    0\n",
       "SUBJECT     0\n",
       "TIME        0\n",
       "Value       0\n",
       "dtype: int64"
      ]
     },
     "execution_count": 191,
     "metadata": {},
     "output_type": "execute_result"
    }
   ],
   "source": [
    "df_4.isna().sum()"
   ]
  },
  {
   "cell_type": "code",
   "execution_count": 193,
   "id": "f131ef97",
   "metadata": {},
   "outputs": [
    {
     "data": {
      "text/html": [
       "<div>\n",
       "<style scoped>\n",
       "    .dataframe tbody tr th:only-of-type {\n",
       "        vertical-align: middle;\n",
       "    }\n",
       "\n",
       "    .dataframe tbody tr th {\n",
       "        vertical-align: top;\n",
       "    }\n",
       "\n",
       "    .dataframe thead th {\n",
       "        text-align: right;\n",
       "    }\n",
       "</style>\n",
       "<table border=\"1\" class=\"dataframe\">\n",
       "  <thead>\n",
       "    <tr style=\"text-align: right;\">\n",
       "      <th></th>\n",
       "      <th>LOCATION</th>\n",
       "      <th>SUBJECT</th>\n",
       "      <th>TIME</th>\n",
       "      <th>Value</th>\n",
       "    </tr>\n",
       "  </thead>\n",
       "  <tbody>\n",
       "    <tr>\n",
       "      <th>442</th>\n",
       "      <td>KOR</td>\n",
       "      <td>BEEF</td>\n",
       "      <td>1991</td>\n",
       "      <td>5.085481</td>\n",
       "    </tr>\n",
       "    <tr>\n",
       "      <th>443</th>\n",
       "      <td>KOR</td>\n",
       "      <td>BEEF</td>\n",
       "      <td>1992</td>\n",
       "      <td>5.685434</td>\n",
       "    </tr>\n",
       "    <tr>\n",
       "      <th>444</th>\n",
       "      <td>KOR</td>\n",
       "      <td>BEEF</td>\n",
       "      <td>1993</td>\n",
       "      <td>5.325765</td>\n",
       "    </tr>\n",
       "    <tr>\n",
       "      <th>445</th>\n",
       "      <td>KOR</td>\n",
       "      <td>BEEF</td>\n",
       "      <td>1994</td>\n",
       "      <td>5.698819</td>\n",
       "    </tr>\n",
       "    <tr>\n",
       "      <th>446</th>\n",
       "      <td>KOR</td>\n",
       "      <td>BEEF</td>\n",
       "      <td>1995</td>\n",
       "      <td>6.568429</td>\n",
       "    </tr>\n",
       "    <tr>\n",
       "      <th>...</th>\n",
       "      <td>...</td>\n",
       "      <td>...</td>\n",
       "      <td>...</td>\n",
       "      <td>...</td>\n",
       "    </tr>\n",
       "    <tr>\n",
       "      <th>583</th>\n",
       "      <td>KOR</td>\n",
       "      <td>SHEEP</td>\n",
       "      <td>2022</td>\n",
       "      <td>0.197951</td>\n",
       "    </tr>\n",
       "    <tr>\n",
       "      <th>584</th>\n",
       "      <td>KOR</td>\n",
       "      <td>SHEEP</td>\n",
       "      <td>2023</td>\n",
       "      <td>0.199098</td>\n",
       "    </tr>\n",
       "    <tr>\n",
       "      <th>585</th>\n",
       "      <td>KOR</td>\n",
       "      <td>SHEEP</td>\n",
       "      <td>2024</td>\n",
       "      <td>0.200266</td>\n",
       "    </tr>\n",
       "    <tr>\n",
       "      <th>586</th>\n",
       "      <td>KOR</td>\n",
       "      <td>SHEEP</td>\n",
       "      <td>2025</td>\n",
       "      <td>0.201451</td>\n",
       "    </tr>\n",
       "    <tr>\n",
       "      <th>587</th>\n",
       "      <td>KOR</td>\n",
       "      <td>SHEEP</td>\n",
       "      <td>2026</td>\n",
       "      <td>0.202656</td>\n",
       "    </tr>\n",
       "  </tbody>\n",
       "</table>\n",
       "<p>146 rows × 4 columns</p>\n",
       "</div>"
      ],
      "text/plain": [
       "    LOCATION SUBJECT  TIME     Value\n",
       "442      KOR    BEEF  1991  5.085481\n",
       "443      KOR    BEEF  1992  5.685434\n",
       "444      KOR    BEEF  1993  5.325765\n",
       "445      KOR    BEEF  1994  5.698819\n",
       "446      KOR    BEEF  1995  6.568429\n",
       "..       ...     ...   ...       ...\n",
       "583      KOR   SHEEP  2022  0.197951\n",
       "584      KOR   SHEEP  2023  0.199098\n",
       "585      KOR   SHEEP  2024  0.200266\n",
       "586      KOR   SHEEP  2025  0.201451\n",
       "587      KOR   SHEEP  2026  0.202656\n",
       "\n",
       "[146 rows x 4 columns]"
      ]
     },
     "execution_count": 193,
     "metadata": {},
     "output_type": "execute_result"
    }
   ],
   "source": [
    "df_4.loc[df_4['LOCATION']=='KOR']"
   ]
  },
  {
   "cell_type": "code",
   "execution_count": 196,
   "id": "e1d93c7b",
   "metadata": {},
   "outputs": [],
   "source": [
    "tab = pd.pivot_table(df_4,\n",
    "                     values='Value',\n",
    "                     index='TIME',\n",
    "                     aggfunc=sum).reset_index()"
   ]
  },
  {
   "cell_type": "code",
   "execution_count": 198,
   "id": "ea95089a",
   "metadata": {},
   "outputs": [
    {
     "data": {
      "text/html": [
       "<div>\n",
       "<style scoped>\n",
       "    .dataframe tbody tr th:only-of-type {\n",
       "        vertical-align: middle;\n",
       "    }\n",
       "\n",
       "    .dataframe tbody tr th {\n",
       "        vertical-align: top;\n",
       "    }\n",
       "\n",
       "    .dataframe thead th {\n",
       "        text-align: right;\n",
       "    }\n",
       "</style>\n",
       "<table border=\"1\" class=\"dataframe\">\n",
       "  <thead>\n",
       "    <tr style=\"text-align: right;\">\n",
       "      <th></th>\n",
       "      <th>TIME</th>\n",
       "      <th>Value</th>\n",
       "    </tr>\n",
       "  </thead>\n",
       "  <tbody>\n",
       "    <tr>\n",
       "      <th>TIME</th>\n",
       "      <td>1.000000</td>\n",
       "      <td>0.958466</td>\n",
       "    </tr>\n",
       "    <tr>\n",
       "      <th>Value</th>\n",
       "      <td>0.958466</td>\n",
       "      <td>1.000000</td>\n",
       "    </tr>\n",
       "  </tbody>\n",
       "</table>\n",
       "</div>"
      ],
      "text/plain": [
       "           TIME     Value\n",
       "TIME   1.000000  0.958466\n",
       "Value  0.958466  1.000000"
      ]
     },
     "execution_count": 198,
     "metadata": {},
     "output_type": "execute_result"
    }
   ],
   "source": [
    "tab.corr()"
   ]
  },
  {
   "cell_type": "code",
   "execution_count": 199,
   "id": "fe9d8b0c",
   "metadata": {},
   "outputs": [
    {
     "data": {
      "text/html": [
       "<div>\n",
       "<style scoped>\n",
       "    .dataframe tbody tr th:only-of-type {\n",
       "        vertical-align: middle;\n",
       "    }\n",
       "\n",
       "    .dataframe tbody tr th {\n",
       "        vertical-align: top;\n",
       "    }\n",
       "\n",
       "    .dataframe thead th {\n",
       "        text-align: right;\n",
       "    }\n",
       "</style>\n",
       "<table border=\"1\" class=\"dataframe\">\n",
       "  <thead>\n",
       "    <tr style=\"text-align: right;\">\n",
       "      <th></th>\n",
       "      <th>LOCATION</th>\n",
       "      <th>SUBJECT</th>\n",
       "      <th>TIME</th>\n",
       "      <th>Value</th>\n",
       "    </tr>\n",
       "  </thead>\n",
       "  <tbody>\n",
       "    <tr>\n",
       "      <th>442</th>\n",
       "      <td>KOR</td>\n",
       "      <td>BEEF</td>\n",
       "      <td>1991</td>\n",
       "      <td>5.085481</td>\n",
       "    </tr>\n",
       "    <tr>\n",
       "      <th>443</th>\n",
       "      <td>KOR</td>\n",
       "      <td>BEEF</td>\n",
       "      <td>1992</td>\n",
       "      <td>5.685434</td>\n",
       "    </tr>\n",
       "    <tr>\n",
       "      <th>444</th>\n",
       "      <td>KOR</td>\n",
       "      <td>BEEF</td>\n",
       "      <td>1993</td>\n",
       "      <td>5.325765</td>\n",
       "    </tr>\n",
       "    <tr>\n",
       "      <th>445</th>\n",
       "      <td>KOR</td>\n",
       "      <td>BEEF</td>\n",
       "      <td>1994</td>\n",
       "      <td>5.698819</td>\n",
       "    </tr>\n",
       "    <tr>\n",
       "      <th>446</th>\n",
       "      <td>KOR</td>\n",
       "      <td>BEEF</td>\n",
       "      <td>1995</td>\n",
       "      <td>6.568429</td>\n",
       "    </tr>\n",
       "    <tr>\n",
       "      <th>...</th>\n",
       "      <td>...</td>\n",
       "      <td>...</td>\n",
       "      <td>...</td>\n",
       "      <td>...</td>\n",
       "    </tr>\n",
       "    <tr>\n",
       "      <th>583</th>\n",
       "      <td>KOR</td>\n",
       "      <td>SHEEP</td>\n",
       "      <td>2022</td>\n",
       "      <td>0.197951</td>\n",
       "    </tr>\n",
       "    <tr>\n",
       "      <th>584</th>\n",
       "      <td>KOR</td>\n",
       "      <td>SHEEP</td>\n",
       "      <td>2023</td>\n",
       "      <td>0.199098</td>\n",
       "    </tr>\n",
       "    <tr>\n",
       "      <th>585</th>\n",
       "      <td>KOR</td>\n",
       "      <td>SHEEP</td>\n",
       "      <td>2024</td>\n",
       "      <td>0.200266</td>\n",
       "    </tr>\n",
       "    <tr>\n",
       "      <th>586</th>\n",
       "      <td>KOR</td>\n",
       "      <td>SHEEP</td>\n",
       "      <td>2025</td>\n",
       "      <td>0.201451</td>\n",
       "    </tr>\n",
       "    <tr>\n",
       "      <th>587</th>\n",
       "      <td>KOR</td>\n",
       "      <td>SHEEP</td>\n",
       "      <td>2026</td>\n",
       "      <td>0.202656</td>\n",
       "    </tr>\n",
       "  </tbody>\n",
       "</table>\n",
       "<p>146 rows × 4 columns</p>\n",
       "</div>"
      ],
      "text/plain": [
       "    LOCATION SUBJECT  TIME     Value\n",
       "442      KOR    BEEF  1991  5.085481\n",
       "443      KOR    BEEF  1992  5.685434\n",
       "444      KOR    BEEF  1993  5.325765\n",
       "445      KOR    BEEF  1994  5.698819\n",
       "446      KOR    BEEF  1995  6.568429\n",
       "..       ...     ...   ...       ...\n",
       "583      KOR   SHEEP  2022  0.197951\n",
       "584      KOR   SHEEP  2023  0.199098\n",
       "585      KOR   SHEEP  2024  0.200266\n",
       "586      KOR   SHEEP  2025  0.201451\n",
       "587      KOR   SHEEP  2026  0.202656\n",
       "\n",
       "[146 rows x 4 columns]"
      ]
     },
     "execution_count": 199,
     "metadata": {},
     "output_type": "execute_result"
    }
   ],
   "source": [
    "df_4.loc[df_4['LOCATION']=='KOR']"
   ]
  },
  {
   "cell_type": "code",
   "execution_count": 200,
   "id": "0726a54a",
   "metadata": {},
   "outputs": [
    {
     "data": {
      "text/html": [
       "<div>\n",
       "<style scoped>\n",
       "    .dataframe tbody tr th:only-of-type {\n",
       "        vertical-align: middle;\n",
       "    }\n",
       "\n",
       "    .dataframe tbody tr th {\n",
       "        vertical-align: top;\n",
       "    }\n",
       "\n",
       "    .dataframe thead th {\n",
       "        text-align: right;\n",
       "    }\n",
       "</style>\n",
       "<table border=\"1\" class=\"dataframe\">\n",
       "  <thead>\n",
       "    <tr style=\"text-align: right;\">\n",
       "      <th></th>\n",
       "      <th>LOCATION</th>\n",
       "      <th>SUBJECT</th>\n",
       "      <th>TIME</th>\n",
       "      <th>Value</th>\n",
       "    </tr>\n",
       "  </thead>\n",
       "  <tbody>\n",
       "    <tr>\n",
       "      <th>294</th>\n",
       "      <td>JPN</td>\n",
       "      <td>BEEF</td>\n",
       "      <td>1990</td>\n",
       "      <td>6.111035</td>\n",
       "    </tr>\n",
       "    <tr>\n",
       "      <th>295</th>\n",
       "      <td>JPN</td>\n",
       "      <td>BEEF</td>\n",
       "      <td>1991</td>\n",
       "      <td>6.517055</td>\n",
       "    </tr>\n",
       "    <tr>\n",
       "      <th>296</th>\n",
       "      <td>JPN</td>\n",
       "      <td>BEEF</td>\n",
       "      <td>1992</td>\n",
       "      <td>6.766244</td>\n",
       "    </tr>\n",
       "    <tr>\n",
       "      <th>297</th>\n",
       "      <td>JPN</td>\n",
       "      <td>BEEF</td>\n",
       "      <td>1993</td>\n",
       "      <td>7.406407</td>\n",
       "    </tr>\n",
       "    <tr>\n",
       "      <th>298</th>\n",
       "      <td>JPN</td>\n",
       "      <td>BEEF</td>\n",
       "      <td>1994</td>\n",
       "      <td>8.129090</td>\n",
       "    </tr>\n",
       "    <tr>\n",
       "      <th>...</th>\n",
       "      <td>...</td>\n",
       "      <td>...</td>\n",
       "      <td>...</td>\n",
       "      <td>...</td>\n",
       "    </tr>\n",
       "    <tr>\n",
       "      <th>437</th>\n",
       "      <td>JPN</td>\n",
       "      <td>SHEEP</td>\n",
       "      <td>2022</td>\n",
       "      <td>0.134228</td>\n",
       "    </tr>\n",
       "    <tr>\n",
       "      <th>438</th>\n",
       "      <td>JPN</td>\n",
       "      <td>SHEEP</td>\n",
       "      <td>2023</td>\n",
       "      <td>0.131138</td>\n",
       "    </tr>\n",
       "    <tr>\n",
       "      <th>439</th>\n",
       "      <td>JPN</td>\n",
       "      <td>SHEEP</td>\n",
       "      <td>2024</td>\n",
       "      <td>0.128078</td>\n",
       "    </tr>\n",
       "    <tr>\n",
       "      <th>440</th>\n",
       "      <td>JPN</td>\n",
       "      <td>SHEEP</td>\n",
       "      <td>2025</td>\n",
       "      <td>0.125060</td>\n",
       "    </tr>\n",
       "    <tr>\n",
       "      <th>441</th>\n",
       "      <td>JPN</td>\n",
       "      <td>SHEEP</td>\n",
       "      <td>2026</td>\n",
       "      <td>0.122136</td>\n",
       "    </tr>\n",
       "  </tbody>\n",
       "</table>\n",
       "<p>148 rows × 4 columns</p>\n",
       "</div>"
      ],
      "text/plain": [
       "    LOCATION SUBJECT  TIME     Value\n",
       "294      JPN    BEEF  1990  6.111035\n",
       "295      JPN    BEEF  1991  6.517055\n",
       "296      JPN    BEEF  1992  6.766244\n",
       "297      JPN    BEEF  1993  7.406407\n",
       "298      JPN    BEEF  1994  8.129090\n",
       "..       ...     ...   ...       ...\n",
       "437      JPN   SHEEP  2022  0.134228\n",
       "438      JPN   SHEEP  2023  0.131138\n",
       "439      JPN   SHEEP  2024  0.128078\n",
       "440      JPN   SHEEP  2025  0.125060\n",
       "441      JPN   SHEEP  2026  0.122136\n",
       "\n",
       "[148 rows x 4 columns]"
      ]
     },
     "execution_count": 200,
     "metadata": {},
     "output_type": "execute_result"
    }
   ],
   "source": [
    "df_4.loc[df_4['LOCATION']=='JPN']"
   ]
  },
  {
   "cell_type": "code",
   "execution_count": 205,
   "id": "a2b219eb",
   "metadata": {},
   "outputs": [],
   "source": [
    "table = df_4.loc[(df_4['LOCATION']=='JPN')|(df_4['LOCATION']=='KOR')]"
   ]
  },
  {
   "cell_type": "code",
   "execution_count": 230,
   "id": "8af1811c",
   "metadata": {},
   "outputs": [],
   "source": [
    "tab_2 = pd.pivot_table(table,\n",
    "                       values='Value',\n",
    "                       index=['TIME','SUBJECT'],\n",
    "                       columns='LOCATION')"
   ]
  },
  {
   "cell_type": "code",
   "execution_count": 245,
   "id": "40cc80e0",
   "metadata": {},
   "outputs": [],
   "source": [
    "tab_2=tab_2.dropna().reset_index()\n"
   ]
  },
  {
   "cell_type": "code",
   "execution_count": 246,
   "id": "39f32d6b",
   "metadata": {},
   "outputs": [
    {
     "data": {
      "text/html": [
       "<div>\n",
       "<style scoped>\n",
       "    .dataframe tbody tr th:only-of-type {\n",
       "        vertical-align: middle;\n",
       "    }\n",
       "\n",
       "    .dataframe tbody tr th {\n",
       "        vertical-align: top;\n",
       "    }\n",
       "\n",
       "    .dataframe thead th {\n",
       "        text-align: right;\n",
       "    }\n",
       "</style>\n",
       "<table border=\"1\" class=\"dataframe\">\n",
       "  <thead>\n",
       "    <tr style=\"text-align: right;\">\n",
       "      <th>LOCATION</th>\n",
       "      <th>TIME</th>\n",
       "      <th>SUBJECT</th>\n",
       "      <th>JPN</th>\n",
       "      <th>KOR</th>\n",
       "    </tr>\n",
       "  </thead>\n",
       "  <tbody>\n",
       "    <tr>\n",
       "      <th>0</th>\n",
       "      <td>1990</td>\n",
       "      <td>POULTRY</td>\n",
       "      <td>12.844865</td>\n",
       "      <td>5.570102</td>\n",
       "    </tr>\n",
       "    <tr>\n",
       "      <th>1</th>\n",
       "      <td>1990</td>\n",
       "      <td>SHEEP</td>\n",
       "      <td>0.756696</td>\n",
       "      <td>0.204153</td>\n",
       "    </tr>\n",
       "    <tr>\n",
       "      <th>2</th>\n",
       "      <td>1991</td>\n",
       "      <td>BEEF</td>\n",
       "      <td>6.517055</td>\n",
       "      <td>5.085481</td>\n",
       "    </tr>\n",
       "    <tr>\n",
       "      <th>3</th>\n",
       "      <td>1991</td>\n",
       "      <td>PIG</td>\n",
       "      <td>13.239267</td>\n",
       "      <td>9.930182</td>\n",
       "    </tr>\n",
       "    <tr>\n",
       "      <th>4</th>\n",
       "      <td>1991</td>\n",
       "      <td>POULTRY</td>\n",
       "      <td>12.055422</td>\n",
       "      <td>6.738203</td>\n",
       "    </tr>\n",
       "    <tr>\n",
       "      <th>5</th>\n",
       "      <td>1991</td>\n",
       "      <td>SHEEP</td>\n",
       "      <td>0.772785</td>\n",
       "      <td>0.157341</td>\n",
       "    </tr>\n",
       "  </tbody>\n",
       "</table>\n",
       "</div>"
      ],
      "text/plain": [
       "LOCATION  TIME  SUBJECT        JPN       KOR\n",
       "0         1990  POULTRY  12.844865  5.570102\n",
       "1         1990    SHEEP   0.756696  0.204153\n",
       "2         1991     BEEF   6.517055  5.085481\n",
       "3         1991      PIG  13.239267  9.930182\n",
       "4         1991  POULTRY  12.055422  6.738203\n",
       "5         1991    SHEEP   0.772785  0.157341"
      ]
     },
     "execution_count": 246,
     "metadata": {},
     "output_type": "execute_result"
    }
   ],
   "source": [
    "tab_2.head(6)"
   ]
  },
  {
   "cell_type": "code",
   "execution_count": 233,
   "id": "03b0123e",
   "metadata": {},
   "outputs": [],
   "source": [
    "from scipy.stats import ttest_rel"
   ]
  },
  {
   "cell_type": "code",
   "execution_count": 269,
   "id": "a99e0418",
   "metadata": {},
   "outputs": [],
   "source": [
    "tab_2_1 = tab_2.loc[tab_2['SUBJECT']==\"PIG\"]"
   ]
  },
  {
   "cell_type": "code",
   "execution_count": 270,
   "id": "1a661b1f",
   "metadata": {},
   "outputs": [
    {
     "data": {
      "text/plain": [
       "Ttest_relResult(statistic=-9.055645878132264, pvalue=1.0635000422516487e-10)"
      ]
     },
     "execution_count": 270,
     "metadata": {},
     "output_type": "execute_result"
    }
   ],
   "source": [
    "ttest_rel(tab_2_1['JPN'],tab_2_1['KOR'])"
   ]
  },
  {
   "cell_type": "code",
   "execution_count": 271,
   "id": "c748d78b",
   "metadata": {},
   "outputs": [],
   "source": [
    "tab_2_1 = tab_2.loc[tab_2['SUBJECT']==\"POULTRY\"]"
   ]
  },
  {
   "cell_type": "code",
   "execution_count": 272,
   "id": "47659d09",
   "metadata": {},
   "outputs": [
    {
     "data": {
      "text/plain": [
       "Ttest_relResult(statistic=0.7317427316277376, pvalue=0.4690625508910583)"
      ]
     },
     "execution_count": 272,
     "metadata": {},
     "output_type": "execute_result"
    }
   ],
   "source": [
    "ttest_rel(tab_2_1['JPN'],tab_2_1['KOR'])"
   ]
  },
  {
   "cell_type": "code",
   "execution_count": 273,
   "id": "7ca02de6",
   "metadata": {},
   "outputs": [],
   "source": [
    "tab_2_1 = tab_2.loc[tab_2['SUBJECT']==\"SHEEP\"]"
   ]
  },
  {
   "cell_type": "code",
   "execution_count": 274,
   "id": "baead599",
   "metadata": {},
   "outputs": [
    {
     "data": {
      "text/plain": [
       "Ttest_relResult(statistic=4.650669254032911, pvalue=4.3466425225322944e-05)"
      ]
     },
     "execution_count": 274,
     "metadata": {},
     "output_type": "execute_result"
    }
   ],
   "source": [
    "ttest_rel(tab_2_1['JPN'],tab_2_1['KOR'])"
   ]
  },
  {
   "cell_type": "code",
   "execution_count": 275,
   "id": "45699799",
   "metadata": {},
   "outputs": [],
   "source": [
    "tab_2_1 = tab_2.loc[tab_2['SUBJECT']==\"BEEF\"]"
   ]
  },
  {
   "cell_type": "code",
   "execution_count": 276,
   "id": "2034fd1b",
   "metadata": {},
   "outputs": [
    {
     "data": {
      "text/plain": [
       "Ttest_relResult(statistic=-3.956315918475474, pvalue=0.0003541915661863236)"
      ]
     },
     "execution_count": 276,
     "metadata": {},
     "output_type": "execute_result"
    }
   ],
   "source": [
    "ttest_rel(tab_2_1['JPN'],tab_2_1['KOR'])"
   ]
  },
  {
   "cell_type": "code",
   "execution_count": 324,
   "id": "77995d7e",
   "metadata": {},
   "outputs": [
    {
     "data": {
      "text/plain": [
       "146"
      ]
     },
     "execution_count": 324,
     "metadata": {},
     "output_type": "execute_result"
    }
   ],
   "source": [
    "table_1 = df_4.loc[(df_4['LOCATION']=='KOR')]\n",
    "len(table_1)"
   ]
  },
  {
   "cell_type": "code",
   "execution_count": 315,
   "id": "846074e2",
   "metadata": {},
   "outputs": [],
   "source": [
    "from sklearn.linear_model import LinearRegression"
   ]
  },
  {
   "cell_type": "code",
   "execution_count": 316,
   "id": "5a3337cf",
   "metadata": {},
   "outputs": [],
   "source": [
    "var = df_4.SUBJECT.unique()"
   ]
  },
  {
   "cell_type": "code",
   "execution_count": 330,
   "id": "c7bbb359",
   "metadata": {},
   "outputs": [],
   "source": [
    "from sklearn.metrics import mean_absolute_error\n",
    "from sklearn.metrics import mean_absolute_percentage_error"
   ]
  },
  {
   "cell_type": "code",
   "execution_count": 333,
   "id": "028c8c7f",
   "metadata": {},
   "outputs": [
    {
     "name": "stdout",
     "output_type": "stream",
     "text": [
      "5603440.271962554\n",
      "10563717424021.5\n",
      "66149287.89908177\n",
      "1878027.8939808772\n"
     ]
    }
   ],
   "source": [
    "for i in var:\n",
    "    temp=df_4[df_4.SUBJECT==i]\n",
    "    model = LinearRegression().fit(temp[['TIME']], temp['Value'])\n",
    "    pred=model.predict(temp[['TIME']])\n",
    "    r2=model.score(temp[['TIME']], temp['Value'])\n",
    "    mape=(((abs(temp['Value']-pred))/temp['Value']).sum()*100).mean()\n",
    "    print(mape)"
   ]
  },
  {
   "cell_type": "code",
   "execution_count": null,
   "id": "03fe8ec8",
   "metadata": {},
   "outputs": [],
   "source": []
  },
  {
   "cell_type": "code",
   "execution_count": null,
   "id": "78a9d7f6",
   "metadata": {},
   "outputs": [],
   "source": []
  },
  {
   "cell_type": "code",
   "execution_count": null,
   "id": "c3bf0a92",
   "metadata": {},
   "outputs": [],
   "source": []
  },
  {
   "cell_type": "code",
   "execution_count": null,
   "id": "213e97d4",
   "metadata": {},
   "outputs": [],
   "source": []
  },
  {
   "cell_type": "code",
   "execution_count": null,
   "id": "6d756990",
   "metadata": {},
   "outputs": [],
   "source": []
  },
  {
   "cell_type": "code",
   "execution_count": null,
   "id": "f1697d2b",
   "metadata": {},
   "outputs": [],
   "source": []
  },
  {
   "cell_type": "code",
   "execution_count": null,
   "id": "322f8387",
   "metadata": {},
   "outputs": [],
   "source": []
  },
  {
   "cell_type": "code",
   "execution_count": null,
   "id": "b1f5464b",
   "metadata": {},
   "outputs": [],
   "source": []
  },
  {
   "cell_type": "code",
   "execution_count": null,
   "id": "ff399f8f",
   "metadata": {},
   "outputs": [],
   "source": []
  },
  {
   "cell_type": "code",
   "execution_count": null,
   "id": "b31d7205",
   "metadata": {},
   "outputs": [],
   "source": []
  },
  {
   "cell_type": "code",
   "execution_count": null,
   "id": "93764ae8",
   "metadata": {},
   "outputs": [],
   "source": []
  }
 ],
 "metadata": {
  "kernelspec": {
   "display_name": "Python 3 (ipykernel)",
   "language": "python",
   "name": "python3"
  },
  "language_info": {
   "codemirror_mode": {
    "name": "ipython",
    "version": 3
   },
   "file_extension": ".py",
   "mimetype": "text/x-python",
   "name": "python",
   "nbconvert_exporter": "python",
   "pygments_lexer": "ipython3",
   "version": "3.11.2"
  }
 },
 "nbformat": 4,
 "nbformat_minor": 5
}
