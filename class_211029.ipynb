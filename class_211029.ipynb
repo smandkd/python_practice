{
 "cells": [
  {
   "cell_type": "code",
   "execution_count": 2,
   "id": "e63fe8b5",
   "metadata": {},
   "outputs": [],
   "source": [
    "import pandas as pd\n",
    "from statsmodels.formula.api import ols"
   ]
  },
  {
   "cell_type": "code",
   "execution_count": 3,
   "id": "9106ade8",
   "metadata": {},
   "outputs": [
    {
     "data": {
      "text/html": [
       "<div>\n",
       "<style scoped>\n",
       "    .dataframe tbody tr th:only-of-type {\n",
       "        vertical-align: middle;\n",
       "    }\n",
       "\n",
       "    .dataframe tbody tr th {\n",
       "        vertical-align: top;\n",
       "    }\n",
       "\n",
       "    .dataframe thead th {\n",
       "        text-align: right;\n",
       "    }\n",
       "</style>\n",
       "<table border=\"1\" class=\"dataframe\">\n",
       "  <thead>\n",
       "    <tr style=\"text-align: right;\">\n",
       "      <th></th>\n",
       "      <th>x</th>\n",
       "      <th>y</th>\n",
       "    </tr>\n",
       "  </thead>\n",
       "  <tbody>\n",
       "    <tr>\n",
       "      <th>0</th>\n",
       "      <td>1</td>\n",
       "      <td>0</td>\n",
       "    </tr>\n",
       "    <tr>\n",
       "      <th>1</th>\n",
       "      <td>3</td>\n",
       "      <td>1</td>\n",
       "    </tr>\n",
       "  </tbody>\n",
       "</table>\n",
       "</div>"
      ],
      "text/plain": [
       "   x  y\n",
       "0  1  0\n",
       "1  3  1"
      ]
     },
     "execution_count": 3,
     "metadata": {},
     "output_type": "execute_result"
    }
   ],
   "source": [
    "df = pd.read_csv(\"DS_lv1/linear_regression_01.csv\")\n",
    "df.head(2)"
   ]
  },
  {
   "cell_type": "code",
   "execution_count": 5,
   "id": "cc449088",
   "metadata": {},
   "outputs": [
    {
     "name": "stdout",
     "output_type": "stream",
     "text": [
      "                            OLS Regression Results                            \n",
      "==============================================================================\n",
      "Dep. Variable:                      y   R-squared:                       0.129\n",
      "Model:                            OLS   Adj. R-squared:                  0.089\n",
      "Method:                 Least Squares   F-statistic:                     3.257\n",
      "Date:                Fri, 29 Oct 2021   Prob (F-statistic):             0.0848\n",
      "Time:                        09:18:57   Log-Likelihood:                -53.868\n",
      "No. Observations:                  24   AIC:                             111.7\n",
      "Df Residuals:                      22   BIC:                             114.1\n",
      "Df Model:                           1                                         \n",
      "Covariance Type:            nonrobust                                         \n",
      "==============================================================================\n",
      "                 coef    std err          t      P>|t|      [0.025      0.975]\n",
      "------------------------------------------------------------------------------\n",
      "Intercept      0.9909      0.908      1.091      0.287      -0.893       2.875\n",
      "x              0.3732      0.207      1.805      0.085      -0.056       0.802\n",
      "==============================================================================\n",
      "Omnibus:                        3.957   Durbin-Watson:                   0.999\n",
      "Prob(Omnibus):                  0.138   Jarque-Bera (JB):                1.902\n",
      "Skew:                           0.380   Prob(JB):                        0.386\n",
      "Kurtosis:                       1.849   Cond. No.                         8.50\n",
      "==============================================================================\n",
      "\n",
      "Notes:\n",
      "[1] Standard Errors assume that the covariance matrix of the errors is correctly specified.\n"
     ]
    }
   ],
   "source": [
    "model = ols(\"y ~ x\", data = df).fit()\n",
    "print(model.summary())"
   ]
  },
  {
   "cell_type": "markdown",
   "id": "7e00d7d6",
   "metadata": {},
   "source": [
    "### Q. Sepal.Length를 종속변수로 Sepal.Width를 독립변수로 하여 단순 선형회귀 분석을 실시하시오.\n",
    "- 단, 변수명때문에 에러가 나는 경우 임의로 변수명을 변경하고 실시하시오."
   ]
  },
  {
   "cell_type": "code",
   "execution_count": 8,
   "id": "114b3fa3",
   "metadata": {},
   "outputs": [
    {
     "data": {
      "text/html": [
       "<div>\n",
       "<style scoped>\n",
       "    .dataframe tbody tr th:only-of-type {\n",
       "        vertical-align: middle;\n",
       "    }\n",
       "\n",
       "    .dataframe tbody tr th {\n",
       "        vertical-align: top;\n",
       "    }\n",
       "\n",
       "    .dataframe thead th {\n",
       "        text-align: right;\n",
       "    }\n",
       "</style>\n",
       "<table border=\"1\" class=\"dataframe\">\n",
       "  <thead>\n",
       "    <tr style=\"text-align: right;\">\n",
       "      <th></th>\n",
       "      <th>Sepal.Length</th>\n",
       "      <th>Sepal.Width</th>\n",
       "      <th>Petal.Length</th>\n",
       "      <th>Petal.Width</th>\n",
       "      <th>Species</th>\n",
       "    </tr>\n",
       "  </thead>\n",
       "  <tbody>\n",
       "    <tr>\n",
       "      <th>0</th>\n",
       "      <td>5.1</td>\n",
       "      <td>3.5</td>\n",
       "      <td>1.4</td>\n",
       "      <td>0.2</td>\n",
       "      <td>setosa</td>\n",
       "    </tr>\n",
       "    <tr>\n",
       "      <th>1</th>\n",
       "      <td>4.9</td>\n",
       "      <td>3.0</td>\n",
       "      <td>1.4</td>\n",
       "      <td>0.2</td>\n",
       "      <td>setosa</td>\n",
       "    </tr>\n",
       "  </tbody>\n",
       "</table>\n",
       "</div>"
      ],
      "text/plain": [
       "   Sepal.Length  Sepal.Width  Petal.Length  Petal.Width Species\n",
       "0           5.1          3.5           1.4          0.2  setosa\n",
       "1           4.9          3.0           1.4          0.2  setosa"
      ]
     },
     "execution_count": 8,
     "metadata": {},
     "output_type": "execute_result"
    }
   ],
   "source": [
    "iris = pd.read_excel(\"DS_lv1/iris_xlsx.xlsx\")\n",
    "iris.head(2)"
   ]
  },
  {
   "cell_type": "code",
   "execution_count": 11,
   "id": "9a8f1e7c",
   "metadata": {},
   "outputs": [],
   "source": [
    "iris = iris.rename(columns = {\"Sepal.Length\" : \"SL\", \"Sepal.Width\" : \"SW\"})"
   ]
  },
  {
   "cell_type": "code",
   "execution_count": 15,
   "id": "061e69da",
   "metadata": {},
   "outputs": [
    {
     "name": "stdout",
     "output_type": "stream",
     "text": [
      "                            OLS Regression Results                            \n",
      "==============================================================================\n",
      "Dep. Variable:                      x   R-squared:                       0.014\n",
      "Model:                            OLS   Adj. R-squared:                  0.007\n",
      "Method:                 Least Squares   F-statistic:                     2.074\n",
      "Date:                Fri, 29 Oct 2021   Prob (F-statistic):              0.152\n",
      "Time:                        09:38:55   Log-Likelihood:                -183.00\n",
      "No. Observations:                 150   AIC:                             370.0\n",
      "Df Residuals:                     148   BIC:                             376.0\n",
      "Df Model:                           1                                         \n",
      "Covariance Type:            nonrobust                                         \n",
      "==============================================================================\n",
      "                 coef    std err          t      P>|t|      [0.025      0.975]\n",
      "------------------------------------------------------------------------------\n",
      "Intercept      6.5262      0.479     13.628      0.000       5.580       7.473\n",
      "y             -0.2234      0.155     -1.440      0.152      -0.530       0.083\n",
      "==============================================================================\n",
      "Omnibus:                        4.389   Durbin-Watson:                   0.952\n",
      "Prob(Omnibus):                  0.111   Jarque-Bera (JB):                4.237\n",
      "Skew:                           0.360   Prob(JB):                        0.120\n",
      "Kurtosis:                       2.600   Cond. No.                         24.2\n",
      "==============================================================================\n",
      "\n",
      "Notes:\n",
      "[1] Standard Errors assume that the covariance matrix of the errors is correctly specified.\n"
     ]
    }
   ],
   "source": [
    "model = ols(\"x ~ y\", iris).fit()\n",
    "print(model.summary())"
   ]
  },
  {
   "cell_type": "markdown",
   "id": "746ae7f0",
   "metadata": {},
   "source": [
    "### Q2 1번의 회귀분석 결과에서 모델의 선형성 검정 결과 p-value를 확인하시오."
   ]
  },
  {
   "cell_type": "code",
   "execution_count": 16,
   "id": "a7018f31",
   "metadata": {},
   "outputs": [
    {
     "data": {
      "text/plain": [
       "0.15189826071144713"
      ]
     },
     "execution_count": 16,
     "metadata": {},
     "output_type": "execute_result"
    }
   ],
   "source": [
    "model.f_pvalue "
   ]
  },
  {
   "cell_type": "markdown",
   "id": "69508ed3",
   "metadata": {},
   "source": [
    "### Q3. 1번의 회귀분석 결과에서 회귀식을 확인하고 이를 기술하시오. "
   ]
  },
  {
   "cell_type": "code",
   "execution_count": 17,
   "id": "e6225947",
   "metadata": {},
   "outputs": [
    {
     "data": {
      "text/plain": [
       "Intercept    6.526223\n",
       "y           -0.223361\n",
       "dtype: float64"
      ]
     },
     "execution_count": 17,
     "metadata": {},
     "output_type": "execute_result"
    }
   ],
   "source": [
    "model.params # y = -0.223361x + 6.526223"
   ]
  },
  {
   "cell_type": "markdown",
   "id": "3664159b",
   "metadata": {},
   "source": [
    "### Q4 Petal.Length를 종속변수로하고 Petal.Width 를 독립변수로 하여 그 결과를 확인하시오."
   ]
  },
  {
   "cell_type": "code",
   "execution_count": 23,
   "id": "3a85adbd",
   "metadata": {},
   "outputs": [],
   "source": [
    "from statsmodels.formula.api import ols"
   ]
  },
  {
   "cell_type": "code",
   "execution_count": 24,
   "id": "09814f43",
   "metadata": {},
   "outputs": [],
   "source": [
    "iris = iris.rename(columns = {\"Petal.Length\" : \"y\", \"Petal.Width\" : \"x\"})"
   ]
  },
  {
   "cell_type": "code",
   "execution_count": 27,
   "id": "e658c515",
   "metadata": {},
   "outputs": [
    {
     "name": "stdout",
     "output_type": "stream",
     "text": [
      "                            OLS Regression Results                            \n",
      "==============================================================================\n",
      "Dep. Variable:                      y   R-squared:                       0.927\n",
      "Model:                            OLS   Adj. R-squared:                  0.927\n",
      "Method:                 Least Squares   F-statistic:                     1882.\n",
      "Date:                Fri, 29 Oct 2021   Prob (F-statistic):           4.68e-86\n",
      "Time:                        10:01:04   Log-Likelihood:                 24.796\n",
      "No. Observations:                 150   AIC:                            -45.59\n",
      "Df Residuals:                     148   BIC:                            -39.57\n",
      "Df Model:                           1                                         \n",
      "Covariance Type:            nonrobust                                         \n",
      "==============================================================================\n",
      "                 coef    std err          t      P>|t|      [0.025      0.975]\n",
      "------------------------------------------------------------------------------\n",
      "Intercept     -0.3631      0.040     -9.131      0.000      -0.442      -0.285\n",
      "x              0.4158      0.010     43.387      0.000       0.397       0.435\n",
      "==============================================================================\n",
      "Omnibus:                        5.765   Durbin-Watson:                   1.455\n",
      "Prob(Omnibus):                  0.056   Jarque-Bera (JB):                5.555\n",
      "Skew:                           0.359   Prob(JB):                       0.0622\n",
      "Kurtosis:                       3.611   Cond. No.                         10.3\n",
      "==============================================================================\n",
      "\n",
      "Notes:\n",
      "[1] Standard Errors assume that the covariance matrix of the errors is correctly specified.\n"
     ]
    }
   ],
   "source": [
    "model = ols(\"y ~ x\", iris).fit()\n",
    "print(model.summary())"
   ]
  },
  {
   "cell_type": "code",
   "execution_count": 28,
   "id": "9afbf3d9",
   "metadata": {},
   "outputs": [
    {
     "data": {
      "text/plain": [
       "0      0.218982\n",
       "1      0.218982\n",
       "2      0.177407\n",
       "3      0.260558\n",
       "4      0.218982\n",
       "         ...   \n",
       "145    1.798853\n",
       "146    1.715702\n",
       "147    1.798853\n",
       "148    1.882004\n",
       "149    1.757277\n",
       "Length: 150, dtype: float64"
      ]
     },
     "execution_count": 28,
     "metadata": {},
     "output_type": "execute_result"
    }
   ],
   "source": [
    "model.predict(iris)"
   ]
  },
  {
   "cell_type": "markdown",
   "id": "36b7c987",
   "metadata": {},
   "source": [
    "### Q1. iris 데이터를 학습 7, 평가 3으로 분리하고 학습데이터를 활용하여 Petal.Length를 종속변수, Petal.Width를 독립변수로 지정하고 단순선형회귀분석을 실시하시오. \n",
    "- random_state는 123으로 지정하시오\n",
    "- 선형회귀분석은 statsmodels의 함수를 사용하시오"
   ]
  },
  {
   "cell_type": "code",
   "execution_count": 59,
   "id": "b910fdb3",
   "metadata": {},
   "outputs": [
    {
     "data": {
      "text/html": [
       "<div>\n",
       "<style scoped>\n",
       "    .dataframe tbody tr th:only-of-type {\n",
       "        vertical-align: middle;\n",
       "    }\n",
       "\n",
       "    .dataframe tbody tr th {\n",
       "        vertical-align: top;\n",
       "    }\n",
       "\n",
       "    .dataframe thead th {\n",
       "        text-align: right;\n",
       "    }\n",
       "</style>\n",
       "<table border=\"1\" class=\"dataframe\">\n",
       "  <thead>\n",
       "    <tr style=\"text-align: right;\">\n",
       "      <th></th>\n",
       "      <th>Sepal.Length</th>\n",
       "      <th>Sepal.Width</th>\n",
       "      <th>Petal.Length</th>\n",
       "      <th>Petal.Width</th>\n",
       "      <th>Species</th>\n",
       "    </tr>\n",
       "  </thead>\n",
       "  <tbody>\n",
       "    <tr>\n",
       "      <th>0</th>\n",
       "      <td>5.1</td>\n",
       "      <td>3.5</td>\n",
       "      <td>1.4</td>\n",
       "      <td>0.2</td>\n",
       "      <td>setosa</td>\n",
       "    </tr>\n",
       "    <tr>\n",
       "      <th>1</th>\n",
       "      <td>4.9</td>\n",
       "      <td>3.0</td>\n",
       "      <td>1.4</td>\n",
       "      <td>0.2</td>\n",
       "      <td>setosa</td>\n",
       "    </tr>\n",
       "  </tbody>\n",
       "</table>\n",
       "</div>"
      ],
      "text/plain": [
       "   Sepal.Length  Sepal.Width  Petal.Length  Petal.Width Species\n",
       "0           5.1          3.5           1.4          0.2  setosa\n",
       "1           4.9          3.0           1.4          0.2  setosa"
      ]
     },
     "execution_count": 59,
     "metadata": {},
     "output_type": "execute_result"
    }
   ],
   "source": [
    "from sklearn.model_selection import train_test_split\n",
    "from statsmodels.formula.api import ols\n",
    "iris = pd.read_excel(\"DS_lv1/iris_xlsx.xlsx\")\n",
    "iris.head(2)"
   ]
  },
  {
   "cell_type": "code",
   "execution_count": 60,
   "id": "b8f10c1c",
   "metadata": {},
   "outputs": [
    {
     "name": "stdout",
     "output_type": "stream",
     "text": [
      "105\n",
      "45\n"
     ]
    }
   ],
   "source": [
    "iris_train, iris_test = train_test_split(iris, train_size = 0.7, random_state = 123)\n",
    "print(len(iris_train))\n",
    "print(len(iris_test))"
   ]
  },
  {
   "cell_type": "code",
   "execution_count": 80,
   "id": "20167e31",
   "metadata": {},
   "outputs": [
    {
     "data": {
      "text/html": [
       "<div>\n",
       "<style scoped>\n",
       "    .dataframe tbody tr th:only-of-type {\n",
       "        vertical-align: middle;\n",
       "    }\n",
       "\n",
       "    .dataframe tbody tr th {\n",
       "        vertical-align: top;\n",
       "    }\n",
       "\n",
       "    .dataframe thead th {\n",
       "        text-align: right;\n",
       "    }\n",
       "</style>\n",
       "<table border=\"1\" class=\"dataframe\">\n",
       "  <thead>\n",
       "    <tr style=\"text-align: right;\">\n",
       "      <th></th>\n",
       "      <th>Sepal.Length</th>\n",
       "      <th>Sepal.Width</th>\n",
       "      <th>PL</th>\n",
       "      <th>PW</th>\n",
       "      <th>Species</th>\n",
       "    </tr>\n",
       "  </thead>\n",
       "  <tbody>\n",
       "    <tr>\n",
       "      <th>0</th>\n",
       "      <td>5.1</td>\n",
       "      <td>3.5</td>\n",
       "      <td>1.4</td>\n",
       "      <td>0.2</td>\n",
       "      <td>setosa</td>\n",
       "    </tr>\n",
       "    <tr>\n",
       "      <th>1</th>\n",
       "      <td>4.9</td>\n",
       "      <td>3.0</td>\n",
       "      <td>1.4</td>\n",
       "      <td>0.2</td>\n",
       "      <td>setosa</td>\n",
       "    </tr>\n",
       "  </tbody>\n",
       "</table>\n",
       "</div>"
      ],
      "text/plain": [
       "   Sepal.Length  Sepal.Width   PL   PW Species\n",
       "0           5.1          3.5  1.4  0.2  setosa\n",
       "1           4.9          3.0  1.4  0.2  setosa"
      ]
     },
     "execution_count": 80,
     "metadata": {},
     "output_type": "execute_result"
    }
   ],
   "source": [
    "iris_test = iris.rename(columns = {\"Petal.Length\" : \"PL\", \"Petal.Width\" : \"PW\"})\n",
    "iris.head(2)"
   ]
  },
  {
   "cell_type": "code",
   "execution_count": 81,
   "id": "1827c5cd",
   "metadata": {},
   "outputs": [
    {
     "name": "stdout",
     "output_type": "stream",
     "text": [
      "                            OLS Regression Results                            \n",
      "==============================================================================\n",
      "Dep. Variable:                     PL   R-squared:                       0.927\n",
      "Model:                            OLS   Adj. R-squared:                  0.927\n",
      "Method:                 Least Squares   F-statistic:                     1882.\n",
      "Date:                Fri, 29 Oct 2021   Prob (F-statistic):           4.68e-86\n",
      "Time:                        10:36:44   Log-Likelihood:                -101.18\n",
      "No. Observations:                 150   AIC:                             206.4\n",
      "Df Residuals:                     148   BIC:                             212.4\n",
      "Df Model:                           1                                         \n",
      "Covariance Type:            nonrobust                                         \n",
      "==============================================================================\n",
      "                 coef    std err          t      P>|t|      [0.025      0.975]\n",
      "------------------------------------------------------------------------------\n",
      "Intercept      1.0836      0.073     14.850      0.000       0.939       1.228\n",
      "PW             2.2299      0.051     43.387      0.000       2.128       2.332\n",
      "==============================================================================\n",
      "Omnibus:                        2.438   Durbin-Watson:                   1.430\n",
      "Prob(Omnibus):                  0.295   Jarque-Bera (JB):                1.966\n",
      "Skew:                           0.211   Prob(JB):                        0.374\n",
      "Kurtosis:                       3.369   Cond. No.                         3.70\n",
      "==============================================================================\n",
      "\n",
      "Notes:\n",
      "[1] Standard Errors assume that the covariance matrix of the errors is correctly specified.\n"
     ]
    }
   ],
   "source": [
    "model = ols(\"PL ~ PW\", data = iris_test).fit()\n",
    "print(model.summary())"
   ]
  },
  {
   "cell_type": "code",
   "execution_count": 82,
   "id": "ddf31508",
   "metadata": {},
   "outputs": [
    {
     "data": {
      "text/plain": [
       "Intercept    1.083558\n",
       "PW           2.229940\n",
       "dtype: float64"
      ]
     },
     "execution_count": 82,
     "metadata": {},
     "output_type": "execute_result"
    }
   ],
   "source": [
    "model.params"
   ]
  },
  {
   "cell_type": "markdown",
   "id": "a9a0e346",
   "metadata": {},
   "source": [
    "### Q2. 1번의 모델에서 회귀계수를 반올림하여 소수점 첫째 자리 까지 출력하시오."
   ]
  },
  {
   "cell_type": "code",
   "execution_count": 83,
   "id": "200132d8",
   "metadata": {},
   "outputs": [
    {
     "data": {
      "text/plain": [
       "2.2"
      ]
     },
     "execution_count": 83,
     "metadata": {},
     "output_type": "execute_result"
    }
   ],
   "source": [
    "model.params[1].round(1)"
   ]
  },
  {
   "cell_type": "markdown",
   "id": "c46d1fed",
   "metadata": {},
   "source": [
    "### Q3. 평가데이터를 사용하여 예측값을 산출하시오.\n"
   ]
  },
  {
   "cell_type": "code",
   "execution_count": 84,
   "id": "de9f88fe",
   "metadata": {},
   "outputs": [
    {
     "data": {
      "text/plain": [
       "0    1.529546\n",
       "1    1.529546\n",
       "2    1.529546\n",
       "3    1.529546\n",
       "dtype: float64"
      ]
     },
     "execution_count": 84,
     "metadata": {},
     "output_type": "execute_result"
    }
   ],
   "source": [
    "pred = model.predict(iris_test)\n",
    "pred[:4]"
   ]
  },
  {
   "cell_type": "markdown",
   "id": "85a9fdef",
   "metadata": {},
   "source": [
    "### Q4. 3번의 결과를 사용하여 RMSE를 계산하시오. "
   ]
  },
  {
   "cell_type": "code",
   "execution_count": 85,
   "id": "ac39bd21",
   "metadata": {},
   "outputs": [],
   "source": [
    "from sklearn.metrics import mean_squared_error"
   ]
  },
  {
   "cell_type": "code",
   "execution_count": 86,
   "id": "6c797ba5",
   "metadata": {},
   "outputs": [
    {
     "data": {
      "text/plain": [
       "0.47500703971487884"
      ]
     },
     "execution_count": 86,
     "metadata": {},
     "output_type": "execute_result"
    }
   ],
   "source": [
    "mean_squared_error(y_true = iris_test[\"PL\"], y_pred = pred) ** 0.5"
   ]
  },
  {
   "cell_type": "markdown",
   "id": "dc960f6b",
   "metadata": {},
   "source": [
    "### Q5. Petal.Width가 3.12 인 경우 Petal.Length는 값이 어떠한가?"
   ]
  },
  {
   "cell_type": "code",
   "execution_count": 87,
   "id": "cac2027e",
   "metadata": {},
   "outputs": [
    {
     "data": {
      "text/plain": [
       "0     7.773380\n",
       "1    27.842844\n",
       "dtype: float64"
      ]
     },
     "execution_count": 87,
     "metadata": {},
     "output_type": "execute_result"
    }
   ],
   "source": [
    "model.predict(pd.DataFrame({\"PW\" : [3, 12]}))"
   ]
  },
  {
   "cell_type": "markdown",
   "id": "f1ad775c",
   "metadata": {},
   "source": [
    "----------------------------------------------------------------------------"
   ]
  },
  {
   "cell_type": "code",
   "execution_count": 88,
   "id": "41d62c17",
   "metadata": {},
   "outputs": [],
   "source": [
    "from sklearn.linear_model import LinearRegression"
   ]
  },
  {
   "cell_type": "code",
   "execution_count": 92,
   "id": "b83c43c2",
   "metadata": {},
   "outputs": [],
   "source": [
    "model_sk = LinearRegression().fit(X = iris[[\"PL\"]],\n",
    "                                  y = iris[[\"PW\"]])"
   ]
  },
  {
   "cell_type": "code",
   "execution_count": 93,
   "id": "c856c449",
   "metadata": {},
   "outputs": [
    {
     "data": {
      "text/plain": [
       "array([[0.41575542]])"
      ]
     },
     "execution_count": 93,
     "metadata": {},
     "output_type": "execute_result"
    }
   ],
   "source": [
    "model_sk.coef_ # 회귀계수"
   ]
  },
  {
   "cell_type": "code",
   "execution_count": 94,
   "id": "2c7b3aa7",
   "metadata": {},
   "outputs": [
    {
     "data": {
      "text/plain": [
       "array([-0.36307552])"
      ]
     },
     "execution_count": 94,
     "metadata": {},
     "output_type": "execute_result"
    }
   ],
   "source": [
    "model_sk.intercept_ #절편`"
   ]
  },
  {
   "cell_type": "code",
   "execution_count": 95,
   "id": "6717459b",
   "metadata": {},
   "outputs": [
    {
     "data": {
      "text/plain": [
       "array([[0.21898206],\n",
       "       [0.21898206],\n",
       "       [0.17740652],\n",
       "       [0.2605576 ]])"
      ]
     },
     "execution_count": 95,
     "metadata": {},
     "output_type": "execute_result"
    }
   ],
   "source": [
    "model_sk.predict(iris.loc[:3, [\"PL\"]])"
   ]
  },
  {
   "cell_type": "markdown",
   "id": "7eba852d",
   "metadata": {},
   "source": [
    "### ------------------------------------------------------------------------"
   ]
  },
  {
   "cell_type": "code",
   "execution_count": 97,
   "id": "8cc69068",
   "metadata": {},
   "outputs": [],
   "source": [
    "bike = pd.read_csv(\"DS_lv1/bike.csv\")"
   ]
  },
  {
   "cell_type": "markdown",
   "id": "f6d3561a",
   "metadata": {},
   "source": [
    "### Q1.  bike 객체를 train 8, test 2로 분리하여 각각 bike_train, bike_test 객체에 저장하고 각 객체의 row 개수를 출력하시오.\n",
    "- seed 는 246으로 한다.(seed = random_state)"
   ]
  },
  {
   "cell_type": "code",
   "execution_count": 112,
   "id": "68d09e87",
   "metadata": {},
   "outputs": [
    {
     "data": {
      "text/html": [
       "<div>\n",
       "<style scoped>\n",
       "    .dataframe tbody tr th:only-of-type {\n",
       "        vertical-align: middle;\n",
       "    }\n",
       "\n",
       "    .dataframe tbody tr th {\n",
       "        vertical-align: top;\n",
       "    }\n",
       "\n",
       "    .dataframe thead th {\n",
       "        text-align: right;\n",
       "    }\n",
       "</style>\n",
       "<table border=\"1\" class=\"dataframe\">\n",
       "  <thead>\n",
       "    <tr style=\"text-align: right;\">\n",
       "      <th></th>\n",
       "      <th>datetime</th>\n",
       "      <th>season</th>\n",
       "      <th>holiday</th>\n",
       "      <th>workingday</th>\n",
       "      <th>weather</th>\n",
       "      <th>temp</th>\n",
       "      <th>atemp</th>\n",
       "      <th>humidity</th>\n",
       "      <th>windspeed</th>\n",
       "      <th>casual</th>\n",
       "      <th>registered</th>\n",
       "      <th>count</th>\n",
       "      <th>is_wend</th>\n",
       "    </tr>\n",
       "  </thead>\n",
       "  <tbody>\n",
       "    <tr>\n",
       "      <th>0</th>\n",
       "      <td>2011-01-01 00:00:00</td>\n",
       "      <td>1</td>\n",
       "      <td>0</td>\n",
       "      <td>0</td>\n",
       "      <td>1</td>\n",
       "      <td>9.84</td>\n",
       "      <td>14.395</td>\n",
       "      <td>81</td>\n",
       "      <td>0.0</td>\n",
       "      <td>3</td>\n",
       "      <td>13</td>\n",
       "      <td>16</td>\n",
       "      <td>2011-01-01 00:00:00</td>\n",
       "    </tr>\n",
       "    <tr>\n",
       "      <th>1</th>\n",
       "      <td>2011-01-01 01:00:00</td>\n",
       "      <td>1</td>\n",
       "      <td>0</td>\n",
       "      <td>0</td>\n",
       "      <td>1</td>\n",
       "      <td>9.02</td>\n",
       "      <td>13.635</td>\n",
       "      <td>80</td>\n",
       "      <td>0.0</td>\n",
       "      <td>8</td>\n",
       "      <td>32</td>\n",
       "      <td>40</td>\n",
       "      <td>2011-01-01 01:00:00</td>\n",
       "    </tr>\n",
       "  </tbody>\n",
       "</table>\n",
       "</div>"
      ],
      "text/plain": [
       "              datetime  season  holiday  workingday  weather  temp   atemp  \\\n",
       "0  2011-01-01 00:00:00       1        0           0        1  9.84  14.395   \n",
       "1  2011-01-01 01:00:00       1        0           0        1  9.02  13.635   \n",
       "\n",
       "   humidity  windspeed  casual  registered  count              is_wend  \n",
       "0        81        0.0       3          13     16  2011-01-01 00:00:00  \n",
       "1        80        0.0       8          32     40  2011-01-01 01:00:00  "
      ]
     },
     "execution_count": 112,
     "metadata": {},
     "output_type": "execute_result"
    }
   ],
   "source": [
    "from sklearn.model_selection import train_test_split\n",
    "from sklearn.linear_model import LinearRegression\n",
    "bike.head(2)"
   ]
  },
  {
   "cell_type": "code",
   "execution_count": 116,
   "id": "f6686aea",
   "metadata": {},
   "outputs": [
    {
     "name": "stdout",
     "output_type": "stream",
     "text": [
      "8708\n",
      "2178\n"
     ]
    }
   ],
   "source": [
    "bike_train, bike_test = train_test_split(bike, train_size = 0.8, random_state = 246)\n",
    "print(len(bike_train))\n",
    "print(len(bike_test))"
   ]
  },
  {
   "cell_type": "markdown",
   "id": "e1ada6fb",
   "metadata": {},
   "source": [
    "### Q2 registered를 종속변수로 하고 주말여부, weather, temp, windspeed변수를 독립변수로 하여 bike_train으로 학습한 다중선형회귀모델의 결정계수를 반올림하여 소수 둘째자리까지 출력하시오. \n",
    "- 주말여부 변수는 is_wend로 생성하고 datetime 변수를 활용하여 가공하시오. \n",
    "- statsmodels 라이브러리 함수를 사용하여 회귀분석을 실시하시오."
   ]
  },
  {
   "cell_type": "code",
   "execution_count": 120,
   "id": "e8b1dfde",
   "metadata": {},
   "outputs": [],
   "source": [
    "bike_train = bike_train.reset_index(drop = True)\n",
    "bike_train[\"datetime\"] = pd.to_datetime(bike_train[\"datetime\"])\n",
    "bike_train[\"is_wend\"] = (bike_train[\"datetime\"].dt.weekday >= 5) + 0\n"
   ]
  },
  {
   "cell_type": "code",
   "execution_count": 121,
   "id": "7b1ff262",
   "metadata": {},
   "outputs": [],
   "source": [
    "model = ols(\"registered ~ is_wend + weather + temp + windspeed\",\n",
    "            data = bike_train).fit()"
   ]
  },
  {
   "cell_type": "code",
   "execution_count": 122,
   "id": "542164cc",
   "metadata": {},
   "outputs": [
    {
     "data": {
      "text/plain": [
       "0.13"
      ]
     },
     "execution_count": 122,
     "metadata": {},
     "output_type": "execute_result"
    }
   ],
   "source": [
    "round(model.rsquared, 2)"
   ]
  },
  {
   "cell_type": "code",
   "execution_count": 123,
   "id": "abcf1707",
   "metadata": {},
   "outputs": [
    {
     "data": {
      "text/html": [
       "<table class=\"simpletable\">\n",
       "<caption>OLS Regression Results</caption>\n",
       "<tr>\n",
       "  <th>Dep. Variable:</th>       <td>registered</td>    <th>  R-squared:         </th> <td>   0.131</td> \n",
       "</tr>\n",
       "<tr>\n",
       "  <th>Model:</th>                   <td>OLS</td>       <th>  Adj. R-squared:    </th> <td>   0.131</td> \n",
       "</tr>\n",
       "<tr>\n",
       "  <th>Method:</th>             <td>Least Squares</td>  <th>  F-statistic:       </th> <td>   328.8</td> \n",
       "</tr>\n",
       "<tr>\n",
       "  <th>Date:</th>             <td>Fri, 29 Oct 2021</td> <th>  Prob (F-statistic):</th> <td>5.77e-264</td>\n",
       "</tr>\n",
       "<tr>\n",
       "  <th>Time:</th>                 <td>11:38:35</td>     <th>  Log-Likelihood:    </th> <td> -55423.</td> \n",
       "</tr>\n",
       "<tr>\n",
       "  <th>No. Observations:</th>      <td>  8708</td>      <th>  AIC:               </th> <td>1.109e+05</td>\n",
       "</tr>\n",
       "<tr>\n",
       "  <th>Df Residuals:</th>          <td>  8703</td>      <th>  BIC:               </th> <td>1.109e+05</td>\n",
       "</tr>\n",
       "<tr>\n",
       "  <th>Df Model:</th>              <td>     4</td>      <th>                     </th>     <td> </td>    \n",
       "</tr>\n",
       "<tr>\n",
       "  <th>Covariance Type:</th>      <td>nonrobust</td>    <th>                     </th>     <td> </td>    \n",
       "</tr>\n",
       "</table>\n",
       "<table class=\"simpletable\">\n",
       "<tr>\n",
       "      <td></td>         <th>coef</th>     <th>std err</th>      <th>t</th>      <th>P>|t|</th>  <th>[0.025</th>    <th>0.975]</th>  \n",
       "</tr>\n",
       "<tr>\n",
       "  <th>Intercept</th> <td>   53.4339</td> <td>    6.158</td> <td>    8.678</td> <td> 0.000</td> <td>   41.364</td> <td>   65.504</td>\n",
       "</tr>\n",
       "<tr>\n",
       "  <th>is_wend</th>   <td>  -35.2054</td> <td>    3.337</td> <td>  -10.549</td> <td> 0.000</td> <td>  -41.747</td> <td>  -28.664</td>\n",
       "</tr>\n",
       "<tr>\n",
       "  <th>weather</th>   <td>  -23.0506</td> <td>    2.383</td> <td>   -9.674</td> <td> 0.000</td> <td>  -27.721</td> <td>  -18.380</td>\n",
       "</tr>\n",
       "<tr>\n",
       "  <th>temp</th>      <td>    6.0615</td> <td>    0.194</td> <td>   31.287</td> <td> 0.000</td> <td>    5.682</td> <td>    6.441</td>\n",
       "</tr>\n",
       "<tr>\n",
       "  <th>windspeed</th> <td>    1.7532</td> <td>    0.185</td> <td>    9.481</td> <td> 0.000</td> <td>    1.391</td> <td>    2.116</td>\n",
       "</tr>\n",
       "</table>\n",
       "<table class=\"simpletable\">\n",
       "<tr>\n",
       "  <th>Omnibus:</th>       <td>2238.527</td> <th>  Durbin-Watson:     </th> <td>   2.009</td>\n",
       "</tr>\n",
       "<tr>\n",
       "  <th>Prob(Omnibus):</th>  <td> 0.000</td>  <th>  Jarque-Bera (JB):  </th> <td>5404.979</td>\n",
       "</tr>\n",
       "<tr>\n",
       "  <th>Skew:</th>           <td> 1.427</td>  <th>  Prob(JB):          </th> <td>    0.00</td>\n",
       "</tr>\n",
       "<tr>\n",
       "  <th>Kurtosis:</th>       <td> 5.599</td>  <th>  Cond. No.          </th> <td>    107.</td>\n",
       "</tr>\n",
       "</table><br/><br/>Notes:<br/>[1] Standard Errors assume that the covariance matrix of the errors is correctly specified."
      ],
      "text/plain": [
       "<class 'statsmodels.iolib.summary.Summary'>\n",
       "\"\"\"\n",
       "                            OLS Regression Results                            \n",
       "==============================================================================\n",
       "Dep. Variable:             registered   R-squared:                       0.131\n",
       "Model:                            OLS   Adj. R-squared:                  0.131\n",
       "Method:                 Least Squares   F-statistic:                     328.8\n",
       "Date:                Fri, 29 Oct 2021   Prob (F-statistic):          5.77e-264\n",
       "Time:                        11:38:35   Log-Likelihood:                -55423.\n",
       "No. Observations:                8708   AIC:                         1.109e+05\n",
       "Df Residuals:                    8703   BIC:                         1.109e+05\n",
       "Df Model:                           4                                         \n",
       "Covariance Type:            nonrobust                                         \n",
       "==============================================================================\n",
       "                 coef    std err          t      P>|t|      [0.025      0.975]\n",
       "------------------------------------------------------------------------------\n",
       "Intercept     53.4339      6.158      8.678      0.000      41.364      65.504\n",
       "is_wend      -35.2054      3.337    -10.549      0.000     -41.747     -28.664\n",
       "weather      -23.0506      2.383     -9.674      0.000     -27.721     -18.380\n",
       "temp           6.0615      0.194     31.287      0.000       5.682       6.441\n",
       "windspeed      1.7532      0.185      9.481      0.000       1.391       2.116\n",
       "==============================================================================\n",
       "Omnibus:                     2238.527   Durbin-Watson:                   2.009\n",
       "Prob(Omnibus):                  0.000   Jarque-Bera (JB):             5404.979\n",
       "Skew:                           1.427   Prob(JB):                         0.00\n",
       "Kurtosis:                       5.599   Cond. No.                         107.\n",
       "==============================================================================\n",
       "\n",
       "Notes:\n",
       "[1] Standard Errors assume that the covariance matrix of the errors is correctly specified.\n",
       "\"\"\""
      ]
     },
     "execution_count": 123,
     "metadata": {},
     "output_type": "execute_result"
    }
   ],
   "source": [
    "model.summary()"
   ]
  },
  {
   "cell_type": "code",
   "execution_count": 129,
   "id": "a46e5da1",
   "metadata": {},
   "outputs": [],
   "source": [
    "bike[\"datetime\"] = pd.to_datetime(bike[\"datetime\"])\n",
    "bike[\"hour\"] = bike[\"datetime\"].dt.hour\n",
    "bike_agg = bike.groupby(\"hour\")[\"registered\"].mean()"
   ]
  },
  {
   "cell_type": "code",
   "execution_count": 131,
   "id": "ad588fd2",
   "metadata": {},
   "outputs": [
    {
     "data": {
      "text/plain": [
       "<AxesSubplot:xlabel='hour'>"
      ]
     },
     "execution_count": 131,
     "metadata": {},
     "output_type": "execute_result"
    },
    {
     "data": {
      "image/png": "[encoded data removed]",
      "text/plain": [
       "<Figure size 432x288 with 1 Axes>"
      ]
     },
     "metadata": {
      "needs_background": "light"
     },
     "output_type": "display_data"
    }
   ],
   "source": [
    "bike_agg.plot(kind = \"bar\")"
   ]
  },
  {
   "cell_type": "markdown",
   "id": "df5ffc34",
   "metadata": {},
   "source": [
    "### Q. casual 변수의 시간대별 평균값을 막대그래프로 그려보시오."
   ]
  },
  {
   "cell_type": "code",
   "execution_count": 132,
   "id": "17b77b0f",
   "metadata": {},
   "outputs": [
    {
     "data": {
      "text/html": [
       "<div>\n",
       "<style scoped>\n",
       "    .dataframe tbody tr th:only-of-type {\n",
       "        vertical-align: middle;\n",
       "    }\n",
       "\n",
       "    .dataframe tbody tr th {\n",
       "        vertical-align: top;\n",
       "    }\n",
       "\n",
       "    .dataframe thead th {\n",
       "        text-align: right;\n",
       "    }\n",
       "</style>\n",
       "<table border=\"1\" class=\"dataframe\">\n",
       "  <thead>\n",
       "    <tr style=\"text-align: right;\">\n",
       "      <th></th>\n",
       "      <th>datetime</th>\n",
       "      <th>season</th>\n",
       "      <th>holiday</th>\n",
       "      <th>workingday</th>\n",
       "      <th>weather</th>\n",
       "      <th>temp</th>\n",
       "      <th>atemp</th>\n",
       "      <th>humidity</th>\n",
       "      <th>windspeed</th>\n",
       "      <th>casual</th>\n",
       "      <th>registered</th>\n",
       "      <th>count</th>\n",
       "      <th>is_wend</th>\n",
       "      <th>hour</th>\n",
       "    </tr>\n",
       "  </thead>\n",
       "  <tbody>\n",
       "    <tr>\n",
       "      <th>0</th>\n",
       "      <td>2011-01-01 00:00:00</td>\n",
       "      <td>1</td>\n",
       "      <td>0</td>\n",
       "      <td>0</td>\n",
       "      <td>1</td>\n",
       "      <td>9.84</td>\n",
       "      <td>14.395</td>\n",
       "      <td>81</td>\n",
       "      <td>0.0</td>\n",
       "      <td>3</td>\n",
       "      <td>13</td>\n",
       "      <td>16</td>\n",
       "      <td>2011-01-01 00:00:00</td>\n",
       "      <td>0</td>\n",
       "    </tr>\n",
       "    <tr>\n",
       "      <th>1</th>\n",
       "      <td>2011-01-01 01:00:00</td>\n",
       "      <td>1</td>\n",
       "      <td>0</td>\n",
       "      <td>0</td>\n",
       "      <td>1</td>\n",
       "      <td>9.02</td>\n",
       "      <td>13.635</td>\n",
       "      <td>80</td>\n",
       "      <td>0.0</td>\n",
       "      <td>8</td>\n",
       "      <td>32</td>\n",
       "      <td>40</td>\n",
       "      <td>2011-01-01 01:00:00</td>\n",
       "      <td>1</td>\n",
       "    </tr>\n",
       "  </tbody>\n",
       "</table>\n",
       "</div>"
      ],
      "text/plain": [
       "             datetime  season  holiday  workingday  weather  temp   atemp  \\\n",
       "0 2011-01-01 00:00:00       1        0           0        1  9.84  14.395   \n",
       "1 2011-01-01 01:00:00       1        0           0        1  9.02  13.635   \n",
       "\n",
       "   humidity  windspeed  casual  registered  count              is_wend  hour  \n",
       "0        81        0.0       3          13     16  2011-01-01 00:00:00     0  \n",
       "1        80        0.0       8          32     40  2011-01-01 01:00:00     1  "
      ]
     },
     "execution_count": 132,
     "metadata": {},
     "output_type": "execute_result"
    }
   ],
   "source": [
    "bike.head(2)"
   ]
  },
  {
   "cell_type": "code",
   "execution_count": 135,
   "id": "37cf38f4",
   "metadata": {},
   "outputs": [],
   "source": [
    "bike_1 = bike.groupby(\"hour\")[\"casual\"].mean()"
   ]
  },
  {
   "cell_type": "code",
   "execution_count": 136,
   "id": "a9a1bc7c",
   "metadata": {},
   "outputs": [
    {
     "data": {
      "text/plain": [
       "<AxesSubplot:xlabel='hour'>"
      ]
     },
     "execution_count": 136,
     "metadata": {},
     "output_type": "execute_result"
    },
    {
     "data": {
      "image/png": "[encoded data removed]",
      "text/plain": [
       "<Figure size 432x288 with 1 Axes>"
      ]
     },
     "metadata": {
      "needs_background": "light"
     },
     "output_type": "display_data"
    }
   ],
   "source": [
    "bike_1.plot(kind = \"bar\")"
   ]
  },
  {
   "cell_type": "markdown",
   "id": "32ff7a6a",
   "metadata": {},
   "source": [
    "### Q2. registered 변수의 요일별 평균값을 막대그래프로 그려보시오."
   ]
  },
  {
   "cell_type": "code",
   "execution_count": 143,
   "id": "78a2e9c4",
   "metadata": {},
   "outputs": [],
   "source": [
    "bike[\"wday\"] = bike[\"datetime\"].dt.weekday\n",
    "bike_2 = bike.groupby(\"wday\")[\"registered\"].mean()"
   ]
  },
  {
   "cell_type": "code",
   "execution_count": 144,
   "id": "dfb93547",
   "metadata": {},
   "outputs": [
    {
     "data": {
      "text/plain": [
       "<AxesSubplot:xlabel='wday'>"
      ]
     },
     "execution_count": 144,
     "metadata": {},
     "output_type": "execute_result"
    },
    {
     "data": {
      "image/png": "[encoded data removed]",
      "text/plain": [
       "<Figure size 432x288 with 1 Axes>"
      ]
     },
     "metadata": {
      "needs_background": "light"
     },
     "output_type": "display_data"
    }
   ],
   "source": [
    "bike_2.plot(kind = \"bar\")"
   ]
  },
  {
   "cell_type": "markdown",
   "id": "614a43db",
   "metadata": {},
   "source": [
    "### Q3. casual 변수의 요일별 평균값을 막대그래프로 그려보시오.\n"
   ]
  },
  {
   "cell_type": "code",
   "execution_count": 146,
   "id": "5214fb1b",
   "metadata": {},
   "outputs": [
    {
     "data": {
      "text/plain": [
       "<AxesSubplot:xlabel='wday'>"
      ]
     },
     "execution_count": 146,
     "metadata": {},
     "output_type": "execute_result"
    },
    {
     "data": {
      "image/png": "[encoded data removed]",
      "text/plain": [
       "<Figure size 432x288 with 1 Axes>"
      ]
     },
     "metadata": {
      "needs_background": "light"
     },
     "output_type": "display_data"
    }
   ],
   "source": [
    "bike.groupby(\"wday\")[\"casual\"].mean().plot(kind = \"bar\")"
   ]
  },
  {
   "cell_type": "markdown",
   "id": "2f1b936e",
   "metadata": {},
   "source": [
    "---------------------------------------------------"
   ]
  },
  {
   "cell_type": "code",
   "execution_count": 147,
   "id": "e4cf471e",
   "metadata": {},
   "outputs": [
    {
     "data": {
      "text/html": [
       "<div>\n",
       "<style scoped>\n",
       "    .dataframe tbody tr th:only-of-type {\n",
       "        vertical-align: middle;\n",
       "    }\n",
       "\n",
       "    .dataframe tbody tr th {\n",
       "        vertical-align: top;\n",
       "    }\n",
       "\n",
       "    .dataframe thead th {\n",
       "        text-align: right;\n",
       "    }\n",
       "</style>\n",
       "<table border=\"1\" class=\"dataframe\">\n",
       "  <thead>\n",
       "    <tr style=\"text-align: right;\">\n",
       "      <th></th>\n",
       "      <th>carat</th>\n",
       "      <th>cut</th>\n",
       "      <th>color</th>\n",
       "      <th>clarity</th>\n",
       "      <th>depth</th>\n",
       "      <th>table</th>\n",
       "      <th>price</th>\n",
       "      <th>x</th>\n",
       "      <th>y</th>\n",
       "      <th>z</th>\n",
       "    </tr>\n",
       "  </thead>\n",
       "  <tbody>\n",
       "    <tr>\n",
       "      <th>0</th>\n",
       "      <td>0.23</td>\n",
       "      <td>Ideal</td>\n",
       "      <td>E</td>\n",
       "      <td>SI2</td>\n",
       "      <td>61.5</td>\n",
       "      <td>55.0</td>\n",
       "      <td>326</td>\n",
       "      <td>3.95</td>\n",
       "      <td>3.98</td>\n",
       "      <td>2.43</td>\n",
       "    </tr>\n",
       "    <tr>\n",
       "      <th>1</th>\n",
       "      <td>0.21</td>\n",
       "      <td>Premium</td>\n",
       "      <td>E</td>\n",
       "      <td>SI1</td>\n",
       "      <td>59.8</td>\n",
       "      <td>61.0</td>\n",
       "      <td>326</td>\n",
       "      <td>3.89</td>\n",
       "      <td>3.84</td>\n",
       "      <td>2.31</td>\n",
       "    </tr>\n",
       "  </tbody>\n",
       "</table>\n",
       "</div>"
      ],
      "text/plain": [
       "   carat      cut color clarity  depth  table  price     x     y     z\n",
       "0   0.23    Ideal     E     SI2   61.5   55.0    326  3.95  3.98  2.43\n",
       "1   0.21  Premium     E     SI1   59.8   61.0    326  3.89  3.84  2.31"
      ]
     },
     "execution_count": 147,
     "metadata": {},
     "output_type": "execute_result"
    }
   ],
   "source": [
    "dia = pd.read_csv(\"DS_lv1/diamonds.csv\")\n",
    "dia.head(2)"
   ]
  },
  {
   "cell_type": "code",
   "execution_count": 148,
   "id": "2d1801c4",
   "metadata": {},
   "outputs": [
    {
     "data": {
      "text/html": [
       "<div>\n",
       "<style scoped>\n",
       "    .dataframe tbody tr th:only-of-type {\n",
       "        vertical-align: middle;\n",
       "    }\n",
       "\n",
       "    .dataframe tbody tr th {\n",
       "        vertical-align: top;\n",
       "    }\n",
       "\n",
       "    .dataframe thead th {\n",
       "        text-align: right;\n",
       "    }\n",
       "</style>\n",
       "<table border=\"1\" class=\"dataframe\">\n",
       "  <thead>\n",
       "    <tr style=\"text-align: right;\">\n",
       "      <th></th>\n",
       "      <th>carat</th>\n",
       "      <th>color</th>\n",
       "      <th>clarity</th>\n",
       "      <th>depth</th>\n",
       "      <th>table</th>\n",
       "      <th>price</th>\n",
       "      <th>x</th>\n",
       "      <th>y</th>\n",
       "      <th>z</th>\n",
       "      <th>cut_Fair</th>\n",
       "      <th>cut_Good</th>\n",
       "      <th>cut_Ideal</th>\n",
       "      <th>cut_Premium</th>\n",
       "      <th>cut_Very Good</th>\n",
       "    </tr>\n",
       "  </thead>\n",
       "  <tbody>\n",
       "    <tr>\n",
       "      <th>0</th>\n",
       "      <td>0.23</td>\n",
       "      <td>E</td>\n",
       "      <td>SI2</td>\n",
       "      <td>61.5</td>\n",
       "      <td>55.0</td>\n",
       "      <td>326</td>\n",
       "      <td>3.95</td>\n",
       "      <td>3.98</td>\n",
       "      <td>2.43</td>\n",
       "      <td>0</td>\n",
       "      <td>0</td>\n",
       "      <td>1</td>\n",
       "      <td>0</td>\n",
       "      <td>0</td>\n",
       "    </tr>\n",
       "    <tr>\n",
       "      <th>1</th>\n",
       "      <td>0.21</td>\n",
       "      <td>E</td>\n",
       "      <td>SI1</td>\n",
       "      <td>59.8</td>\n",
       "      <td>61.0</td>\n",
       "      <td>326</td>\n",
       "      <td>3.89</td>\n",
       "      <td>3.84</td>\n",
       "      <td>2.31</td>\n",
       "      <td>0</td>\n",
       "      <td>0</td>\n",
       "      <td>0</td>\n",
       "      <td>1</td>\n",
       "      <td>0</td>\n",
       "    </tr>\n",
       "  </tbody>\n",
       "</table>\n",
       "</div>"
      ],
      "text/plain": [
       "   carat color clarity  depth  table  price     x     y     z  cut_Fair  \\\n",
       "0   0.23     E     SI2   61.5   55.0    326  3.95  3.98  2.43         0   \n",
       "1   0.21     E     SI1   59.8   61.0    326  3.89  3.84  2.31         0   \n",
       "\n",
       "   cut_Good  cut_Ideal  cut_Premium  cut_Very Good  \n",
       "0         0          1            0              0  \n",
       "1         0          0            1              0  "
      ]
     },
     "execution_count": 148,
     "metadata": {},
     "output_type": "execute_result"
    }
   ],
   "source": [
    "dia_cum = pd.get_dummies(data = dia, columns = [\"cut\"])\n",
    "dia_cum.head(2)"
   ]
  },
  {
   "cell_type": "code",
   "execution_count": 151,
   "id": "443ec466",
   "metadata": {},
   "outputs": [
    {
     "data": {
      "text/plain": [
       "Index(['carat', 'color', 'clarity', 'depth', 'table', 'price', 'x', 'y', 'z',\n",
       "       'cut_Fair', 'cut_Good', 'cut_Ideal', 'cut_Premium', 'cut_Very Good'],\n",
       "      dtype='object')"
      ]
     },
     "execution_count": 151,
     "metadata": {},
     "output_type": "execute_result"
    }
   ],
   "source": [
    "dia_cum.columns"
   ]
  },
  {
   "cell_type": "code",
   "execution_count": 149,
   "id": "0563e1ad",
   "metadata": {},
   "outputs": [
    {
     "data": {
      "text/html": [
       "<div>\n",
       "<style scoped>\n",
       "    .dataframe tbody tr th:only-of-type {\n",
       "        vertical-align: middle;\n",
       "    }\n",
       "\n",
       "    .dataframe tbody tr th {\n",
       "        vertical-align: top;\n",
       "    }\n",
       "\n",
       "    .dataframe thead th {\n",
       "        text-align: right;\n",
       "    }\n",
       "</style>\n",
       "<table border=\"1\" class=\"dataframe\">\n",
       "  <thead>\n",
       "    <tr style=\"text-align: right;\">\n",
       "      <th></th>\n",
       "      <th>carat</th>\n",
       "      <th>color</th>\n",
       "      <th>clarity</th>\n",
       "      <th>depth</th>\n",
       "      <th>table</th>\n",
       "      <th>price</th>\n",
       "      <th>x</th>\n",
       "      <th>y</th>\n",
       "      <th>z</th>\n",
       "      <th>cut_Good</th>\n",
       "      <th>cut_Ideal</th>\n",
       "      <th>cut_Premium</th>\n",
       "      <th>cut_Very Good</th>\n",
       "    </tr>\n",
       "  </thead>\n",
       "  <tbody>\n",
       "    <tr>\n",
       "      <th>0</th>\n",
       "      <td>0.23</td>\n",
       "      <td>E</td>\n",
       "      <td>SI2</td>\n",
       "      <td>61.5</td>\n",
       "      <td>55.0</td>\n",
       "      <td>326</td>\n",
       "      <td>3.95</td>\n",
       "      <td>3.98</td>\n",
       "      <td>2.43</td>\n",
       "      <td>0</td>\n",
       "      <td>1</td>\n",
       "      <td>0</td>\n",
       "      <td>0</td>\n",
       "    </tr>\n",
       "  </tbody>\n",
       "</table>\n",
       "</div>"
      ],
      "text/plain": [
       "   carat color clarity  depth  table  price     x     y     z  cut_Good  \\\n",
       "0   0.23     E     SI2   61.5   55.0    326  3.95  3.98  2.43         0   \n",
       "\n",
       "   cut_Ideal  cut_Premium  cut_Very Good  \n",
       "0          1            0              0  "
      ]
     },
     "execution_count": 149,
     "metadata": {},
     "output_type": "execute_result"
    }
   ],
   "source": [
    "dia_cum2 = pd.get_dummies(data = dia, columns=[\"cut\"],\n",
    "                          drop_first=True)\n",
    "dia_cum2.head(1)"
   ]
  },
  {
   "cell_type": "code",
   "execution_count": 152,
   "id": "1a085378",
   "metadata": {},
   "outputs": [
    {
     "data": {
      "text/plain": [
       "'price ~ carat + cut + color + clarity'"
      ]
     },
     "execution_count": 152,
     "metadata": {},
     "output_type": "execute_result"
    }
   ],
   "source": [
    "\"price ~ \" + \" + \".join(dia.columns[:4])"
   ]
  },
  {
   "cell_type": "markdown",
   "id": "fdff9129",
   "metadata": {},
   "source": [
    "### Q. dia 객체를 학습 8, 평가 2로 분리하고 학습데이터 세트를 기준으로 다중선형회귀 분석을 실시하시오. 그리고 회귀모델의 결정계수를 반올림하여 소수점 둘째 자리까지 기술하시오.\n",
    "- 종속변수는 price, 독립변수는 clolr, carat으로 지정하시오.\n",
    "- 명목형 변수는 One Hot Encoding을 실시하고 첫번째 더미변수는 제거하시오.\n",
    "- 데이터 세트 분리 시 seed는 234로 지정하시오. "
   ]
  },
  {
   "cell_type": "code",
   "execution_count": 180,
   "id": "18e2bb1c",
   "metadata": {},
   "outputs": [
    {
     "data": {
      "text/html": [
       "<div>\n",
       "<style scoped>\n",
       "    .dataframe tbody tr th:only-of-type {\n",
       "        vertical-align: middle;\n",
       "    }\n",
       "\n",
       "    .dataframe tbody tr th {\n",
       "        vertical-align: top;\n",
       "    }\n",
       "\n",
       "    .dataframe thead th {\n",
       "        text-align: right;\n",
       "    }\n",
       "</style>\n",
       "<table border=\"1\" class=\"dataframe\">\n",
       "  <thead>\n",
       "    <tr style=\"text-align: right;\">\n",
       "      <th></th>\n",
       "      <th>price</th>\n",
       "      <th>carat</th>\n",
       "      <th>color_E</th>\n",
       "      <th>color_F</th>\n",
       "      <th>color_G</th>\n",
       "      <th>color_H</th>\n",
       "      <th>color_I</th>\n",
       "      <th>color_J</th>\n",
       "    </tr>\n",
       "  </thead>\n",
       "  <tbody>\n",
       "    <tr>\n",
       "      <th>0</th>\n",
       "      <td>326</td>\n",
       "      <td>0.23</td>\n",
       "      <td>1</td>\n",
       "      <td>0</td>\n",
       "      <td>0</td>\n",
       "      <td>0</td>\n",
       "      <td>0</td>\n",
       "      <td>0</td>\n",
       "    </tr>\n",
       "    <tr>\n",
       "      <th>1</th>\n",
       "      <td>326</td>\n",
       "      <td>0.21</td>\n",
       "      <td>1</td>\n",
       "      <td>0</td>\n",
       "      <td>0</td>\n",
       "      <td>0</td>\n",
       "      <td>0</td>\n",
       "      <td>0</td>\n",
       "    </tr>\n",
       "  </tbody>\n",
       "</table>\n",
       "</div>"
      ],
      "text/plain": [
       "   price  carat  color_E  color_F  color_G  color_H  color_I  color_J\n",
       "0    326   0.23        1        0        0        0        0        0\n",
       "1    326   0.21        1        0        0        0        0        0"
      ]
     },
     "execution_count": 180,
     "metadata": {},
     "output_type": "execute_result"
    }
   ],
   "source": [
    "dia_dum = pd.get_dummies(dia[[\"price\", \"carat\", \"color\"]],\n",
    "                         columns = [\"color\"], drop_first = True)\n",
    "dia_dum.head(2)"
   ]
  },
  {
   "cell_type": "code",
   "execution_count": 181,
   "id": "153e5e7f",
   "metadata": {},
   "outputs": [],
   "source": [
    "dia_train, dia_test = train_test_split(dia_dum,\n",
    "                                       train_size = 0.8,\n",
    "                                       random_state = 234)"
   ]
  },
  {
   "cell_type": "code",
   "execution_count": 182,
   "id": "493eee8b",
   "metadata": {},
   "outputs": [],
   "source": [
    "model = ols(\"price ~\" + \" + \".join(dia_train.columns[1:]), data = dia_train).fit()"
   ]
  },
  {
   "cell_type": "code",
   "execution_count": 183,
   "id": "5279f73f",
   "metadata": {},
   "outputs": [
    {
     "data": {
      "text/plain": [
       "0.86"
      ]
     },
     "execution_count": 183,
     "metadata": {},
     "output_type": "execute_result"
    }
   ],
   "source": [
    "round(model.rsquared, 2)"
   ]
  },
  {
   "cell_type": "markdown",
   "id": "d83757a5",
   "metadata": {},
   "source": [
    "### Q2. 1번에서 생성한 모델을 기준으로 평가 데이터 세트를 활용하여 예측값을 생산하고 MAE를 구하시오.\n",
    "- 단, 결과값은 반올림하여 소수점 셋째자리까지 출력하시오."
   ]
  },
  {
   "cell_type": "code",
   "execution_count": 187,
   "id": "b8d6c062",
   "metadata": {},
   "outputs": [],
   "source": [
    "from sklearn.metrics import mean_absolute_error"
   ]
  },
  {
   "cell_type": "code",
   "execution_count": 188,
   "id": "9826f275",
   "metadata": {},
   "outputs": [
    {
     "data": {
      "text/plain": [
       "979.735"
      ]
     },
     "execution_count": 188,
     "metadata": {},
     "output_type": "execute_result"
    }
   ],
   "source": [
    "pred = model.predict(dia_test)\n",
    "round(mean_absolute_error(y_true = dia_test[\"price\"], y_pred = pred), 3)"
   ]
  },
  {
   "cell_type": "markdown",
   "id": "9b2ce7a6",
   "metadata": {},
   "source": [
    "### Q3. 색상이 J이면서 1캐럿인 다이아몬드의 가격은 얼마인가?\n",
    "- 1번에서 생성한 모델을 기준으로 연산하시오."
   ]
  },
  {
   "cell_type": "code",
   "execution_count": 190,
   "id": "b9092c72",
   "metadata": {},
   "outputs": [
    {
     "data": {
      "text/html": [
       "<div>\n",
       "<style scoped>\n",
       "    .dataframe tbody tr th:only-of-type {\n",
       "        vertical-align: middle;\n",
       "    }\n",
       "\n",
       "    .dataframe tbody tr th {\n",
       "        vertical-align: top;\n",
       "    }\n",
       "\n",
       "    .dataframe thead th {\n",
       "        text-align: right;\n",
       "    }\n",
       "</style>\n",
       "<table border=\"1\" class=\"dataframe\">\n",
       "  <thead>\n",
       "    <tr style=\"text-align: right;\">\n",
       "      <th></th>\n",
       "      <th>price</th>\n",
       "      <th>carat</th>\n",
       "      <th>color_E</th>\n",
       "      <th>color_F</th>\n",
       "      <th>color_G</th>\n",
       "      <th>color_H</th>\n",
       "      <th>color_I</th>\n",
       "      <th>color_J</th>\n",
       "    </tr>\n",
       "  </thead>\n",
       "  <tbody>\n",
       "    <tr>\n",
       "      <th>41284</th>\n",
       "      <td>1209</td>\n",
       "      <td>0.53</td>\n",
       "      <td>0</td>\n",
       "      <td>0</td>\n",
       "      <td>0</td>\n",
       "      <td>0</td>\n",
       "      <td>1</td>\n",
       "      <td>0</td>\n",
       "    </tr>\n",
       "    <tr>\n",
       "      <th>31176</th>\n",
       "      <td>756</td>\n",
       "      <td>0.32</td>\n",
       "      <td>0</td>\n",
       "      <td>0</td>\n",
       "      <td>0</td>\n",
       "      <td>0</td>\n",
       "      <td>0</td>\n",
       "      <td>0</td>\n",
       "    </tr>\n",
       "  </tbody>\n",
       "</table>\n",
       "</div>"
      ],
      "text/plain": [
       "       price  carat  color_E  color_F  color_G  color_H  color_I  color_J\n",
       "41284   1209   0.53        0        0        0        0        1        0\n",
       "31176    756   0.32        0        0        0        0        0        0"
      ]
     },
     "execution_count": 190,
     "metadata": {},
     "output_type": "execute_result"
    }
   ],
   "source": [
    "dia_train.tail(2)"
   ]
  },
  {
   "cell_type": "code",
   "execution_count": 194,
   "id": "5e881c45",
   "metadata": {},
   "outputs": [
    {
     "data": {
      "text/html": [
       "<div>\n",
       "<style scoped>\n",
       "    .dataframe tbody tr th:only-of-type {\n",
       "        vertical-align: middle;\n",
       "    }\n",
       "\n",
       "    .dataframe tbody tr th {\n",
       "        vertical-align: top;\n",
       "    }\n",
       "\n",
       "    .dataframe thead th {\n",
       "        text-align: right;\n",
       "    }\n",
       "</style>\n",
       "<table border=\"1\" class=\"dataframe\">\n",
       "  <thead>\n",
       "    <tr style=\"text-align: right;\">\n",
       "      <th></th>\n",
       "      <th>carat</th>\n",
       "      <th>color_E</th>\n",
       "      <th>color_F</th>\n",
       "      <th>color_G</th>\n",
       "      <th>color_H</th>\n",
       "      <th>color_I</th>\n",
       "      <th>color_J</th>\n",
       "    </tr>\n",
       "  </thead>\n",
       "  <tbody>\n",
       "    <tr>\n",
       "      <th>0</th>\n",
       "      <td>1</td>\n",
       "      <td>0</td>\n",
       "      <td>0</td>\n",
       "      <td>0</td>\n",
       "      <td>0</td>\n",
       "      <td>0</td>\n",
       "      <td>1</td>\n",
       "    </tr>\n",
       "  </tbody>\n",
       "</table>\n",
       "</div>"
      ],
      "text/plain": [
       "   carat  color_E  color_F  color_G  color_H  color_I  color_J\n",
       "0      1        0        0        0        0        0        1"
      ]
     },
     "execution_count": 194,
     "metadata": {},
     "output_type": "execute_result"
    }
   ],
   "source": [
    "test_1row = dia_train.iloc[[0], 1:].reset_index(drop = True)\n",
    "test_1row[\"color_E\"] = 0\n",
    "test_1row[\"color_J\"] = 1\n",
    "test_1row[\"carat\"] = 1\n",
    "test_1row"
   ]
  },
  {
   "cell_type": "code",
   "execution_count": 195,
   "id": "57e42943",
   "metadata": {},
   "outputs": [
    {
     "data": {
      "text/plain": [
       "0    4006.026615\n",
       "dtype: float64"
      ]
     },
     "execution_count": 195,
     "metadata": {},
     "output_type": "execute_result"
    }
   ],
   "source": [
    "model.predict(test_1row)"
   ]
  },
  {
   "cell_type": "markdown",
   "id": "2002bcd9",
   "metadata": {},
   "source": [
    "### -------------------------------------------------------------------"
   ]
  },
  {
   "cell_type": "markdown",
   "id": "74fe4135",
   "metadata": {},
   "source": [
    "#### 로지스틱 회귀"
   ]
  },
  {
   "cell_type": "code",
   "execution_count": 203,
   "id": "9cd6a77a",
   "metadata": {},
   "outputs": [],
   "source": [
    "from statsmodels.api import Logit"
   ]
  },
  {
   "cell_type": "code",
   "execution_count": 204,
   "id": "1fc39010",
   "metadata": {},
   "outputs": [
    {
     "data": {
      "text/html": [
       "<div>\n",
       "<style scoped>\n",
       "    .dataframe tbody tr th:only-of-type {\n",
       "        vertical-align: middle;\n",
       "    }\n",
       "\n",
       "    .dataframe tbody tr th {\n",
       "        vertical-align: top;\n",
       "    }\n",
       "\n",
       "    .dataframe thead th {\n",
       "        text-align: right;\n",
       "    }\n",
       "</style>\n",
       "<table border=\"1\" class=\"dataframe\">\n",
       "  <thead>\n",
       "    <tr style=\"text-align: right;\">\n",
       "      <th></th>\n",
       "      <th>admit</th>\n",
       "      <th>gre</th>\n",
       "      <th>gpa</th>\n",
       "      <th>rank</th>\n",
       "    </tr>\n",
       "  </thead>\n",
       "  <tbody>\n",
       "    <tr>\n",
       "      <th>0</th>\n",
       "      <td>0</td>\n",
       "      <td>380</td>\n",
       "      <td>3.61</td>\n",
       "      <td>3</td>\n",
       "    </tr>\n",
       "    <tr>\n",
       "      <th>1</th>\n",
       "      <td>1</td>\n",
       "      <td>660</td>\n",
       "      <td>3.67</td>\n",
       "      <td>3</td>\n",
       "    </tr>\n",
       "  </tbody>\n",
       "</table>\n",
       "</div>"
      ],
      "text/plain": [
       "   admit  gre   gpa  rank\n",
       "0      0  380  3.61     3\n",
       "1      1  660  3.67     3"
      ]
     },
     "execution_count": 204,
     "metadata": {},
     "output_type": "execute_result"
    }
   ],
   "source": [
    "df = pd.read_csv(\"DS_lv1/logistic_regression_01.csv\")\n",
    "df.head(2)"
   ]
  },
  {
   "cell_type": "code",
   "execution_count": 205,
   "id": "e62d54e7",
   "metadata": {},
   "outputs": [
    {
     "name": "stdout",
     "output_type": "stream",
     "text": [
      "Optimization terminated successfully.\n",
      "         Current function value: 0.586372\n",
      "         Iterations 5\n"
     ]
    }
   ],
   "source": [
    "model = Logit(endog = df[[\"admit\"]], exog = df.drop(\"admit\", axis = 1)).fit()"
   ]
  },
  {
   "cell_type": "code",
   "execution_count": 207,
   "id": "4929a3e6",
   "metadata": {},
   "outputs": [
    {
     "data": {
      "text/html": [
       "<table class=\"simpletable\">\n",
       "<caption>Logit Regression Results</caption>\n",
       "<tr>\n",
       "  <th>Dep. Variable:</th>         <td>admit</td>      <th>  No. Observations:  </th>  <td>   400</td>  \n",
       "</tr>\n",
       "<tr>\n",
       "  <th>Model:</th>                 <td>Logit</td>      <th>  Df Residuals:      </th>  <td>   397</td>  \n",
       "</tr>\n",
       "<tr>\n",
       "  <th>Method:</th>                 <td>MLE</td>       <th>  Df Model:          </th>  <td>     2</td>  \n",
       "</tr>\n",
       "<tr>\n",
       "  <th>Date:</th>            <td>Fri, 29 Oct 2021</td> <th>  Pseudo R-squ.:     </th>  <td>0.06176</td> \n",
       "</tr>\n",
       "<tr>\n",
       "  <th>Time:</th>                <td>15:44:51</td>     <th>  Log-Likelihood:    </th> <td> -234.55</td> \n",
       "</tr>\n",
       "<tr>\n",
       "  <th>converged:</th>             <td>True</td>       <th>  LL-Null:           </th> <td> -249.99</td> \n",
       "</tr>\n",
       "<tr>\n",
       "  <th>Covariance Type:</th>     <td>nonrobust</td>    <th>  LLR p-value:       </th> <td>1.971e-07</td>\n",
       "</tr>\n",
       "</table>\n",
       "<table class=\"simpletable\">\n",
       "<tr>\n",
       "    <td></td>      <th>coef</th>     <th>std err</th>      <th>z</th>      <th>P>|z|</th>  <th>[0.025</th>    <th>0.975]</th>  \n",
       "</tr>\n",
       "<tr>\n",
       "  <th>gre</th>  <td>    0.0015</td> <td>    0.001</td> <td>    1.420</td> <td> 0.155</td> <td>   -0.001</td> <td>    0.004</td>\n",
       "</tr>\n",
       "<tr>\n",
       "  <th>gpa</th>  <td>   -0.0042</td> <td>    0.201</td> <td>   -0.021</td> <td> 0.983</td> <td>   -0.398</td> <td>    0.390</td>\n",
       "</tr>\n",
       "<tr>\n",
       "  <th>rank</th> <td>   -0.6695</td> <td>    0.121</td> <td>   -5.527</td> <td> 0.000</td> <td>   -0.907</td> <td>   -0.432</td>\n",
       "</tr>\n",
       "</table>"
      ],
      "text/plain": [
       "<class 'statsmodels.iolib.summary.Summary'>\n",
       "\"\"\"\n",
       "                           Logit Regression Results                           \n",
       "==============================================================================\n",
       "Dep. Variable:                  admit   No. Observations:                  400\n",
       "Model:                          Logit   Df Residuals:                      397\n",
       "Method:                           MLE   Df Model:                            2\n",
       "Date:                Fri, 29 Oct 2021   Pseudo R-squ.:                 0.06176\n",
       "Time:                        15:44:51   Log-Likelihood:                -234.55\n",
       "converged:                       True   LL-Null:                       -249.99\n",
       "Covariance Type:            nonrobust   LLR p-value:                 1.971e-07\n",
       "==============================================================================\n",
       "                 coef    std err          z      P>|z|      [0.025      0.975]\n",
       "------------------------------------------------------------------------------\n",
       "gre            0.0015      0.001      1.420      0.155      -0.001       0.004\n",
       "gpa           -0.0042      0.201     -0.021      0.983      -0.398       0.390\n",
       "rank          -0.6695      0.121     -5.527      0.000      -0.907      -0.432\n",
       "==============================================================================\n",
       "\"\"\""
      ]
     },
     "execution_count": 207,
     "metadata": {},
     "output_type": "execute_result"
    }
   ],
   "source": [
    "model.summary()"
   ]
  },
  {
   "cell_type": "code",
   "execution_count": 208,
   "id": "a6c4d646",
   "metadata": {},
   "outputs": [],
   "source": [
    "import numpy as np"
   ]
  },
  {
   "cell_type": "code",
   "execution_count": 209,
   "id": "ee76d64f",
   "metadata": {},
   "outputs": [
    {
     "data": {
      "text/plain": [
       "gre     0.001477\n",
       "gpa    -0.004167\n",
       "rank   -0.669538\n",
       "dtype: float64"
      ]
     },
     "execution_count": 209,
     "metadata": {},
     "output_type": "execute_result"
    }
   ],
   "source": [
    "model.params"
   ]
  },
  {
   "cell_type": "code",
   "execution_count": 211,
   "id": "e37d6a8a",
   "metadata": {},
   "outputs": [
    {
     "data": {
      "text/plain": [
       "gre     1.001478\n",
       "gpa     0.995842\n",
       "rank    0.511945\n",
       "dtype: float64"
      ]
     },
     "execution_count": 211,
     "metadata": {},
     "output_type": "execute_result"
    }
   ],
   "source": [
    "np.exp(model.params) #Odds Ratio"
   ]
  },
  {
   "cell_type": "markdown",
   "id": "49bb2658",
   "metadata": {},
   "source": [
    "### Q. 다음 classification_data_01.csv 파일의 데이터를 사용하여 분석을 실시하시오."
   ]
  },
  {
   "cell_type": "code",
   "execution_count": 221,
   "id": "babc3339",
   "metadata": {},
   "outputs": [
    {
     "data": {
      "text/html": [
       "<div>\n",
       "<style scoped>\n",
       "    .dataframe tbody tr th:only-of-type {\n",
       "        vertical-align: middle;\n",
       "    }\n",
       "\n",
       "    .dataframe tbody tr th {\n",
       "        vertical-align: top;\n",
       "    }\n",
       "\n",
       "    .dataframe thead th {\n",
       "        text-align: right;\n",
       "    }\n",
       "</style>\n",
       "<table border=\"1\" class=\"dataframe\">\n",
       "  <thead>\n",
       "    <tr style=\"text-align: right;\">\n",
       "      <th></th>\n",
       "      <th>Variance</th>\n",
       "      <th>Skewness</th>\n",
       "      <th>Curtosis</th>\n",
       "      <th>Entropy</th>\n",
       "      <th>Class</th>\n",
       "    </tr>\n",
       "  </thead>\n",
       "  <tbody>\n",
       "    <tr>\n",
       "      <th>0</th>\n",
       "      <td>3.6216</td>\n",
       "      <td>8.6661</td>\n",
       "      <td>-2.8073</td>\n",
       "      <td>-0.44699</td>\n",
       "      <td>0</td>\n",
       "    </tr>\n",
       "    <tr>\n",
       "      <th>1</th>\n",
       "      <td>4.5459</td>\n",
       "      <td>8.1674</td>\n",
       "      <td>-2.4586</td>\n",
       "      <td>-1.46210</td>\n",
       "      <td>0</td>\n",
       "    </tr>\n",
       "  </tbody>\n",
       "</table>\n",
       "</div>"
      ],
      "text/plain": [
       "   Variance  Skewness  Curtosis  Entropy  Class\n",
       "0    3.6216    8.6661   -2.8073 -0.44699      0\n",
       "1    4.5459    8.1674   -2.4586 -1.46210      0"
      ]
     },
     "execution_count": 221,
     "metadata": {},
     "output_type": "execute_result"
    }
   ],
   "source": [
    "df = pd.read_csv(\"DS_lv1/classification_data_01.csv\")\n",
    "df.head(2)"
   ]
  },
  {
   "cell_type": "markdown",
   "id": "e5efd258",
   "metadata": {},
   "source": [
    "### Q1. 학습과 평가를 7:3으로 분리하고 이항 로지스틱 회귀 분석을 실시하고 각 독립변수의 OR(Odds Ratio)를 계산하시오.\n",
    "- statsmodels 라이브러리의 함수를 사용하시오.  \n",
    "- seed는 567로 지정하시오  \n",
    "- 결과값은 반올림하여 소수점 둘째 자리까지 표기하시오.  "
   ]
  },
  {
   "cell_type": "code",
   "execution_count": 224,
   "id": "7d028d10",
   "metadata": {},
   "outputs": [],
   "source": [
    "from statsmodels.formula.api import ols\n",
    "df_train, df_test = train_test_split(df, train_size = 0.7, random_state = 567)"
   ]
  },
  {
   "cell_type": "code",
   "execution_count": 226,
   "id": "789a5509",
   "metadata": {},
   "outputs": [
    {
     "name": "stdout",
     "output_type": "stream",
     "text": [
      "Optimization terminated successfully.\n",
      "         Current function value: 0.102186\n",
      "         Iterations 11\n"
     ]
    }
   ],
   "source": [
    "from statsmodels.api import Logit\n",
    "model = Logit(endog = df_train[[\"Class\"]],\n",
    "              exog = df_train.drop(\"Class\", axis = 1)).fit()"
   ]
  },
  {
   "cell_type": "code",
   "execution_count": 227,
   "id": "99f808f0",
   "metadata": {},
   "outputs": [
    {
     "data": {
      "text/plain": [
       "Variance    0.069384\n",
       "Skewness    0.191537\n",
       "Curtosis    0.169990\n",
       "Entropy     0.429068\n",
       "dtype: float64"
      ]
     },
     "execution_count": 227,
     "metadata": {},
     "output_type": "execute_result"
    }
   ],
   "source": [
    "np.exp(model.params)"
   ]
  },
  {
   "cell_type": "markdown",
   "id": "eb0f52ae",
   "metadata": {},
   "source": [
    "### Q2. 평가 데이터세트로 1번에서 생서한 모델을 활용하여 예측값을 생산하시오.  이 때 예측값 중 최대값과 최소값을 확인하시오."
   ]
  },
  {
   "cell_type": "code",
   "execution_count": 228,
   "id": "4ac304f0",
   "metadata": {},
   "outputs": [],
   "source": [
    "pred = model.predict(df_test.drop(\"Class\", axis = 1))"
   ]
  },
  {
   "cell_type": "code",
   "execution_count": 229,
   "id": "16095516",
   "metadata": {},
   "outputs": [
    {
     "data": {
      "text/plain": [
       "340     4.406641e-10\n",
       "21      3.143262e-01\n",
       "1011    8.638152e-01\n",
       "dtype: float64"
      ]
     },
     "execution_count": 229,
     "metadata": {},
     "output_type": "execute_result"
    }
   ],
   "source": [
    "pred[:3]"
   ]
  },
  {
   "cell_type": "code",
   "execution_count": 230,
   "id": "6ffbf03f",
   "metadata": {},
   "outputs": [
    {
     "name": "stdout",
     "output_type": "stream",
     "text": [
      "8.466990097583378e-11\n",
      "0.9999912797481564\n"
     ]
    }
   ],
   "source": [
    "print(min(pred))\n",
    "print(max(pred))"
   ]
  },
  {
   "cell_type": "code",
   "execution_count": 231,
   "id": "40be12ca",
   "metadata": {},
   "outputs": [
    {
     "data": {
      "text/plain": [
       "340     0\n",
       "21      0\n",
       "1011    1\n",
       "1330    1\n",
       "dtype: int32"
      ]
     },
     "execution_count": 231,
     "metadata": {},
     "output_type": "execute_result"
    }
   ],
   "source": [
    "pred_class = (pred > 0.5) + 0\n",
    "pred_class[:4]"
   ]
  },
  {
   "cell_type": "code",
   "execution_count": 232,
   "id": "a9e4cd3e",
   "metadata": {},
   "outputs": [],
   "source": [
    "from sklearn.metrics import accuracy_score\n",
    "from sklearn.metrics import f1_score"
   ]
  },
  {
   "cell_type": "code",
   "execution_count": 233,
   "id": "633bf00b",
   "metadata": {},
   "outputs": [
    {
     "data": {
      "text/plain": [
       "0.9660194174757282"
      ]
     },
     "execution_count": 233,
     "metadata": {},
     "output_type": "execute_result"
    }
   ],
   "source": [
    "accuracy_score(y_true = df_test[\"Class\"], y_pred = pred_class)"
   ]
  },
  {
   "cell_type": "code",
   "execution_count": 235,
   "id": "0c0bf48a",
   "metadata": {},
   "outputs": [
    {
     "data": {
      "text/html": [
       "<div>\n",
       "<style scoped>\n",
       "    .dataframe tbody tr th:only-of-type {\n",
       "        vertical-align: middle;\n",
       "    }\n",
       "\n",
       "    .dataframe tbody tr th {\n",
       "        vertical-align: top;\n",
       "    }\n",
       "\n",
       "    .dataframe thead th {\n",
       "        text-align: right;\n",
       "    }\n",
       "</style>\n",
       "<table border=\"1\" class=\"dataframe\">\n",
       "  <thead>\n",
       "    <tr style=\"text-align: right;\">\n",
       "      <th>col_0</th>\n",
       "      <th>0</th>\n",
       "      <th>1</th>\n",
       "    </tr>\n",
       "    <tr>\n",
       "      <th>Class</th>\n",
       "      <th></th>\n",
       "      <th></th>\n",
       "    </tr>\n",
       "  </thead>\n",
       "  <tbody>\n",
       "    <tr>\n",
       "      <th>0</th>\n",
       "      <td>235</td>\n",
       "      <td>0</td>\n",
       "    </tr>\n",
       "    <tr>\n",
       "      <th>1</th>\n",
       "      <td>14</td>\n",
       "      <td>163</td>\n",
       "    </tr>\n",
       "  </tbody>\n",
       "</table>\n",
       "</div>"
      ],
      "text/plain": [
       "col_0    0    1\n",
       "Class          \n",
       "0      235    0\n",
       "1       14  163"
      ]
     },
     "execution_count": 235,
     "metadata": {},
     "output_type": "execute_result"
    }
   ],
   "source": [
    "pd.crosstab(df_test[\"Class\"], pred_class)"
   ]
  },
  {
   "cell_type": "code",
   "execution_count": 236,
   "id": "c51f61d1",
   "metadata": {},
   "outputs": [],
   "source": [
    "from sklearn.metrics import roc_auc_score"
   ]
  },
  {
   "cell_type": "code",
   "execution_count": 239,
   "id": "e7166f78",
   "metadata": {},
   "outputs": [
    {
     "data": {
      "text/plain": [
       "0.9990143046039187"
      ]
     },
     "execution_count": 239,
     "metadata": {},
     "output_type": "execute_result"
    }
   ],
   "source": [
    "roc_auc_score(y_true = df_test[\"Class\"], y_score = pred) # 분류값이 아닌 확률값"
   ]
  },
  {
   "cell_type": "markdown",
   "id": "f4bb21f7",
   "metadata": {},
   "source": [
    "----------------------------------------"
   ]
  },
  {
   "cell_type": "code",
   "execution_count": 240,
   "id": "b2d892b1",
   "metadata": {},
   "outputs": [],
   "source": [
    "from sklearn.tree import DecisionTreeClassifier\n",
    "from sklearn.tree import DecisionTreeRegressor"
   ]
  },
  {
   "cell_type": "code",
   "execution_count": 241,
   "id": "15e2b9fb",
   "metadata": {},
   "outputs": [],
   "source": [
    "model_c = DecisionTreeClassifier(random_state = 123).fit(X = df.loc[:, :\"Entropy\"],\n",
    "                                                         y = df[[\"Class\"]])"
   ]
  },
  {
   "cell_type": "code",
   "execution_count": 242,
   "id": "2e9b6da1",
   "metadata": {},
   "outputs": [
    {
     "data": {
      "text/plain": [
       "array([0, 0, 0, ..., 1, 1, 1], dtype=int64)"
      ]
     },
     "execution_count": 242,
     "metadata": {},
     "output_type": "execute_result"
    }
   ],
   "source": [
    "pred_class = model_c.predict(df.loc[:, :\"Entropy\"])\n",
    "pred_class"
   ]
  },
  {
   "cell_type": "code",
   "execution_count": 246,
   "id": "65c2a1ae",
   "metadata": {},
   "outputs": [
    {
     "data": {
      "text/plain": [
       "1.0"
      ]
     },
     "execution_count": 246,
     "metadata": {},
     "output_type": "execute_result"
    }
   ],
   "source": [
    "accuracy_score(y_true = df[\"Class\"], y_pred = pred_class)"
   ]
  },
  {
   "cell_type": "code",
   "execution_count": 247,
   "id": "67ca3fd0",
   "metadata": {},
   "outputs": [],
   "source": [
    "df_train, df_test = train_test_split(df, train_size = 0.6, random_state = 999)"
   ]
  },
  {
   "cell_type": "code",
   "execution_count": 249,
   "id": "85758084",
   "metadata": {},
   "outputs": [],
   "source": [
    "model_c = DecisionTreeClassifier(random_state = 999)\n",
    "model_c = model_c.fit(X = df.loc[:, :\"Entropy\"],\n",
    "                     y = df[[\"Class\"]])"
   ]
  },
  {
   "cell_type": "code",
   "execution_count": 251,
   "id": "ec9d4700",
   "metadata": {},
   "outputs": [
    {
     "data": {
      "text/plain": [
       "array([[1., 0.],\n",
       "       [1., 0.],\n",
       "       [1., 0.],\n",
       "       ...,\n",
       "       [1., 0.],\n",
       "       [0., 1.],\n",
       "       [0., 1.]])"
      ]
     },
     "execution_count": 251,
     "metadata": {},
     "output_type": "execute_result"
    }
   ],
   "source": [
    "model_c.predict_proba(df_test.loc[:, :\"Entropy\"]) # probability"
   ]
  },
  {
   "cell_type": "code",
   "execution_count": 252,
   "id": "7d9c3597",
   "metadata": {},
   "outputs": [
    {
     "data": {
      "text/plain": [
       "array([0, 0, 0, 1, 1, 1, 0, 0, 0, 1, 1, 1, 0, 1, 0, 1, 1, 1, 0, 0, 0, 0,\n",
       "       1, 1, 1, 0, 0, 1, 0, 0, 1, 1, 1, 1, 1, 1, 1, 1, 0, 0, 0, 0, 1, 0,\n",
       "       1, 1, 1, 0, 1, 0, 1, 0, 1, 0, 1, 0, 0, 0, 0, 0, 0, 1, 1, 0, 0, 0,\n",
       "       1, 1, 0, 1, 0, 1, 1, 0, 0, 1, 0, 0, 0, 0, 0, 1, 0, 0, 0, 1, 1, 0,\n",
       "       1, 0, 1, 0, 1, 0, 0, 0, 1, 0, 0, 1, 0, 0, 0, 1, 1, 1, 0, 1, 0, 0,\n",
       "       0, 0, 1, 0, 0, 1, 0, 0, 0, 1, 1, 0, 1, 0, 0, 0, 1, 1, 0, 1, 0, 0,\n",
       "       1, 0, 0, 0, 0, 0, 1, 1, 1, 0, 0, 0, 1, 0, 0, 0, 1, 1, 0, 0, 0, 1,\n",
       "       1, 0, 1, 1, 1, 0, 1, 1, 0, 1, 0, 0, 0, 1, 0, 1, 1, 1, 1, 1, 0, 0,\n",
       "       0, 1, 0, 0, 0, 1, 0, 1, 1, 0, 1, 1, 1, 0, 0, 1, 0, 0, 0, 1, 1, 0,\n",
       "       1, 1, 1, 0, 0, 1, 0, 0, 0, 1, 1, 1, 1, 1, 1, 1, 0, 0, 1, 1, 0, 0,\n",
       "       0, 1, 1, 0, 1, 0, 0, 0, 1, 0, 0, 1, 1, 0, 1, 1, 0, 0, 0, 0, 1, 1,\n",
       "       1, 0, 1, 1, 0, 1, 0, 0, 1, 0, 0, 0, 1, 1, 1, 0, 1, 1, 1, 0, 1, 1,\n",
       "       1, 0, 0, 1, 0, 0, 1, 0, 1, 0, 0, 0, 1, 0, 0, 1, 0, 1, 0, 0, 0, 0,\n",
       "       1, 0, 1, 0, 0, 1, 0, 1, 0, 0, 1, 1, 0, 0, 1, 1, 0, 0, 1, 0, 1, 1,\n",
       "       0, 1, 0, 0, 1, 1, 1, 0, 1, 0, 1, 1, 0, 0, 1, 0, 0, 1, 0, 0, 1, 1,\n",
       "       0, 1, 0, 1, 1, 1, 1, 0, 1, 1, 0, 0, 0, 0, 0, 1, 1, 0, 0, 1, 1, 0,\n",
       "       1, 0, 0, 1, 0, 0, 0, 1, 1, 0, 0, 1, 1, 1, 0, 0, 0, 0, 0, 0, 1, 0,\n",
       "       1, 0, 0, 1, 0, 1, 0, 0, 0, 1, 1, 0, 0, 1, 0, 0, 0, 0, 0, 1, 0, 0,\n",
       "       1, 0, 1, 0, 0, 0, 0, 0, 1, 0, 0, 1, 1, 1, 0, 0, 1, 1, 0, 1, 0, 0,\n",
       "       0, 1, 0, 1, 0, 0, 0, 0, 0, 0, 0, 1, 0, 0, 1, 0, 1, 1, 0, 0, 1, 0,\n",
       "       0, 1, 0, 0, 0, 1, 0, 1, 1, 1, 0, 0, 0, 0, 1, 1, 0, 1, 1, 0, 0, 0,\n",
       "       1, 0, 1, 0, 0, 1, 0, 0, 0, 1, 0, 1, 1, 0, 1, 0, 0, 0, 0, 1, 0, 0,\n",
       "       1, 0, 0, 0, 1, 1, 0, 1, 1, 0, 0, 1, 0, 0, 1, 0, 0, 0, 1, 1, 1, 0,\n",
       "       1, 0, 1, 0, 1, 1, 0, 0, 1, 1, 0, 1, 1, 1, 1, 0, 0, 0, 1, 1, 0, 0,\n",
       "       1, 1, 0, 1, 0, 1, 1, 0, 0, 0, 0, 1, 1, 1, 1, 1, 0, 0, 0, 1, 1],\n",
       "      dtype=int64)"
      ]
     },
     "execution_count": 252,
     "metadata": {},
     "output_type": "execute_result"
    }
   ],
   "source": [
    "model_c.predict(df_test.loc[:, :\"Entropy\"])"
   ]
  },
  {
   "cell_type": "code",
   "execution_count": null,
   "id": "d0a99775",
   "metadata": {},
   "outputs": [],
   "source": []
  },
  {
   "cell_type": "code",
   "execution_count": null,
   "id": "8bdd25e3",
   "metadata": {},
   "outputs": [],
   "source": []
  },
  {
   "cell_type": "code",
   "execution_count": null,
   "id": "8f0bd6b6",
   "metadata": {},
   "outputs": [],
   "source": []
  },
  {
   "cell_type": "code",
   "execution_count": null,
   "id": "31e728a2",
   "metadata": {},
   "outputs": [],
   "source": []
  }
 ],
 "metadata": {
  "kernelspec": {
   "display_name": "Python 3",
   "language": "python",
   "name": "python3"
  },
  "language_info": {
   "codemirror_mode": {
    "name": "ipython",
    "version": 3
   },
   "file_extension": ".py",
   "mimetype": "text/x-python",
   "name": "python",
   "nbconvert_exporter": "python",
   "pygments_lexer": "ipython3",
   "version": "3.8.8"
  }
 },
 "nbformat": 4,
 "nbformat_minor": 5
}
