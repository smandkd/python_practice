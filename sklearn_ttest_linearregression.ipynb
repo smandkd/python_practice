{
 "cells": [
  {
   "cell_type": "code",
   "execution_count": 1,
   "id": "2bb0e6f9",
   "metadata": {},
   "outputs": [],
   "source": [
    "import pandas as pd"
   ]
  },
  {
   "cell_type": "code",
   "execution_count": 4,
   "id": "aa7839a2",
   "metadata": {},
   "outputs": [],
   "source": [
    "df = pd.read_csv(\"Dataset_03.csv\")"
   ]
  },
  {
   "cell_type": "code",
   "execution_count": 5,
   "id": "cbed51c3",
   "metadata": {},
   "outputs": [],
   "source": [
    "from sklearn.model_selection import train_test_split"
   ]
  },
  {
   "cell_type": "code",
   "execution_count": 7,
   "id": "17b6eea3",
   "metadata": {},
   "outputs": [],
   "source": [
    "train, test = train_test_split(df, random_state=123, test_size=0.3)"
   ]
  },
  {
   "cell_type": "code",
   "execution_count": 14,
   "id": "9acfb31d",
   "metadata": {},
   "outputs": [],
   "source": [
    "from sklearn.linear_model import LogisticRegression"
   ]
  },
  {
   "cell_type": "code",
   "execution_count": 15,
   "id": "d55cd6ca",
   "metadata": {},
   "outputs": [],
   "source": [
    "from sklearn.metrics import accuracy_score "
   ]
  },
  {
   "cell_type": "code",
   "execution_count": 16,
   "id": "8949cf82",
   "metadata": {},
   "outputs": [],
   "source": [
    "var = df.columns.drop(\"gender\")"
   ]
  },
  {
   "cell_type": "code",
   "execution_count": 17,
   "id": "7dcb4ff8",
   "metadata": {},
   "outputs": [],
   "source": [
    "logit = LogisticRegression().fit(X = df[var],\n",
    "                                 y = df['gender'])"
   ]
  },
  {
   "cell_type": "code",
   "execution_count": null,
   "id": "32e922fc",
   "metadata": {},
   "outputs": [],
   "source": []
  },
  {
   "cell_type": "code",
   "execution_count": 25,
   "id": "41098399",
   "metadata": {},
   "outputs": [],
   "source": [
    "from sklearn.metrics import precision_score, classification_report"
   ]
  },
  {
   "cell_type": "code",
   "execution_count": 26,
   "id": "0c7d2eed",
   "metadata": {},
   "outputs": [],
   "source": [
    "pred = logit.predict(test[var])"
   ]
  },
  {
   "cell_type": "code",
   "execution_count": 28,
   "id": "c7d318d8",
   "metadata": {},
   "outputs": [
    {
     "name": "stdout",
     "output_type": "stream",
     "text": [
      "              precision    recall  f1-score   support\n",
      "\n",
      "      Female       0.97      0.96      0.97       743\n",
      "        Male       0.96      0.97      0.97       758\n",
      "\n",
      "    accuracy                           0.97      1501\n",
      "   macro avg       0.97      0.97      0.97      1501\n",
      "weighted avg       0.97      0.97      0.97      1501\n",
      "\n"
     ]
    }
   ],
   "source": [
    "print(classification_report(test.gender, pred))"
   ]
  },
  {
   "cell_type": "code",
   "execution_count": 89,
   "id": "b8929201",
   "metadata": {},
   "outputs": [],
   "source": [
    "df=pd.read_csv(\"Dataset_04.csv\")"
   ]
  },
  {
   "cell_type": "code",
   "execution_count": 90,
   "id": "dbd58144",
   "metadata": {},
   "outputs": [
    {
     "data": {
      "text/html": [
       "<div>\n",
       "<style scoped>\n",
       "    .dataframe tbody tr th:only-of-type {\n",
       "        vertical-align: middle;\n",
       "    }\n",
       "\n",
       "    .dataframe tbody tr th {\n",
       "        vertical-align: top;\n",
       "    }\n",
       "\n",
       "    .dataframe thead th {\n",
       "        text-align: right;\n",
       "    }\n",
       "</style>\n",
       "<table border=\"1\" class=\"dataframe\">\n",
       "  <thead>\n",
       "    <tr style=\"text-align: right;\">\n",
       "      <th></th>\n",
       "      <th>LOCATION</th>\n",
       "      <th>SUBJECT</th>\n",
       "      <th>TIME</th>\n",
       "      <th>Value</th>\n",
       "    </tr>\n",
       "  </thead>\n",
       "  <tbody>\n",
       "    <tr>\n",
       "      <th>0</th>\n",
       "      <td>AUS</td>\n",
       "      <td>BEEF</td>\n",
       "      <td>1991</td>\n",
       "      <td>27.721815</td>\n",
       "    </tr>\n",
       "    <tr>\n",
       "      <th>1</th>\n",
       "      <td>AUS</td>\n",
       "      <td>BEEF</td>\n",
       "      <td>1992</td>\n",
       "      <td>26.199591</td>\n",
       "    </tr>\n",
       "  </tbody>\n",
       "</table>\n",
       "</div>"
      ],
      "text/plain": [
       "  LOCATION SUBJECT  TIME      Value\n",
       "0      AUS    BEEF  1991  27.721815\n",
       "1      AUS    BEEF  1992  26.199591"
      ]
     },
     "execution_count": 90,
     "metadata": {},
     "output_type": "execute_result"
    }
   ],
   "source": [
    "df.head(2)"
   ]
  },
  {
   "cell_type": "code",
   "execution_count": 91,
   "id": "0bd75958",
   "metadata": {},
   "outputs": [
    {
     "data": {
      "text/plain": [
       "0       False\n",
       "1       False\n",
       "2       False\n",
       "3       False\n",
       "4       False\n",
       "        ...  \n",
       "6713    False\n",
       "6714    False\n",
       "6715    False\n",
       "6716    False\n",
       "6717    False\n",
       "Name: LOCATION, Length: 6718, dtype: bool"
      ]
     },
     "execution_count": 91,
     "metadata": {},
     "output_type": "execute_result"
    }
   ],
   "source": [
    "df['LOCATION'] == 'KOR'"
   ]
  },
  {
   "cell_type": "code",
   "execution_count": 37,
   "id": "120fbdbe",
   "metadata": {},
   "outputs": [
    {
     "data": {
      "text/html": [
       "<div>\n",
       "<style scoped>\n",
       "    .dataframe tbody tr th:only-of-type {\n",
       "        vertical-align: middle;\n",
       "    }\n",
       "\n",
       "    .dataframe tbody tr th {\n",
       "        vertical-align: top;\n",
       "    }\n",
       "\n",
       "    .dataframe thead th {\n",
       "        text-align: right;\n",
       "    }\n",
       "</style>\n",
       "<table border=\"1\" class=\"dataframe\">\n",
       "  <thead>\n",
       "    <tr style=\"text-align: right;\">\n",
       "      <th></th>\n",
       "      <th>TIME</th>\n",
       "      <th>Value</th>\n",
       "    </tr>\n",
       "  </thead>\n",
       "  <tbody>\n",
       "    <tr>\n",
       "      <th>TIME</th>\n",
       "      <td>1.000000</td>\n",
       "      <td>0.326711</td>\n",
       "    </tr>\n",
       "    <tr>\n",
       "      <th>Value</th>\n",
       "      <td>0.326711</td>\n",
       "      <td>1.000000</td>\n",
       "    </tr>\n",
       "  </tbody>\n",
       "</table>\n",
       "</div>"
      ],
      "text/plain": [
       "           TIME     Value\n",
       "TIME   1.000000  0.326711\n",
       "Value  0.326711  1.000000"
      ]
     },
     "execution_count": 37,
     "metadata": {},
     "output_type": "execute_result"
    }
   ],
   "source": [
    "df.loc[df['LOCATION'] == 'KOR'].corr()"
   ]
  },
  {
   "cell_type": "code",
   "execution_count": 38,
   "id": "a2bcd1d3",
   "metadata": {},
   "outputs": [
    {
     "data": {
      "text/plain": [
       "0.327"
      ]
     },
     "execution_count": 38,
     "metadata": {},
     "output_type": "execute_result"
    }
   ],
   "source": [
    "0.327"
   ]
  },
  {
   "cell_type": "code",
   "execution_count": 99,
   "id": "6b717b59",
   "metadata": {},
   "outputs": [],
   "source": [
    "q = df[df.LOCATION.isin(['KOR', 'JPN'])]"
   ]
  },
  {
   "cell_type": "code",
   "execution_count": 100,
   "id": "1e258440",
   "metadata": {},
   "outputs": [
    {
     "data": {
      "text/html": [
       "<div>\n",
       "<style scoped>\n",
       "    .dataframe tbody tr th:only-of-type {\n",
       "        vertical-align: middle;\n",
       "    }\n",
       "\n",
       "    .dataframe tbody tr th {\n",
       "        vertical-align: top;\n",
       "    }\n",
       "\n",
       "    .dataframe thead th {\n",
       "        text-align: right;\n",
       "    }\n",
       "</style>\n",
       "<table border=\"1\" class=\"dataframe\">\n",
       "  <thead>\n",
       "    <tr style=\"text-align: right;\">\n",
       "      <th></th>\n",
       "      <th>LOCATION</th>\n",
       "      <th>SUBJECT</th>\n",
       "      <th>TIME</th>\n",
       "      <th>Value</th>\n",
       "    </tr>\n",
       "  </thead>\n",
       "  <tbody>\n",
       "    <tr>\n",
       "      <th>294</th>\n",
       "      <td>JPN</td>\n",
       "      <td>BEEF</td>\n",
       "      <td>1990</td>\n",
       "      <td>6.111035</td>\n",
       "    </tr>\n",
       "    <tr>\n",
       "      <th>295</th>\n",
       "      <td>JPN</td>\n",
       "      <td>BEEF</td>\n",
       "      <td>1991</td>\n",
       "      <td>6.517055</td>\n",
       "    </tr>\n",
       "  </tbody>\n",
       "</table>\n",
       "</div>"
      ],
      "text/plain": [
       "    LOCATION SUBJECT  TIME     Value\n",
       "294      JPN    BEEF  1990  6.111035\n",
       "295      JPN    BEEF  1991  6.517055"
      ]
     },
     "execution_count": 100,
     "metadata": {},
     "output_type": "execute_result"
    }
   ],
   "source": [
    "q.head(2)"
   ]
  },
  {
   "cell_type": "code",
   "execution_count": 101,
   "id": "2115b364",
   "metadata": {},
   "outputs": [],
   "source": [
    "q2 = pd.pivot_table(q, index=['TIME', 'SUBJECT'],\n",
    "                    columns='LOCATION', values='Value')"
   ]
  },
  {
   "cell_type": "code",
   "execution_count": 102,
   "id": "a71bf8e2",
   "metadata": {},
   "outputs": [
    {
     "data": {
      "text/html": [
       "<div>\n",
       "<style scoped>\n",
       "    .dataframe tbody tr th:only-of-type {\n",
       "        vertical-align: middle;\n",
       "    }\n",
       "\n",
       "    .dataframe tbody tr th {\n",
       "        vertical-align: top;\n",
       "    }\n",
       "\n",
       "    .dataframe thead th {\n",
       "        text-align: right;\n",
       "    }\n",
       "</style>\n",
       "<table border=\"1\" class=\"dataframe\">\n",
       "  <thead>\n",
       "    <tr style=\"text-align: right;\">\n",
       "      <th></th>\n",
       "      <th>LOCATION</th>\n",
       "      <th>JPN</th>\n",
       "      <th>KOR</th>\n",
       "    </tr>\n",
       "    <tr>\n",
       "      <th>TIME</th>\n",
       "      <th>SUBJECT</th>\n",
       "      <th></th>\n",
       "      <th></th>\n",
       "    </tr>\n",
       "  </thead>\n",
       "  <tbody>\n",
       "    <tr>\n",
       "      <th rowspan=\"4\" valign=\"top\">1990</th>\n",
       "      <th>BEEF</th>\n",
       "      <td>6.111035</td>\n",
       "      <td>NaN</td>\n",
       "    </tr>\n",
       "    <tr>\n",
       "      <th>PIG</th>\n",
       "      <td>13.219006</td>\n",
       "      <td>NaN</td>\n",
       "    </tr>\n",
       "    <tr>\n",
       "      <th>POULTRY</th>\n",
       "      <td>12.844865</td>\n",
       "      <td>5.570102</td>\n",
       "    </tr>\n",
       "    <tr>\n",
       "      <th>SHEEP</th>\n",
       "      <td>0.756696</td>\n",
       "      <td>0.204153</td>\n",
       "    </tr>\n",
       "    <tr>\n",
       "      <th rowspan=\"4\" valign=\"top\">1991</th>\n",
       "      <th>BEEF</th>\n",
       "      <td>6.517055</td>\n",
       "      <td>5.085481</td>\n",
       "    </tr>\n",
       "    <tr>\n",
       "      <th>PIG</th>\n",
       "      <td>13.239267</td>\n",
       "      <td>9.930182</td>\n",
       "    </tr>\n",
       "    <tr>\n",
       "      <th>POULTRY</th>\n",
       "      <td>12.055422</td>\n",
       "      <td>6.738203</td>\n",
       "    </tr>\n",
       "    <tr>\n",
       "      <th>SHEEP</th>\n",
       "      <td>0.772785</td>\n",
       "      <td>0.157341</td>\n",
       "    </tr>\n",
       "    <tr>\n",
       "      <th rowspan=\"2\" valign=\"top\">1992</th>\n",
       "      <th>BEEF</th>\n",
       "      <td>6.766244</td>\n",
       "      <td>5.685434</td>\n",
       "    </tr>\n",
       "    <tr>\n",
       "      <th>PIG</th>\n",
       "      <td>13.233312</td>\n",
       "      <td>13.366378</td>\n",
       "    </tr>\n",
       "  </tbody>\n",
       "</table>\n",
       "</div>"
      ],
      "text/plain": [
       "LOCATION            JPN        KOR\n",
       "TIME SUBJECT                      \n",
       "1990 BEEF      6.111035        NaN\n",
       "     PIG      13.219006        NaN\n",
       "     POULTRY  12.844865   5.570102\n",
       "     SHEEP     0.756696   0.204153\n",
       "1991 BEEF      6.517055   5.085481\n",
       "     PIG      13.239267   9.930182\n",
       "     POULTRY  12.055422   6.738203\n",
       "     SHEEP     0.772785   0.157341\n",
       "1992 BEEF      6.766244   5.685434\n",
       "     PIG      13.233312  13.366378"
      ]
     },
     "execution_count": 102,
     "metadata": {},
     "output_type": "execute_result"
    }
   ],
   "source": [
    "q2.head(10)"
   ]
  },
  {
   "cell_type": "code",
   "execution_count": 103,
   "id": "e3a8fb76",
   "metadata": {},
   "outputs": [],
   "source": [
    "from scipy.stats import ttest_rel"
   ]
  },
  {
   "cell_type": "code",
   "execution_count": 104,
   "id": "c1c01dba",
   "metadata": {},
   "outputs": [
    {
     "data": {
      "text/html": [
       "<div>\n",
       "<style scoped>\n",
       "    .dataframe tbody tr th:only-of-type {\n",
       "        vertical-align: middle;\n",
       "    }\n",
       "\n",
       "    .dataframe tbody tr th {\n",
       "        vertical-align: top;\n",
       "    }\n",
       "\n",
       "    .dataframe thead th {\n",
       "        text-align: right;\n",
       "    }\n",
       "</style>\n",
       "<table border=\"1\" class=\"dataframe\">\n",
       "  <thead>\n",
       "    <tr style=\"text-align: right;\">\n",
       "      <th></th>\n",
       "      <th>LOCATION</th>\n",
       "      <th>JPN</th>\n",
       "      <th>KOR</th>\n",
       "    </tr>\n",
       "    <tr>\n",
       "      <th>TIME</th>\n",
       "      <th>SUBJECT</th>\n",
       "      <th></th>\n",
       "      <th></th>\n",
       "    </tr>\n",
       "  </thead>\n",
       "  <tbody>\n",
       "    <tr>\n",
       "      <th rowspan=\"2\" valign=\"top\">1990</th>\n",
       "      <th>POULTRY</th>\n",
       "      <td>12.844865</td>\n",
       "      <td>5.570102</td>\n",
       "    </tr>\n",
       "    <tr>\n",
       "      <th>SHEEP</th>\n",
       "      <td>0.756696</td>\n",
       "      <td>0.204153</td>\n",
       "    </tr>\n",
       "    <tr>\n",
       "      <th rowspan=\"3\" valign=\"top\">1991</th>\n",
       "      <th>BEEF</th>\n",
       "      <td>6.517055</td>\n",
       "      <td>5.085481</td>\n",
       "    </tr>\n",
       "    <tr>\n",
       "      <th>PIG</th>\n",
       "      <td>13.239267</td>\n",
       "      <td>9.930182</td>\n",
       "    </tr>\n",
       "    <tr>\n",
       "      <th>POULTRY</th>\n",
       "      <td>12.055422</td>\n",
       "      <td>6.738203</td>\n",
       "    </tr>\n",
       "    <tr>\n",
       "      <th>...</th>\n",
       "      <th>...</th>\n",
       "      <td>...</td>\n",
       "      <td>...</td>\n",
       "    </tr>\n",
       "    <tr>\n",
       "      <th>2025</th>\n",
       "      <th>SHEEP</th>\n",
       "      <td>0.125060</td>\n",
       "      <td>0.201451</td>\n",
       "    </tr>\n",
       "    <tr>\n",
       "      <th rowspan=\"4\" valign=\"top\">2026</th>\n",
       "      <th>BEEF</th>\n",
       "      <td>6.844875</td>\n",
       "      <td>10.737425</td>\n",
       "    </tr>\n",
       "    <tr>\n",
       "      <th>PIG</th>\n",
       "      <td>15.544018</td>\n",
       "      <td>29.544063</td>\n",
       "    </tr>\n",
       "    <tr>\n",
       "      <th>POULTRY</th>\n",
       "      <td>14.768340</td>\n",
       "      <td>17.907865</td>\n",
       "    </tr>\n",
       "    <tr>\n",
       "      <th>SHEEP</th>\n",
       "      <td>0.122136</td>\n",
       "      <td>0.202656</td>\n",
       "    </tr>\n",
       "  </tbody>\n",
       "</table>\n",
       "<p>146 rows × 2 columns</p>\n",
       "</div>"
      ],
      "text/plain": [
       "LOCATION            JPN        KOR\n",
       "TIME SUBJECT                      \n",
       "1990 POULTRY  12.844865   5.570102\n",
       "     SHEEP     0.756696   0.204153\n",
       "1991 BEEF      6.517055   5.085481\n",
       "     PIG      13.239267   9.930182\n",
       "     POULTRY  12.055422   6.738203\n",
       "...                 ...        ...\n",
       "2025 SHEEP     0.125060   0.201451\n",
       "2026 BEEF      6.844875  10.737425\n",
       "     PIG      15.544018  29.544063\n",
       "     POULTRY  14.768340  17.907865\n",
       "     SHEEP     0.122136   0.202656\n",
       "\n",
       "[146 rows x 2 columns]"
      ]
     },
     "execution_count": 104,
     "metadata": {},
     "output_type": "execute_result"
    }
   ],
   "source": [
    "q2.dropna()"
   ]
  },
  {
   "cell_type": "code",
   "execution_count": 108,
   "id": "936ca807",
   "metadata": {},
   "outputs": [],
   "source": [
    "q2_out=ttest_rel(q2['KOR'], q2['JPN'])"
   ]
  },
  {
   "cell_type": "code",
   "execution_count": 110,
   "id": "2f8152d9",
   "metadata": {},
   "outputs": [
    {
     "data": {
      "text/plain": [
       "nan"
      ]
     },
     "execution_count": 110,
     "metadata": {},
     "output_type": "execute_result"
    }
   ],
   "source": [
    "q2_out.statistic"
   ]
  },
  {
   "cell_type": "code",
   "execution_count": null,
   "id": "3c680475",
   "metadata": {},
   "outputs": [],
   "source": []
  },
  {
   "cell_type": "code",
   "execution_count": 128,
   "id": "5a6fa2f1",
   "metadata": {},
   "outputs": [],
   "source": [
    "import pandas as pd"
   ]
  },
  {
   "cell_type": "code",
   "execution_count": 129,
   "id": "c810d1a2",
   "metadata": {},
   "outputs": [],
   "source": [
    "df = pd.read_csv(\"Dataset_04.csv\")"
   ]
  },
  {
   "cell_type": "code",
   "execution_count": 141,
   "id": "1f3379fe",
   "metadata": {},
   "outputs": [],
   "source": [
    "df1=df.loc[df['LOCATION']=='KOR']\n",
    "data4 = pd.pivot_table(df1, index='TIME', \n",
    "                       values='Value', \n",
    "                       aggfunc='sum').reset_index()\n",
    "df2=df.loc[(df['LOCATION']=='KOR')|(df['LOCATION']=='JPN')]\n",
    "data2=pd.pivot_table(df2, index=['SUBJECT', 'TIME'], \n",
    "                     columns='LOCATION', \n",
    "                     values='Value')\n",
    "data2=data2.dropna()\n",
    "from scipy.stats import ttest_rel\n",
    "ttest_rel(data2['KOR'], data2['JPN'])"
   ]
  },
  {
   "cell_type": "code",
   "execution_count": 148,
   "id": "579ee8e4",
   "metadata": {},
   "outputs": [],
   "source": [
    "data4 = pd.pivot_table(df1, index='TIME', \n",
    "                       values='Value', \n",
    "                       aggfunc='sum').reset_index()"
   ]
  },
  {
   "cell_type": "code",
   "execution_count": 156,
   "id": "4d37e33a",
   "metadata": {},
   "outputs": [],
   "source": [
    "df2=df.loc[(df['LOCATION']=='KOR')|(df['LOCATION']=='JPN')]"
   ]
  },
  {
   "cell_type": "code",
   "execution_count": 165,
   "id": "fc4e6532",
   "metadata": {},
   "outputs": [],
   "source": [
    "data2=pd.pivot_table(df2, index=['SUBJECT', 'TIME'], \n",
    "                     columns='LOCATION', \n",
    "                     values='Value')"
   ]
  },
  {
   "cell_type": "code",
   "execution_count": 168,
   "id": "00d646a0",
   "metadata": {},
   "outputs": [],
   "source": [
    "data2=data2.dropna()"
   ]
  },
  {
   "cell_type": "code",
   "execution_count": 169,
   "id": "a5a62adc",
   "metadata": {},
   "outputs": [
    {
     "data": {
      "text/html": [
       "<div>\n",
       "<style scoped>\n",
       "    .dataframe tbody tr th:only-of-type {\n",
       "        vertical-align: middle;\n",
       "    }\n",
       "\n",
       "    .dataframe tbody tr th {\n",
       "        vertical-align: top;\n",
       "    }\n",
       "\n",
       "    .dataframe thead th {\n",
       "        text-align: right;\n",
       "    }\n",
       "</style>\n",
       "<table border=\"1\" class=\"dataframe\">\n",
       "  <thead>\n",
       "    <tr style=\"text-align: right;\">\n",
       "      <th></th>\n",
       "      <th>LOCATION</th>\n",
       "      <th>JPN</th>\n",
       "      <th>KOR</th>\n",
       "    </tr>\n",
       "    <tr>\n",
       "      <th>SUBJECT</th>\n",
       "      <th>TIME</th>\n",
       "      <th></th>\n",
       "      <th></th>\n",
       "    </tr>\n",
       "  </thead>\n",
       "  <tbody>\n",
       "    <tr>\n",
       "      <th rowspan=\"5\" valign=\"top\">BEEF</th>\n",
       "      <th>1991</th>\n",
       "      <td>6.517055</td>\n",
       "      <td>5.085481</td>\n",
       "    </tr>\n",
       "    <tr>\n",
       "      <th>1992</th>\n",
       "      <td>6.766244</td>\n",
       "      <td>5.685434</td>\n",
       "    </tr>\n",
       "    <tr>\n",
       "      <th>1993</th>\n",
       "      <td>7.406407</td>\n",
       "      <td>5.325765</td>\n",
       "    </tr>\n",
       "    <tr>\n",
       "      <th>1994</th>\n",
       "      <td>8.129090</td>\n",
       "      <td>5.698819</td>\n",
       "    </tr>\n",
       "    <tr>\n",
       "      <th>1995</th>\n",
       "      <td>8.535522</td>\n",
       "      <td>6.568429</td>\n",
       "    </tr>\n",
       "  </tbody>\n",
       "</table>\n",
       "</div>"
      ],
      "text/plain": [
       "LOCATION           JPN       KOR\n",
       "SUBJECT TIME                    \n",
       "BEEF    1991  6.517055  5.085481\n",
       "        1992  6.766244  5.685434\n",
       "        1993  7.406407  5.325765\n",
       "        1994  8.129090  5.698819\n",
       "        1995  8.535522  6.568429"
      ]
     },
     "execution_count": 169,
     "metadata": {},
     "output_type": "execute_result"
    }
   ],
   "source": [
    "data2.head(5)"
   ]
  },
  {
   "cell_type": "code",
   "execution_count": 170,
   "id": "4e4e0d1e",
   "metadata": {},
   "outputs": [],
   "source": [
    "from scipy.stats import ttest_rel"
   ]
  },
  {
   "cell_type": "code",
   "execution_count": 174,
   "id": "d346385a",
   "metadata": {},
   "outputs": [
    {
     "data": {
      "text/plain": [
       "Ttest_relResult(statistic=5.662768873304346, pvalue=7.731889627475098e-08)"
      ]
     },
     "execution_count": 174,
     "metadata": {},
     "output_type": "execute_result"
    }
   ],
   "source": [
    "ttest_rel(data2['KOR'], data2['JPN'])"
   ]
  },
  {
   "cell_type": "code",
   "execution_count": 175,
   "id": "114caac0",
   "metadata": {},
   "outputs": [],
   "source": [
    "import pandas as pd"
   ]
  },
  {
   "cell_type": "code",
   "execution_count": 176,
   "id": "4b3f7a64",
   "metadata": {},
   "outputs": [],
   "source": [
    "df=pd.read_csv(\"Dataset_04.csv\")"
   ]
  },
  {
   "cell_type": "code",
   "execution_count": 183,
   "id": "260238e2",
   "metadata": {},
   "outputs": [
    {
     "data": {
      "text/html": [
       "<div>\n",
       "<style scoped>\n",
       "    .dataframe tbody tr th:only-of-type {\n",
       "        vertical-align: middle;\n",
       "    }\n",
       "\n",
       "    .dataframe tbody tr th {\n",
       "        vertical-align: top;\n",
       "    }\n",
       "\n",
       "    .dataframe thead th {\n",
       "        text-align: right;\n",
       "    }\n",
       "</style>\n",
       "<table border=\"1\" class=\"dataframe\">\n",
       "  <thead>\n",
       "    <tr style=\"text-align: right;\">\n",
       "      <th></th>\n",
       "      <th>LOCATION</th>\n",
       "      <th>SUBJECT</th>\n",
       "      <th>TIME</th>\n",
       "      <th>Value</th>\n",
       "    </tr>\n",
       "  </thead>\n",
       "  <tbody>\n",
       "    <tr>\n",
       "      <th>0</th>\n",
       "      <td>AUS</td>\n",
       "      <td>BEEF</td>\n",
       "      <td>1991</td>\n",
       "      <td>27.721815</td>\n",
       "    </tr>\n",
       "    <tr>\n",
       "      <th>1</th>\n",
       "      <td>AUS</td>\n",
       "      <td>BEEF</td>\n",
       "      <td>1992</td>\n",
       "      <td>26.199591</td>\n",
       "    </tr>\n",
       "  </tbody>\n",
       "</table>\n",
       "</div>"
      ],
      "text/plain": [
       "  LOCATION SUBJECT  TIME      Value\n",
       "0      AUS    BEEF  1991  27.721815\n",
       "1      AUS    BEEF  1992  26.199591"
      ]
     },
     "execution_count": 183,
     "metadata": {},
     "output_type": "execute_result"
    }
   ],
   "source": [
    "df.head(2)"
   ]
  },
  {
   "cell_type": "code",
   "execution_count": 178,
   "id": "fecac95d",
   "metadata": {},
   "outputs": [],
   "source": [
    "df1 = df.loc[df['LOCATION']=='KOR']"
   ]
  },
  {
   "cell_type": "code",
   "execution_count": 192,
   "id": "e7d1fdb2",
   "metadata": {},
   "outputs": [],
   "source": [
    "data1 = pd.pivot_table(df1, \n",
    "                       index='TIME',\n",
    "                       values='Value',\n",
    "                        aggfunc='sum').reset_index()"
   ]
  },
  {
   "cell_type": "code",
   "execution_count": 193,
   "id": "8db193ef",
   "metadata": {},
   "outputs": [
    {
     "data": {
      "text/html": [
       "<div>\n",
       "<style scoped>\n",
       "    .dataframe tbody tr th:only-of-type {\n",
       "        vertical-align: middle;\n",
       "    }\n",
       "\n",
       "    .dataframe tbody tr th {\n",
       "        vertical-align: top;\n",
       "    }\n",
       "\n",
       "    .dataframe thead th {\n",
       "        text-align: right;\n",
       "    }\n",
       "</style>\n",
       "<table border=\"1\" class=\"dataframe\">\n",
       "  <thead>\n",
       "    <tr style=\"text-align: right;\">\n",
       "      <th></th>\n",
       "      <th>TIME</th>\n",
       "      <th>Value</th>\n",
       "    </tr>\n",
       "  </thead>\n",
       "  <tbody>\n",
       "    <tr>\n",
       "      <th>0</th>\n",
       "      <td>1990</td>\n",
       "      <td>5.774255</td>\n",
       "    </tr>\n",
       "    <tr>\n",
       "      <th>1</th>\n",
       "      <td>1991</td>\n",
       "      <td>21.911207</td>\n",
       "    </tr>\n",
       "  </tbody>\n",
       "</table>\n",
       "</div>"
      ],
      "text/plain": [
       "   TIME      Value\n",
       "0  1990   5.774255\n",
       "1  1991  21.911207"
      ]
     },
     "execution_count": 193,
     "metadata": {},
     "output_type": "execute_result"
    }
   ],
   "source": [
    "data1.head(2)"
   ]
  },
  {
   "cell_type": "code",
   "execution_count": 194,
   "id": "f3d29b4b",
   "metadata": {},
   "outputs": [
    {
     "data": {
      "text/html": [
       "<div>\n",
       "<style scoped>\n",
       "    .dataframe tbody tr th:only-of-type {\n",
       "        vertical-align: middle;\n",
       "    }\n",
       "\n",
       "    .dataframe tbody tr th {\n",
       "        vertical-align: top;\n",
       "    }\n",
       "\n",
       "    .dataframe thead th {\n",
       "        text-align: right;\n",
       "    }\n",
       "</style>\n",
       "<table border=\"1\" class=\"dataframe\">\n",
       "  <thead>\n",
       "    <tr style=\"text-align: right;\">\n",
       "      <th></th>\n",
       "      <th>TIME</th>\n",
       "      <th>Value</th>\n",
       "    </tr>\n",
       "  </thead>\n",
       "  <tbody>\n",
       "    <tr>\n",
       "      <th>TIME</th>\n",
       "      <td>1.000000</td>\n",
       "      <td>0.960124</td>\n",
       "    </tr>\n",
       "    <tr>\n",
       "      <th>Value</th>\n",
       "      <td>0.960124</td>\n",
       "      <td>1.000000</td>\n",
       "    </tr>\n",
       "  </tbody>\n",
       "</table>\n",
       "</div>"
      ],
      "text/plain": [
       "           TIME     Value\n",
       "TIME   1.000000  0.960124\n",
       "Value  0.960124  1.000000"
      ]
     },
     "execution_count": 194,
     "metadata": {},
     "output_type": "execute_result"
    }
   ],
   "source": [
    "data1.corr()"
   ]
  },
  {
   "cell_type": "code",
   "execution_count": 195,
   "id": "f60c0e53",
   "metadata": {},
   "outputs": [],
   "source": [
    "df1 = df.loc[(df['LOCATION']=='KOR')|(df['LOCATION']=='JPN')]"
   ]
  },
  {
   "cell_type": "code",
   "execution_count": 196,
   "id": "70cc779a",
   "metadata": {},
   "outputs": [
    {
     "data": {
      "text/html": [
       "<div>\n",
       "<style scoped>\n",
       "    .dataframe tbody tr th:only-of-type {\n",
       "        vertical-align: middle;\n",
       "    }\n",
       "\n",
       "    .dataframe tbody tr th {\n",
       "        vertical-align: top;\n",
       "    }\n",
       "\n",
       "    .dataframe thead th {\n",
       "        text-align: right;\n",
       "    }\n",
       "</style>\n",
       "<table border=\"1\" class=\"dataframe\">\n",
       "  <thead>\n",
       "    <tr style=\"text-align: right;\">\n",
       "      <th></th>\n",
       "      <th>LOCATION</th>\n",
       "      <th>SUBJECT</th>\n",
       "      <th>TIME</th>\n",
       "      <th>Value</th>\n",
       "    </tr>\n",
       "  </thead>\n",
       "  <tbody>\n",
       "    <tr>\n",
       "      <th>294</th>\n",
       "      <td>JPN</td>\n",
       "      <td>BEEF</td>\n",
       "      <td>1990</td>\n",
       "      <td>6.111035</td>\n",
       "    </tr>\n",
       "    <tr>\n",
       "      <th>295</th>\n",
       "      <td>JPN</td>\n",
       "      <td>BEEF</td>\n",
       "      <td>1991</td>\n",
       "      <td>6.517055</td>\n",
       "    </tr>\n",
       "  </tbody>\n",
       "</table>\n",
       "</div>"
      ],
      "text/plain": [
       "    LOCATION SUBJECT  TIME     Value\n",
       "294      JPN    BEEF  1990  6.111035\n",
       "295      JPN    BEEF  1991  6.517055"
      ]
     },
     "execution_count": 196,
     "metadata": {},
     "output_type": "execute_result"
    }
   ],
   "source": [
    "df1.head(2)"
   ]
  },
  {
   "cell_type": "code",
   "execution_count": 198,
   "id": "eba1fb3e",
   "metadata": {},
   "outputs": [],
   "source": [
    "data2=pd.pivot_table(df1, \n",
    "                     index=['TIME','SUBJECT'],\n",
    "                     columns='LOCATION', \n",
    "                     values='Value')"
   ]
  },
  {
   "cell_type": "code",
   "execution_count": 199,
   "id": "7b92ca80",
   "metadata": {},
   "outputs": [
    {
     "data": {
      "text/html": [
       "<div>\n",
       "<style scoped>\n",
       "    .dataframe tbody tr th:only-of-type {\n",
       "        vertical-align: middle;\n",
       "    }\n",
       "\n",
       "    .dataframe tbody tr th {\n",
       "        vertical-align: top;\n",
       "    }\n",
       "\n",
       "    .dataframe thead th {\n",
       "        text-align: right;\n",
       "    }\n",
       "</style>\n",
       "<table border=\"1\" class=\"dataframe\">\n",
       "  <thead>\n",
       "    <tr style=\"text-align: right;\">\n",
       "      <th></th>\n",
       "      <th>LOCATION</th>\n",
       "      <th>JPN</th>\n",
       "      <th>KOR</th>\n",
       "    </tr>\n",
       "    <tr>\n",
       "      <th>TIME</th>\n",
       "      <th>SUBJECT</th>\n",
       "      <th></th>\n",
       "      <th></th>\n",
       "    </tr>\n",
       "  </thead>\n",
       "  <tbody>\n",
       "    <tr>\n",
       "      <th rowspan=\"2\" valign=\"top\">1990</th>\n",
       "      <th>BEEF</th>\n",
       "      <td>6.111035</td>\n",
       "      <td>NaN</td>\n",
       "    </tr>\n",
       "    <tr>\n",
       "      <th>PIG</th>\n",
       "      <td>13.219006</td>\n",
       "      <td>NaN</td>\n",
       "    </tr>\n",
       "  </tbody>\n",
       "</table>\n",
       "</div>"
      ],
      "text/plain": [
       "LOCATION            JPN  KOR\n",
       "TIME SUBJECT                \n",
       "1990 BEEF      6.111035  NaN\n",
       "     PIG      13.219006  NaN"
      ]
     },
     "execution_count": 199,
     "metadata": {},
     "output_type": "execute_result"
    }
   ],
   "source": [
    "data2.head(2)"
   ]
  },
  {
   "cell_type": "code",
   "execution_count": 200,
   "id": "432402e0",
   "metadata": {},
   "outputs": [],
   "source": [
    "from scipy.stats import ttest_rel"
   ]
  },
  {
   "cell_type": "code",
   "execution_count": 206,
   "id": "45f8c2a1",
   "metadata": {},
   "outputs": [],
   "source": [
    "data2=data2.dropna().reset_index()"
   ]
  },
  {
   "cell_type": "code",
   "execution_count": 207,
   "id": "55cb8e39",
   "metadata": {},
   "outputs": [
    {
     "data": {
      "text/plain": [
       "Ttest_relResult(statistic=5.662768873304346, pvalue=7.731889627475098e-08)"
      ]
     },
     "execution_count": 207,
     "metadata": {},
     "output_type": "execute_result"
    }
   ],
   "source": [
    "ttest_rel(data2['KOR'], data2['JPN'])"
   ]
  },
  {
   "cell_type": "code",
   "execution_count": 250,
   "id": "3ccb87f9",
   "metadata": {},
   "outputs": [
    {
     "name": "stdout",
     "output_type": "stream",
     "text": [
      "0.835455805530312\n",
      "7.310893225858995\n",
      "0.9406814424683864\n",
      "5.634979881649262\n",
      "0.9514978845444608\n",
      "5.783357902874552\n",
      "0.004082992795654383\n",
      "33.3479658130492\n"
     ]
    }
   ],
   "source": [
    "from sklearn.linear_model import LinearRegression\n",
    "df1 = df.loc[(df['LOCATION']=='KOR')]\n",
    "sub_list = df1.SUBJECT.unique()\n",
    "for i in sub_list:\n",
    "    temp=df1[df1.SUBJECT==i]\n",
    "    model = LinearRegression().fit(temp[['TIME']], temp['Value'])\n",
    "    pred=model.predict(temp[['TIME']])\n",
    "    r2 = model.score(temp[['TIME']], temp['Value'])\n",
    "    mape=(abs(temp['Value']-pred)/temp['Value']).sum()*100/len(temp)\n",
    "    print(r2)\n",
    "    print(mape)"
   ]
  },
  {
   "cell_type": "code",
   "execution_count": 218,
   "id": "f750e46b",
   "metadata": {},
   "outputs": [],
   "source": [
    "df1 = df.loc[(df['LOCATION']=='KOR')]"
   ]
  },
  {
   "cell_type": "code",
   "execution_count": 219,
   "id": "e1927f86",
   "metadata": {},
   "outputs": [],
   "source": [
    "sub_list = df1.SUBJECT.unique()"
   ]
  },
  {
   "cell_type": "code",
   "execution_count": 232,
   "id": "aa2c5a5e",
   "metadata": {},
   "outputs": [
    {
     "name": "stdout",
     "output_type": "stream",
     "text": [
      "['BEEF' 'PIG' 'POULTRY' 'SHEEP']\n"
     ]
    }
   ],
   "source": [
    "print(sub_list)"
   ]
  },
  {
   "cell_type": "code",
   "execution_count": 235,
   "id": "0afd6012",
   "metadata": {},
   "outputs": [
    {
     "name": "stdout",
     "output_type": "stream",
     "text": [
      "0.835455805530312\n",
      "7.310893225858995\n",
      "0.9406814424683864\n",
      "5.634979881649262\n",
      "0.9514978845444608\n",
      "5.783357902874552\n",
      "0.004082992795654383\n",
      "33.3479658130492\n"
     ]
    }
   ],
   "source": [
    "for i in sub_list:\n",
    "    temp=df1[df1.SUBJECT==i]\n",
    "    model = LinearRegression().fit(temp[['TIME']], temp['Value'])\n",
    "    pred=model.predict(temp[['TIME']])\n",
    "    r2 = model.score(temp[['TIME']], temp['Value'])\n",
    "    mape=(abs(temp['Value']-pred)/temp['Value']).sum()*100/len(temp)\n",
    "    print(r2)\n",
    "    print(mape)"
   ]
  },
  {
   "cell_type": "code",
   "execution_count": 229,
   "id": "739ba6e5",
   "metadata": {},
   "outputs": [
    {
     "name": "stdout",
     "output_type": "stream",
     "text": [
      "0.004082992795654383\n"
     ]
    }
   ],
   "source": [
    "print(r2)"
   ]
  },
  {
   "cell_type": "code",
   "execution_count": 236,
   "id": "41b0e0b3",
   "metadata": {},
   "outputs": [
    {
     "data": {
      "text/plain": [
       "5.783357902874552"
      ]
     },
     "execution_count": 236,
     "metadata": {},
     "output_type": "execute_result"
    }
   ],
   "source": [
    "5.783357902874552"
   ]
  },
  {
   "cell_type": "code",
   "execution_count": null,
   "id": "4807944a",
   "metadata": {},
   "outputs": [],
   "source": []
  },
  {
   "cell_type": "code",
   "execution_count": 237,
   "id": "db292f5e",
   "metadata": {},
   "outputs": [
    {
     "data": {
      "text/html": [
       "<div>\n",
       "<style scoped>\n",
       "    .dataframe tbody tr th:only-of-type {\n",
       "        vertical-align: middle;\n",
       "    }\n",
       "\n",
       "    .dataframe tbody tr th {\n",
       "        vertical-align: top;\n",
       "    }\n",
       "\n",
       "    .dataframe thead th {\n",
       "        text-align: right;\n",
       "    }\n",
       "</style>\n",
       "<table border=\"1\" class=\"dataframe\">\n",
       "  <thead>\n",
       "    <tr style=\"text-align: right;\">\n",
       "      <th></th>\n",
       "      <th>LOCATION</th>\n",
       "      <th>SUBJECT</th>\n",
       "      <th>TIME</th>\n",
       "      <th>Value</th>\n",
       "    </tr>\n",
       "  </thead>\n",
       "  <tbody>\n",
       "    <tr>\n",
       "      <th>442</th>\n",
       "      <td>KOR</td>\n",
       "      <td>BEEF</td>\n",
       "      <td>1991</td>\n",
       "      <td>5.085481</td>\n",
       "    </tr>\n",
       "    <tr>\n",
       "      <th>443</th>\n",
       "      <td>KOR</td>\n",
       "      <td>BEEF</td>\n",
       "      <td>1992</td>\n",
       "      <td>5.685434</td>\n",
       "    </tr>\n",
       "  </tbody>\n",
       "</table>\n",
       "</div>"
      ],
      "text/plain": [
       "    LOCATION SUBJECT  TIME     Value\n",
       "442      KOR    BEEF  1991  5.085481\n",
       "443      KOR    BEEF  1992  5.685434"
      ]
     },
     "execution_count": 237,
     "metadata": {},
     "output_type": "execute_result"
    }
   ],
   "source": [
    "df1.head(2)"
   ]
  },
  {
   "cell_type": "code",
   "execution_count": 239,
   "id": "23ac4b4e",
   "metadata": {},
   "outputs": [],
   "source": [
    "df1=df1.loc[df['LOCATION']==\"KOR\"]"
   ]
  },
  {
   "cell_type": "code",
   "execution_count": 244,
   "id": "b7da71fd",
   "metadata": {},
   "outputs": [],
   "source": [
    "var=df1.SUBJECT.unique()"
   ]
  },
  {
   "cell_type": "code",
   "execution_count": 245,
   "id": "6839bdd2",
   "metadata": {},
   "outputs": [
    {
     "name": "stdout",
     "output_type": "stream",
     "text": [
      "['BEEF' 'PIG' 'POULTRY' 'SHEEP']\n"
     ]
    }
   ],
   "source": [
    "print(var)"
   ]
  },
  {
   "cell_type": "code",
   "execution_count": 256,
   "id": "25b6a8cc",
   "metadata": {},
   "outputs": [
    {
     "name": "stdout",
     "output_type": "stream",
     "text": [
      "0.835455805530312\n",
      "7.310893225858995\n",
      "0.9406814424683864\n",
      "5.634979881649262\n",
      "0.9514978845444608\n",
      "5.783357902874552\n",
      "0.004082992795654383\n",
      "33.3479658130492\n"
     ]
    }
   ],
   "source": [
    "for i in var:\n",
    "    temp=df1.loc[df['SUBJECT']==i]\n",
    "    model=LinearRegression().fit(temp[['TIME']], temp['Value'])\n",
    "    pred=model.predict(temp[['TIME']] )\n",
    "    r2=model.score(temp[['TIME']],temp['Value'])\n",
    "    mape=(abs(temp['Value']-pred)/temp['Value']).sum()*100/len(temp)\n",
    "    print(r2)\n",
    "    print(mape)"
   ]
  },
  {
   "cell_type": "code",
   "execution_count": null,
   "id": "152d4c50",
   "metadata": {},
   "outputs": [],
   "source": []
  },
  {
   "cell_type": "code",
   "execution_count": null,
   "id": "db4dcfa8",
   "metadata": {},
   "outputs": [],
   "source": []
  },
  {
   "cell_type": "code",
   "execution_count": null,
   "id": "8b8240e7",
   "metadata": {},
   "outputs": [],
   "source": []
  },
  {
   "cell_type": "code",
   "execution_count": null,
   "id": "12b2c3bf",
   "metadata": {},
   "outputs": [],
   "source": []
  },
  {
   "cell_type": "code",
   "execution_count": null,
   "id": "768f138e",
   "metadata": {},
   "outputs": [],
   "source": []
  },
  {
   "cell_type": "code",
   "execution_count": null,
   "id": "a01e909b",
   "metadata": {},
   "outputs": [],
   "source": []
  },
  {
   "cell_type": "code",
   "execution_count": null,
   "id": "24055a59",
   "metadata": {},
   "outputs": [],
   "source": []
  },
  {
   "cell_type": "code",
   "execution_count": null,
   "id": "09b01359",
   "metadata": {},
   "outputs": [],
   "source": []
  },
  {
   "cell_type": "code",
   "execution_count": null,
   "id": "cc9242ce",
   "metadata": {},
   "outputs": [],
   "source": []
  },
  {
   "cell_type": "code",
   "execution_count": null,
   "id": "1fde81e2",
   "metadata": {},
   "outputs": [],
   "source": []
  },
  {
   "cell_type": "code",
   "execution_count": null,
   "id": "4e3f5a89",
   "metadata": {},
   "outputs": [],
   "source": []
  },
  {
   "cell_type": "code",
   "execution_count": null,
   "id": "739e7a03",
   "metadata": {},
   "outputs": [],
   "source": []
  },
  {
   "cell_type": "code",
   "execution_count": null,
   "id": "c6062132",
   "metadata": {},
   "outputs": [],
   "source": []
  }
 ],
 "metadata": {
  "kernelspec": {
   "display_name": "Python 3 (ipykernel)",
   "language": "python",
   "name": "python3"
  },
  "language_info": {
   "codemirror_mode": {
    "name": "ipython",
    "version": 3
   },
   "file_extension": ".py",
   "mimetype": "text/x-python",
   "name": "python",
   "nbconvert_exporter": "python",
   "pygments_lexer": "ipython3",
   "version": "3.11.2"
  }
 },
 "nbformat": 4,
 "nbformat_minor": 5
}
