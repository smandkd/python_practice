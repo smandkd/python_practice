{
 "cells": [
  {
   "cell_type": "code",
   "execution_count": null,
   "id": "6ce779e0",
   "metadata": {},
   "outputs": [],
   "source": []
  },
  {
   "cell_type": "code",
   "execution_count": null,
   "id": "eaab6e19",
   "metadata": {},
   "outputs": [],
   "source": []
  },
  {
   "cell_type": "code",
   "execution_count": null,
   "id": "380de84a",
   "metadata": {},
   "outputs": [],
   "source": []
  },
  {
   "cell_type": "code",
   "execution_count": null,
   "id": "2a180d7c",
   "metadata": {},
   "outputs": [],
   "source": []
  },
  {
   "cell_type": "code",
   "execution_count": 1,
   "id": "7b1e36ba",
   "metadata": {},
   "outputs": [],
   "source": [
    "from sklearn.linear_model import LinearRegression"
   ]
  },
  {
   "cell_type": "code",
   "execution_count": 2,
   "id": "a24a70da",
   "metadata": {},
   "outputs": [
    {
     "ename": "NameError",
     "evalue": "name 'q3' is not defined",
     "output_type": "error",
     "traceback": [
      "\u001b[1;31m---------------------------------------------------------------------------\u001b[0m",
      "\u001b[1;31mNameError\u001b[0m                                 Traceback (most recent call last)",
      "\u001b[1;32m<ipython-input-2-007020258fee>\u001b[0m in \u001b[0;36m<module>\u001b[1;34m\u001b[0m\n\u001b[1;32m----> 1\u001b[1;33m lm = LinearRegression().fit(X = q3[var],\n\u001b[0m\u001b[0;32m      2\u001b[0m                             y = q3.Sales)\n",
      "\u001b[1;31mNameError\u001b[0m: name 'q3' is not defined"
     ]
    }
   ],
   "source": [
    "lm = LinearRegression().fit(X = q3[var],\n",
    "                            y = q3.Sales)"
   ]
  },
  {
   "cell_type": "code",
   "execution_count": 3,
   "id": "8580e675",
   "metadata": {},
   "outputs": [
    {
     "ename": "NameError",
     "evalue": "name 'lm' is not defined",
     "output_type": "error",
     "traceback": [
      "\u001b[1;31m---------------------------------------------------------------------------\u001b[0m",
      "\u001b[1;31mNameError\u001b[0m                                 Traceback (most recent call last)",
      "\u001b[1;32m<ipython-input-3-af3abf2152ad>\u001b[0m in \u001b[0;36m<module>\u001b[1;34m\u001b[0m\n\u001b[1;32m----> 1\u001b[1;33m \u001b[0mlm\u001b[0m\u001b[1;33m.\u001b[0m\u001b[0mcoef_\u001b[0m\u001b[1;33m\u001b[0m\u001b[1;33m\u001b[0m\u001b[0m\n\u001b[0m",
      "\u001b[1;31mNameError\u001b[0m: name 'lm' is not defined"
     ]
    }
   ],
   "source": [
    "lm.coef_"
   ]
  },
  {
   "cell_type": "code",
   "execution_count": null,
   "id": "6d28ceaa",
   "metadata": {},
   "outputs": [],
   "source": [
    "from scipy.stats import chi2_contingency"
   ]
  },
  {
   "cell_type": "code",
   "execution_count": null,
   "id": "4e6691f5",
   "metadata": {},
   "outputs": [],
   "source": [
    "tab = pd.crosstab(index=q2['Sex'], columns=q2['Drug'])"
   ]
  },
  {
   "cell_type": "code",
   "execution_count": null,
   "id": "40e8a885",
   "metadata": {},
   "outputs": [],
   "source": [
    "chi2_contingency(tab)"
   ]
  },
  {
   "cell_type": "code",
   "execution_count": null,
   "id": "0675dc45",
   "metadata": {},
   "outputs": [],
   "source": [
    "from sklearn.tree import DecisionTreeClassifier, export_tree, plot_tree"
   ]
  },
  {
   "cell_type": "code",
   "execution_count": null,
   "id": "57c070f8",
   "metadata": {},
   "outputs": [],
   "source": [
    "dt = DecisionTreeClassifier().fit(q3[var], q3.Drug)"
   ]
  },
  {
   "cell_type": "code",
   "execution_count": null,
   "id": "d11bee5f",
   "metadata": {},
   "outputs": [],
   "source": [
    "export_text(dt)"
   ]
  },
  {
   "cell_type": "code",
   "execution_count": null,
   "id": "d917bef1",
   "metadata": {},
   "outputs": [],
   "source": [
    "print(export_graphviz(model, feature_names=var))"
   ]
  },
  {
   "cell_type": "code",
   "execution_count": null,
   "id": "c494426c",
   "metadata": {},
   "outputs": [],
   "source": [
    "from sklearn.model_selection import train_test_split "
   ]
  },
  {
   "cell_type": "code",
   "execution_count": null,
   "id": "e6dadf62",
   "metadata": {},
   "outputs": [],
   "source": [
    "train, test = train_test_split(df, random_state=123, test_size=0.3)"
   ]
  },
  {
   "cell_type": "code",
   "execution_count": null,
   "id": "f6cb57a0",
   "metadata": {},
   "outputs": [],
   "source": [
    "from sklearn.linear_model import LinearRegression"
   ]
  },
  {
   "cell_type": "code",
   "execution_count": null,
   "id": "4674952e",
   "metadata": {},
   "outputs": [],
   "source": [
    "var = df.columns.drop('gender')"
   ]
  },
  {
   "cell_type": "code",
   "execution_count": null,
   "id": "30bb8941",
   "metadata": {},
   "outputs": [],
   "source": [
    "logit = LogisticRegression().fit(X = train[var], y = train.gender)"
   ]
  },
  {
   "cell_type": "code",
   "execution_count": null,
   "id": "f9312b11",
   "metadata": {},
   "outputs": [],
   "source": [
    "from sklearn.metrics import precision_score"
   ]
  },
  {
   "cell_type": "code",
   "execution_count": null,
   "id": "3b5a4562",
   "metadata": {},
   "outputs": [],
   "source": [
    "pred = predict(test[var])"
   ]
  },
  {
   "cell_type": "code",
   "execution_count": null,
   "id": "871b0efc",
   "metadata": {},
   "outputs": [],
   "source": [
    "from sklearn.metricis import classification_report"
   ]
  },
  {
   "cell_type": "code",
   "execution_count": null,
   "id": "9faf291e",
   "metadata": {},
   "outputs": [],
   "source": [
    "classification_report(test.gender, pred)"
   ]
  },
  {
   "cell_type": "code",
   "execution_count": null,
   "id": "874f1619",
   "metadata": {},
   "outputs": [],
   "source": [
    "data4 = pd.pivot_table(df1, index='TIME',\n",
    "                       vales='Value',\n",
    "                       aggfunc=sum)"
   ]
  },
  {
   "cell_type": "code",
   "execution_count": null,
   "id": "51f3933b",
   "metadata": {},
   "outputs": [],
   "source": []
  },
  {
   "cell_type": "code",
   "execution_count": null,
   "id": "7e62893c",
   "metadata": {},
   "outputs": [],
   "source": []
  },
  {
   "cell_type": "code",
   "execution_count": null,
   "id": "1f346b0d",
   "metadata": {},
   "outputs": [],
   "source": []
  },
  {
   "cell_type": "code",
   "execution_count": null,
   "id": "d015a622",
   "metadata": {},
   "outputs": [],
   "source": []
  },
  {
   "cell_type": "code",
   "execution_count": null,
   "id": "039026bb",
   "metadata": {},
   "outputs": [],
   "source": []
  },
  {
   "cell_type": "code",
   "execution_count": null,
   "id": "eb2a4601",
   "metadata": {},
   "outputs": [],
   "source": []
  },
  {
   "cell_type": "code",
   "execution_count": null,
   "id": "d0e860a2",
   "metadata": {},
   "outputs": [],
   "source": []
  },
  {
   "cell_type": "code",
   "execution_count": null,
   "id": "5c7b3ead",
   "metadata": {},
   "outputs": [],
   "source": []
  }
 ],
 "metadata": {
  "kernelspec": {
   "display_name": "Python 3",
   "language": "python",
   "name": "python3"
  },
  "language_info": {
   "codemirror_mode": {
    "name": "ipython",
    "version": 3
   },
   "file_extension": ".py",
   "mimetype": "text/x-python",
   "name": "python",
   "nbconvert_exporter": "python",
   "pygments_lexer": "ipython3",
   "version": "3.8.8"
  }
 },
 "nbformat": 4,
 "nbformat_minor": 5
}
